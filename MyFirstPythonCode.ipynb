{
 "cells": [
  {
   "cell_type": "code",
   "execution_count": 1,
   "id": "22f17bd3",
   "metadata": {},
   "outputs": [
    {
     "name": "stdout",
     "output_type": "stream",
     "text": [
      "Merhaba Bilgisayar Programcısı!\n"
     ]
    }
   ],
   "source": [
    "print(\"Merhaba Bilgisayar Programcısı!\")"
   ]
  },
  {
   "cell_type": "code",
   "execution_count": 2,
   "id": "86f8e04e",
   "metadata": {},
   "outputs": [
    {
     "name": "stdout",
     "output_type": "stream",
     "text": [
      "Requirement already satisfied: sqlalchemy in c:\\users\\monster\\anaconda3\\lib\\site-packages (2.0.25)\n",
      "Requirement already satisfied: typing-extensions>=4.6.0 in c:\\users\\monster\\anaconda3\\lib\\site-packages (from sqlalchemy) (4.9.0)\n",
      "Requirement already satisfied: greenlet!=0.4.17 in c:\\users\\monster\\anaconda3\\lib\\site-packages (from sqlalchemy) (3.0.1)\n",
      "Note: you may need to restart the kernel to use updated packages.\n"
     ]
    }
   ],
   "source": [
    "pip install sqlalchemy"
   ]
  },
  {
   "cell_type": "code",
   "execution_count": 3,
   "id": "b10365dd",
   "metadata": {},
   "outputs": [],
   "source": [
    "# SQLite için gerekli paketin çağırılması\n",
    "import sqlite3"
   ]
  },
  {
   "cell_type": "code",
   "execution_count": 4,
   "id": "d2fbe777",
   "metadata": {},
   "outputs": [],
   "source": [
    "# Veri tabanına bağlanma ve bağlantıyı \"Conn\" değişkenine yükleme\n",
    "conn = sqlite3.connect(\"MyFirstDB\")"
   ]
  },
  {
   "cell_type": "code",
   "execution_count": 5,
   "id": "ef8b8910",
   "metadata": {},
   "outputs": [
    {
     "data": {
      "text/plain": [
       "<sqlite3.Cursor at 0x107ff8e4740>"
      ]
     },
     "execution_count": 5,
     "metadata": {},
     "output_type": "execute_result"
    }
   ],
   "source": [
    "# Veri tabanı ile iletişim sağlayacak bir \"Cursor\" elemanı oluşturma\n",
    "cursor = conn.cursor()\n",
    "\n",
    "# SQL komutunu \"Cursor\" kullanarak çalıştırma\n",
    "cursor.execute(\"CREATE TABLE Pozisyon (id INTEGER PRIMARY KEY, calisan_id INTEGER NOT NULL, unvan VARCHAR(255), baslangicTarihi INTEGER, bitisTarihi INTEGER);\")"
   ]
  },
  {
   "cell_type": "code",
   "execution_count": 6,
   "id": "4da13793",
   "metadata": {},
   "outputs": [],
   "source": [
    "# Yapılan değişikliklerin veri tabanı üzerine kaydedilmesi\n",
    "conn.commit()\n",
    "\n",
    "# Veri tabanı bağlantısını kapatma\n",
    "conn.close()"
   ]
  },
  {
   "cell_type": "code",
   "execution_count": 7,
   "id": "eabbd986",
   "metadata": {},
   "outputs": [
    {
     "ename": "ProgrammingError",
     "evalue": "Cannot operate on a closed database.",
     "output_type": "error",
     "traceback": [
      "\u001b[1;31m---------------------------------------------------------------------------\u001b[0m",
      "\u001b[1;31mProgrammingError\u001b[0m                          Traceback (most recent call last)",
      "Cell \u001b[1;32mIn[7], line 2\u001b[0m\n\u001b[0;32m      1\u001b[0m \u001b[38;5;66;03m# Veri tabanında yer alan tabloları listeleyen SQL kodunu çalıştırma\u001b[39;00m\n\u001b[1;32m----> 2\u001b[0m cursor\u001b[38;5;241m.\u001b[39mexecute(\u001b[38;5;124m\"\u001b[39m\u001b[38;5;124mSELECT name FROM sqlite_master WHERE type=\u001b[39m\u001b[38;5;124m'\u001b[39m\u001b[38;5;124mtable\u001b[39m\u001b[38;5;124m'\u001b[39m\u001b[38;5;124m;\u001b[39m\u001b[38;5;124m\"\u001b[39m)\n\u001b[0;32m      4\u001b[0m \u001b[38;5;66;03m# SQL sonucunda oluşan yanıtı \"tables\" değişkenine yükleme\u001b[39;00m\n\u001b[0;32m      5\u001b[0m tables \u001b[38;5;241m=\u001b[39m cursor\u001b[38;5;241m.\u001b[39mfetchall()\n",
      "\u001b[1;31mProgrammingError\u001b[0m: Cannot operate on a closed database."
     ]
    }
   ],
   "source": [
    "# Veri tabanında yer alan tabloları listeleyen SQL kodunu çalıştırma\n",
    "cursor.execute(\"SELECT name FROM sqlite_master WHERE type='table';\")\n",
    "\n",
    "# SQL sonucunda oluşan yanıtı \"tables\" değişkenine yükleme\n",
    "tables = cursor.fetchall()\n",
    "\n",
    "# \"tables\" değişkeni içerisinde neler olduğuna bakma\n",
    "print(tables)"
   ]
  },
  {
   "cell_type": "code",
   "execution_count": 8,
   "id": "b75186cd",
   "metadata": {},
   "outputs": [],
   "source": [
    "# SQLite için gerekli paketin çağırılması\n",
    "import sqlite3\n",
    "\n",
    "# Veri tabanına bağlanma ve bağlantıyı bir değişkene yükleme (conn)\n",
    "conn = sqlite3.connect(\"MyFirstDB\")"
   ]
  },
  {
   "cell_type": "code",
   "execution_count": 9,
   "id": "abefd6df",
   "metadata": {},
   "outputs": [
    {
     "ename": "ProgrammingError",
     "evalue": "Cannot operate on a closed database.",
     "output_type": "error",
     "traceback": [
      "\u001b[1;31m---------------------------------------------------------------------------\u001b[0m",
      "\u001b[1;31mProgrammingError\u001b[0m                          Traceback (most recent call last)",
      "Cell \u001b[1;32mIn[9], line 2\u001b[0m\n\u001b[0;32m      1\u001b[0m \u001b[38;5;66;03m# Veri tabanında yer alan tabloları listeleyen SQL kodunu çalıştırma\u001b[39;00m\n\u001b[1;32m----> 2\u001b[0m cursor\u001b[38;5;241m.\u001b[39mexecute(\u001b[38;5;124m\"\u001b[39m\u001b[38;5;124mSELECT name FROM sqlite_master WHERE type=\u001b[39m\u001b[38;5;124m'\u001b[39m\u001b[38;5;124mtable\u001b[39m\u001b[38;5;124m'\u001b[39m\u001b[38;5;124m;\u001b[39m\u001b[38;5;124m\"\u001b[39m)\n\u001b[0;32m      4\u001b[0m \u001b[38;5;66;03m# SQL sonucunda oluşan yanıtı \"tables\" değişkenine yükleme\u001b[39;00m\n\u001b[0;32m      5\u001b[0m tables \u001b[38;5;241m=\u001b[39m cursor\u001b[38;5;241m.\u001b[39mfetchall()\n",
      "\u001b[1;31mProgrammingError\u001b[0m: Cannot operate on a closed database."
     ]
    }
   ],
   "source": [
    "# Veri tabanında yer alan tabloları listeleyen SQL kodunu çalıştırma\n",
    "cursor.execute(\"SELECT name FROM sqlite_master WHERE type='table';\")\n",
    "\n",
    "# SQL sonucunda oluşan yanıtı \"tables\" değişkenine yükleme\n",
    "tables = cursor.fetchall()\n",
    "\n",
    "# \"tables\" değişkeni içerisinde neler olduğuna bakma\n",
    "print(tables)"
   ]
  },
  {
   "cell_type": "code",
   "execution_count": 10,
   "id": "4e80ab6d",
   "metadata": {},
   "outputs": [],
   "source": [
    "# SQLite için gerekli paketin çağırılması\n",
    "import sqlite3"
   ]
  },
  {
   "cell_type": "code",
   "execution_count": 11,
   "id": "c48600d4",
   "metadata": {},
   "outputs": [],
   "source": [
    "# Veri tabanına bağlanma ve bağlantıyı \"Conn\" değişkenine yükleme\n",
    "conn = sqlite3.connect(\"MyFirstDB\")"
   ]
  },
  {
   "cell_type": "code",
   "execution_count": 12,
   "id": "99df8052",
   "metadata": {},
   "outputs": [
    {
     "ename": "ProgrammingError",
     "evalue": "Cannot operate on a closed database.",
     "output_type": "error",
     "traceback": [
      "\u001b[1;31m---------------------------------------------------------------------------\u001b[0m",
      "\u001b[1;31mProgrammingError\u001b[0m                          Traceback (most recent call last)",
      "Cell \u001b[1;32mIn[12], line 1\u001b[0m\n\u001b[1;32m----> 1\u001b[0m cursor\u001b[38;5;241m.\u001b[39mexecute(\u001b[38;5;124m\"\u001b[39m\u001b[38;5;124mSELECT name FROM sqlite_master WHERE type=\u001b[39m\u001b[38;5;124m'\u001b[39m\u001b[38;5;124mtable\u001b[39m\u001b[38;5;124m'\u001b[39m\u001b[38;5;124m;\u001b[39m\u001b[38;5;124m\"\u001b[39m)\n",
      "\u001b[1;31mProgrammingError\u001b[0m: Cannot operate on a closed database."
     ]
    }
   ],
   "source": [
    "# Veri tabanında yer alan tabloları listeleyen SQL kodunu çalıştırma\n",
    "\n",
    "cursor.execute(\"SELECT name FROM sqlite_master WHERE type='table';\")"
   ]
  },
  {
   "cell_type": "code",
   "execution_count": 13,
   "id": "de62db50",
   "metadata": {},
   "outputs": [],
   "source": [
    "# Veri tabanı ile iletişim sağlayacak bir \"Cursor\" elemanı oluşturma\n",
    "cursor = conn.cursor()"
   ]
  },
  {
   "cell_type": "code",
   "execution_count": 14,
   "id": "a19fee41",
   "metadata": {},
   "outputs": [
    {
     "data": {
      "text/plain": [
       "<sqlite3.Cursor at 0x107816449c0>"
      ]
     },
     "execution_count": 14,
     "metadata": {},
     "output_type": "execute_result"
    }
   ],
   "source": [
    "# Veri tabanında yer alan tabloları listeleyen SQL kodunu çalıştırma\n",
    "cursor.execute(\"SELECT name FROM sqlite_master WHERE type='table';\")"
   ]
  },
  {
   "cell_type": "code",
   "execution_count": 15,
   "id": "6fe990e6",
   "metadata": {},
   "outputs": [],
   "source": [
    "# SQL sonucunda oluşan yanıtı \"tables\" değişkenine yükleme\n",
    "tables = cursor.fetchall()"
   ]
  },
  {
   "cell_type": "code",
   "execution_count": 16,
   "id": "29515153",
   "metadata": {},
   "outputs": [
    {
     "name": "stdout",
     "output_type": "stream",
     "text": [
      "[('Calisan',), ('Bolum',), ('Pozisyon',)]\n"
     ]
    }
   ],
   "source": [
    "# \"tables\" değişkeni içerisinde neler olduğuna bakma\n",
    "print(tables)"
   ]
  },
  {
   "cell_type": "code",
   "execution_count": 17,
   "id": "9b5469af",
   "metadata": {},
   "outputs": [
    {
     "data": {
      "text/plain": [
       "<sqlite3.Cursor at 0x107816449c0>"
      ]
     },
     "execution_count": 17,
     "metadata": {},
     "output_type": "execute_result"
    }
   ],
   "source": [
    "# SQL komutunu \"Cursor\" kullanarak çalıştırma\n",
    "cursor.execute(\"CREATE TABLE Maas (id INTEGER PRIMARY KEY, calisan_id INTEGER NOT NULL, ucret REAL, baslangicTarihi INTEGER, bitisTarihi INTEGER);\")"
   ]
  },
  {
   "cell_type": "code",
   "execution_count": 18,
   "id": "ca11daa6",
   "metadata": {},
   "outputs": [
    {
     "name": "stdout",
     "output_type": "stream",
     "text": [
      "[('Calisan',), ('Bolum',), ('Pozisyon',), ('Maas',)]\n"
     ]
    }
   ],
   "source": [
    "# Veri tabanında yer alan tabloları listeleyen SQL kodunu çalıştırma\n",
    "cursor.execute(\"SELECT name FROM sqlite_master WHERE type='table';\")\n",
    "\n",
    "# SQL sonucunda oluşan yanıtı \"tables\" değişkenine yükleme\n",
    "tables = cursor.fetchall()\n",
    "\n",
    "# \"tables\" değişkeni içerisinde neler olduğuna bakma\n",
    "print(tables)"
   ]
  },
  {
   "cell_type": "code",
   "execution_count": 19,
   "id": "3b934789",
   "metadata": {},
   "outputs": [],
   "source": [
    "# Yapılan değişikliklerin veri tabanı üzerine kaydedilmesi\n",
    "conn.commit()\n",
    "\n",
    "# Veri tabanı bağlantısını kapatma\n",
    "conn.close()"
   ]
  },
  {
   "cell_type": "code",
   "execution_count": 20,
   "id": "cd584442",
   "metadata": {},
   "outputs": [],
   "source": [
    "# Python içerisinde kullanılan ORM paketi \"SQLAlchemy\"’i, alt paketleriyle birlikte çağırma\n",
    "import sqlalchemy\n",
    "from sqlalchemy import create_engine, Column, Integer, String, Date, ForeignKey\n",
    "from sqlalchemy.ext.declarative import declarative_base\n",
    "from sqlalchemy.orm import relationship"
   ]
  },
  {
   "cell_type": "code",
   "execution_count": 21,
   "id": "598a0f88",
   "metadata": {},
   "outputs": [
    {
     "name": "stderr",
     "output_type": "stream",
     "text": [
      "C:\\Users\\Monster\\AppData\\Local\\Temp\\ipykernel_20872\\1816124797.py:3: MovedIn20Warning: The ``declarative_base()`` function is now available as sqlalchemy.orm.declarative_base(). (deprecated since: 2.0) (Background on SQLAlchemy 2.0 at: https://sqlalche.me/e/b8d9)\n",
      "  Base = declarative_base()\n"
     ]
    }
   ],
   "source": [
    "# Veri tabanı motorunu oluşturma\n",
    "engine = create_engine('sqlite:///MyFirstDB')\n",
    "Base = declarative_base()"
   ]
  },
  {
   "cell_type": "code",
   "execution_count": 22,
   "id": "c27968d1",
   "metadata": {},
   "outputs": [
    {
     "ename": "ArgumentError",
     "evalue": "Invalid SQLite URL: sqlite://MyFirstDB\nValid SQLite URL forms are:\n sqlite:///:memory: (or, sqlite://)\n sqlite:///relative/path/to/file.db\n sqlite:////absolute/path/to/file.db",
     "output_type": "error",
     "traceback": [
      "\u001b[1;31m---------------------------------------------------------------------------\u001b[0m",
      "\u001b[1;31mArgumentError\u001b[0m                             Traceback (most recent call last)",
      "Cell \u001b[1;32mIn[22], line 2\u001b[0m\n\u001b[0;32m      1\u001b[0m \u001b[38;5;66;03m# Veri tabanı motorunu oluşturma\u001b[39;00m\n\u001b[1;32m----> 2\u001b[0m engine \u001b[38;5;241m=\u001b[39m create_engine(\u001b[38;5;124m'\u001b[39m\u001b[38;5;124msqlite://MyFirstDB\u001b[39m\u001b[38;5;124m'\u001b[39m)\n\u001b[0;32m      3\u001b[0m Base \u001b[38;5;241m=\u001b[39m declarative_base()\n",
      "File \u001b[1;32m<string>:2\u001b[0m, in \u001b[0;36mcreate_engine\u001b[1;34m(url, **kwargs)\u001b[0m\n",
      "File \u001b[1;32m~\\anaconda3\\Lib\\site-packages\\sqlalchemy\\util\\deprecations.py:281\u001b[0m, in \u001b[0;36mdeprecated_params.<locals>.decorate.<locals>.warned\u001b[1;34m(fn, *args, **kwargs)\u001b[0m\n\u001b[0;32m    274\u001b[0m     \u001b[38;5;28;01mif\u001b[39;00m m \u001b[38;5;129;01min\u001b[39;00m kwargs:\n\u001b[0;32m    275\u001b[0m         _warn_with_version(\n\u001b[0;32m    276\u001b[0m             messages[m],\n\u001b[0;32m    277\u001b[0m             versions[m],\n\u001b[0;32m    278\u001b[0m             version_warnings[m],\n\u001b[0;32m    279\u001b[0m             stacklevel\u001b[38;5;241m=\u001b[39m\u001b[38;5;241m3\u001b[39m,\n\u001b[0;32m    280\u001b[0m         )\n\u001b[1;32m--> 281\u001b[0m \u001b[38;5;28;01mreturn\u001b[39;00m fn(\u001b[38;5;241m*\u001b[39margs, \u001b[38;5;241m*\u001b[39m\u001b[38;5;241m*\u001b[39mkwargs)\n",
      "File \u001b[1;32m~\\anaconda3\\Lib\\site-packages\\sqlalchemy\\engine\\create.py:617\u001b[0m, in \u001b[0;36mcreate_engine\u001b[1;34m(url, **kwargs)\u001b[0m\n\u001b[0;32m    614\u001b[0m dialect \u001b[38;5;241m=\u001b[39m dialect_cls(\u001b[38;5;241m*\u001b[39m\u001b[38;5;241m*\u001b[39mdialect_args)\n\u001b[0;32m    616\u001b[0m \u001b[38;5;66;03m# assemble connection arguments\u001b[39;00m\n\u001b[1;32m--> 617\u001b[0m (cargs_tup, cparams) \u001b[38;5;241m=\u001b[39m dialect\u001b[38;5;241m.\u001b[39mcreate_connect_args(u)\n\u001b[0;32m    618\u001b[0m cparams\u001b[38;5;241m.\u001b[39mupdate(pop_kwarg(\u001b[38;5;124m\"\u001b[39m\u001b[38;5;124mconnect_args\u001b[39m\u001b[38;5;124m\"\u001b[39m, {}))\n\u001b[0;32m    620\u001b[0m \u001b[38;5;28;01mif\u001b[39;00m \u001b[38;5;124m\"\u001b[39m\u001b[38;5;124masync_fallback\u001b[39m\u001b[38;5;124m\"\u001b[39m \u001b[38;5;129;01min\u001b[39;00m cparams \u001b[38;5;129;01mand\u001b[39;00m util\u001b[38;5;241m.\u001b[39masbool(cparams[\u001b[38;5;124m\"\u001b[39m\u001b[38;5;124masync_fallback\u001b[39m\u001b[38;5;124m\"\u001b[39m]):\n",
      "File \u001b[1;32m~\\anaconda3\\Lib\\site-packages\\sqlalchemy\\dialects\\sqlite\\pysqlite.py:580\u001b[0m, in \u001b[0;36mSQLiteDialect_pysqlite.create_connect_args\u001b[1;34m(self, url)\u001b[0m\n\u001b[0;32m    578\u001b[0m \u001b[38;5;28;01mdef\u001b[39;00m \u001b[38;5;21mcreate_connect_args\u001b[39m(\u001b[38;5;28mself\u001b[39m, url):\n\u001b[0;32m    579\u001b[0m     \u001b[38;5;28;01mif\u001b[39;00m url\u001b[38;5;241m.\u001b[39musername \u001b[38;5;129;01mor\u001b[39;00m url\u001b[38;5;241m.\u001b[39mpassword \u001b[38;5;129;01mor\u001b[39;00m url\u001b[38;5;241m.\u001b[39mhost \u001b[38;5;129;01mor\u001b[39;00m url\u001b[38;5;241m.\u001b[39mport:\n\u001b[1;32m--> 580\u001b[0m         \u001b[38;5;28;01mraise\u001b[39;00m exc\u001b[38;5;241m.\u001b[39mArgumentError(\n\u001b[0;32m    581\u001b[0m             \u001b[38;5;124m\"\u001b[39m\u001b[38;5;124mInvalid SQLite URL: \u001b[39m\u001b[38;5;132;01m%s\u001b[39;00m\u001b[38;5;130;01m\\n\u001b[39;00m\u001b[38;5;124m\"\u001b[39m\n\u001b[0;32m    582\u001b[0m             \u001b[38;5;124m\"\u001b[39m\u001b[38;5;124mValid SQLite URL forms are:\u001b[39m\u001b[38;5;130;01m\\n\u001b[39;00m\u001b[38;5;124m\"\u001b[39m\n\u001b[0;32m    583\u001b[0m             \u001b[38;5;124m\"\u001b[39m\u001b[38;5;124m sqlite:///:memory: (or, sqlite://)\u001b[39m\u001b[38;5;130;01m\\n\u001b[39;00m\u001b[38;5;124m\"\u001b[39m\n\u001b[0;32m    584\u001b[0m             \u001b[38;5;124m\"\u001b[39m\u001b[38;5;124m sqlite:///relative/path/to/file.db\u001b[39m\u001b[38;5;130;01m\\n\u001b[39;00m\u001b[38;5;124m\"\u001b[39m\n\u001b[0;32m    585\u001b[0m             \u001b[38;5;124m\"\u001b[39m\u001b[38;5;124m sqlite:////absolute/path/to/file.db\u001b[39m\u001b[38;5;124m\"\u001b[39m \u001b[38;5;241m%\u001b[39m (url,)\n\u001b[0;32m    586\u001b[0m         )\n\u001b[0;32m    588\u001b[0m     \u001b[38;5;66;03m# theoretically, this list can be augmented, at least as far as\u001b[39;00m\n\u001b[0;32m    589\u001b[0m     \u001b[38;5;66;03m# parameter names accepted by sqlite3/pysqlite, using\u001b[39;00m\n\u001b[0;32m    590\u001b[0m     \u001b[38;5;66;03m# inspect.getfullargspec().  for the moment this seems like overkill\u001b[39;00m\n\u001b[0;32m    591\u001b[0m     \u001b[38;5;66;03m# as these parameters don't change very often, and as always,\u001b[39;00m\n\u001b[0;32m    592\u001b[0m     \u001b[38;5;66;03m# parameters passed to connect_args will always go to the\u001b[39;00m\n\u001b[0;32m    593\u001b[0m     \u001b[38;5;66;03m# sqlite3/pysqlite driver.\u001b[39;00m\n\u001b[0;32m    594\u001b[0m     pysqlite_args \u001b[38;5;241m=\u001b[39m [\n\u001b[0;32m    595\u001b[0m         (\u001b[38;5;124m\"\u001b[39m\u001b[38;5;124muri\u001b[39m\u001b[38;5;124m\"\u001b[39m, \u001b[38;5;28mbool\u001b[39m),\n\u001b[0;32m    596\u001b[0m         (\u001b[38;5;124m\"\u001b[39m\u001b[38;5;124mtimeout\u001b[39m\u001b[38;5;124m\"\u001b[39m, \u001b[38;5;28mfloat\u001b[39m),\n\u001b[1;32m   (...)\u001b[0m\n\u001b[0;32m    600\u001b[0m         (\u001b[38;5;124m\"\u001b[39m\u001b[38;5;124mcached_statements\u001b[39m\u001b[38;5;124m\"\u001b[39m, \u001b[38;5;28mint\u001b[39m),\n\u001b[0;32m    601\u001b[0m     ]\n",
      "\u001b[1;31mArgumentError\u001b[0m: Invalid SQLite URL: sqlite://MyFirstDB\nValid SQLite URL forms are:\n sqlite:///:memory: (or, sqlite://)\n sqlite:///relative/path/to/file.db\n sqlite:////absolute/path/to/file.db"
     ]
    }
   ],
   "source": [
    "# Veri tabanı motorunu oluşturma\n",
    "engine = create_engine('sqlite://MyFirstDB')\n",
    "Base = declarative_base()"
   ]
  },
  {
   "cell_type": "code",
   "execution_count": 23,
   "id": "a4b31e4c",
   "metadata": {},
   "outputs": [
    {
     "name": "stderr",
     "output_type": "stream",
     "text": [
      "C:\\Users\\Monster\\AppData\\Local\\Temp\\ipykernel_20872\\1816124797.py:3: MovedIn20Warning: The ``declarative_base()`` function is now available as sqlalchemy.orm.declarative_base(). (deprecated since: 2.0) (Background on SQLAlchemy 2.0 at: https://sqlalche.me/e/b8d9)\n",
      "  Base = declarative_base()\n"
     ]
    }
   ],
   "source": [
    "# Veri tabanı motorunu oluşturma\n",
    "engine = create_engine('sqlite:///MyFirstDB')\n",
    "Base = declarative_base()"
   ]
  },
  {
   "cell_type": "code",
   "execution_count": 24,
   "id": "d9e4e18e",
   "metadata": {},
   "outputs": [],
   "source": [
    "# Veri tabanı motorunu oluşturma\n",
    "engine = create_engine('sqlite:///MyFirstDB')"
   ]
  },
  {
   "cell_type": "code",
   "execution_count": 25,
   "id": "2d26a950",
   "metadata": {},
   "outputs": [
    {
     "data": {
      "text/plain": [
       "sqlalchemy.orm.decl_api.Base"
      ]
     },
     "execution_count": 25,
     "metadata": {},
     "output_type": "execute_result"
    }
   ],
   "source": [
    "sqlalchemy.orm.declarative_base()"
   ]
  },
  {
   "cell_type": "code",
   "execution_count": 26,
   "id": "105d034f",
   "metadata": {},
   "outputs": [],
   "source": [
    "Base = sqlalchemy.orm.declarative_base()"
   ]
  },
  {
   "cell_type": "code",
   "execution_count": 27,
   "id": "01abd1ff",
   "metadata": {},
   "outputs": [
    {
     "ename": "SyntaxError",
     "evalue": "invalid syntax (1461444530.py, line 4)",
     "output_type": "error",
     "traceback": [
      "\u001b[1;36m  Cell \u001b[1;32mIn[27], line 4\u001b[1;36m\u001b[0m\n\u001b[1;33m    from sqlalchemy.ext.declarative import sqlalchemy.orm.declarative_base\u001b[0m\n\u001b[1;37m                                                     ^\u001b[0m\n\u001b[1;31mSyntaxError\u001b[0m\u001b[1;31m:\u001b[0m invalid syntax\n"
     ]
    }
   ],
   "source": [
    "# Python içerisinde kullanılan ORM paketi \"SQLAlchemy\"’i, alt paketleriyle birlikte çağırma\n",
    "import sqlalchemy\n",
    "from sqlalchemy import create_engine, Column, Integer, String, Date, ForeignKey\n",
    "from sqlalchemy.ext.declarative import sqlalchemy.orm.declarative_base\n",
    "from sqlalchemy.orm import relationship"
   ]
  },
  {
   "cell_type": "code",
   "execution_count": 28,
   "id": "dcae466c",
   "metadata": {},
   "outputs": [],
   "source": [
    "# Python içerisinde kullanılan ORM paketi \"SQLAlchemy\"’i, alt paketleriyle birlikte çağırma\n",
    "import sqlalchemy\n",
    "from sqlalchemy import create_engine, Column, Integer, String, Date, ForeignKey\n",
    "from sqlalchemy.ext.declarative import declarative_base\n",
    "from sqlalchemy.orm import relationship"
   ]
  },
  {
   "cell_type": "code",
   "execution_count": 29,
   "id": "61edfdf2",
   "metadata": {},
   "outputs": [],
   "source": [
    "# Veri tabanı motorunu oluşturma\n",
    "engine = create_engine('sqlite:///MyFirstDB')\n",
    "Base = sqlalchemy.orm.declarative_base()"
   ]
  },
  {
   "cell_type": "code",
   "execution_count": 30,
   "id": "8dfd7ee1",
   "metadata": {},
   "outputs": [],
   "source": [
    "# \"Yöneticilik\" sınıfını tanımlayarak \"Base\" değişkenini aldırmayla \"SQLAlchemy\"'nin veri tabanıyla bağlantı kurmasını sağlama\n",
    "class Yoneticilik(Base):\n",
    "    __tablename__ = 'Yoneticilik'\n",
    "    id = Column(Integer, primary_key=True)\n",
    "    calisan_id = Column(Integer)\n",
    "    bolum_id = Column(Integer)\n",
    "    baslangicTarihi = Column(Date)\n",
    "    bitisTarihi = Column(Date)"
   ]
  },
  {
   "cell_type": "code",
   "execution_count": 31,
   "id": "159ea4d6",
   "metadata": {},
   "outputs": [],
   "source": [
    "# Tanımlanan sınıfları veri tabanı üzerinde oluşturma ve tanımlama\n",
    "Base.metadata.create_all(engine)"
   ]
  },
  {
   "cell_type": "code",
   "execution_count": 32,
   "id": "26e0b3e4",
   "metadata": {},
   "outputs": [],
   "source": [
    "# \"Bölüm Çalışanı\" sınıfını tanımlayarak \"Base\" değişkenini aldırmayla \"SQLAlchemy\"'nin veri tabanıyla bağlantı kurmasını sağlama\n",
    "class BolumCalisan(Base):\n",
    "    __tablename__ = 'Bolumcalisan'\n",
    "    id = Column(Integer, primary_key=True)\n",
    "    calisan_id = Column(Integer)\n",
    "    bolum_id = Column(Integer)\n",
    "    baslangicTarihi = Column(Date)\n",
    "    bitisTarihi = Column(Date)"
   ]
  },
  {
   "cell_type": "code",
   "execution_count": 33,
   "id": "10cabe2d",
   "metadata": {},
   "outputs": [],
   "source": [
    "# Tanımlanan sınıfları veri tabanı üzerinde oluşturma ve tanımlama\n",
    "Base.metadata.create_all(engine)"
   ]
  },
  {
   "cell_type": "code",
   "execution_count": 34,
   "id": "666dea26",
   "metadata": {},
   "outputs": [],
   "source": [
    "# Python içerisinde kullanılan ORM paketi \"SQLAlchemy\"’i, alt paketleriyle birlikte çağırma\n",
    "import sqlalchemy\n",
    "from sqlalchemy import create_engine, Column, Integer, String, Date, ForeignKey\n",
    "from sqlalchemy.ext.declarative import declarative_base\n",
    "from sqlalchemy.orm import relationship"
   ]
  },
  {
   "cell_type": "code",
   "execution_count": 35,
   "id": "ab8f8654",
   "metadata": {},
   "outputs": [],
   "source": [
    "# Veri tabanı motorunu oluşturma\n",
    "engine = create_engine('sqlite:///MyFirstDB')\n",
    "Base = sqlalchemy.orm.declarative_base()"
   ]
  },
  {
   "cell_type": "code",
   "execution_count": 36,
   "id": "87025fa4",
   "metadata": {},
   "outputs": [],
   "source": [
    "# \"Çalışan\" sınıfını tanımlayarak \"Base\" değişkenini aldırmayla \"SQLAlchemy\"'nin veri tabanıyla bağlantı kurmasını sağlama\n",
    "class BolumCalisan(Base):\n",
    "    __tablename__ = 'Calisan'\n",
    "    id = Column(Integer, primary_key=True)\n",
    "    calisan_id = Column(Integer)\n",
    "    bolum_id = Column(Integer)\n",
    "    baslangicTarihi = Column(Date)\n",
    "    bitisTarihi = Column(Date)\n",
    "    \n",
    "    pozisyon = relationship(\"Pozisyon\")\n",
    "    maas = relationship(\"Maas\")\n",
    "    yoneticilik = relationship(\"Pozisyon\")\n",
    "    bolumcalisan = relationship(\"BolumCalisan\")"
   ]
  },
  {
   "cell_type": "code",
   "execution_count": 37,
   "id": "ae9f921c",
   "metadata": {},
   "outputs": [
    {
     "ename": "InvalidRequestError",
     "evalue": "Table 'Calisan' is already defined for this MetaData instance.  Specify 'extend_existing=True' to redefine options and columns on an existing Table object.",
     "output_type": "error",
     "traceback": [
      "\u001b[1;31m---------------------------------------------------------------------------\u001b[0m",
      "\u001b[1;31mInvalidRequestError\u001b[0m                       Traceback (most recent call last)",
      "Cell \u001b[1;32mIn[37], line 2\u001b[0m\n\u001b[0;32m      1\u001b[0m \u001b[38;5;66;03m# \"Çalışan\" sınıfını tanımlayarak \"Base\" değişkenini aldırmayla \"SQLAlchemy\"'nin veri tabanıyla bağlantı kurmasını sağlama\u001b[39;00m\n\u001b[1;32m----> 2\u001b[0m \u001b[38;5;28;01mclass\u001b[39;00m \u001b[38;5;21;01mCalisan\u001b[39;00m(Base):\n\u001b[0;32m      3\u001b[0m     __tablename__ \u001b[38;5;241m=\u001b[39m \u001b[38;5;124m'\u001b[39m\u001b[38;5;124mCalisan\u001b[39m\u001b[38;5;124m'\u001b[39m\n\u001b[0;32m      4\u001b[0m     \u001b[38;5;28mid\u001b[39m \u001b[38;5;241m=\u001b[39m Column(Integer, primary_key\u001b[38;5;241m=\u001b[39m\u001b[38;5;28;01mTrue\u001b[39;00m)\n",
      "File \u001b[1;32m~\\anaconda3\\Lib\\site-packages\\sqlalchemy\\orm\\decl_api.py:196\u001b[0m, in \u001b[0;36mDeclarativeMeta.__init__\u001b[1;34m(cls, classname, bases, dict_, **kw)\u001b[0m\n\u001b[0;32m    193\u001b[0m         \u001b[38;5;28mcls\u001b[39m\u001b[38;5;241m.\u001b[39m_sa_registry \u001b[38;5;241m=\u001b[39m reg\n\u001b[0;32m    195\u001b[0m \u001b[38;5;28;01mif\u001b[39;00m \u001b[38;5;129;01mnot\u001b[39;00m \u001b[38;5;28mcls\u001b[39m\u001b[38;5;241m.\u001b[39m\u001b[38;5;18m__dict__\u001b[39m\u001b[38;5;241m.\u001b[39mget(\u001b[38;5;124m\"\u001b[39m\u001b[38;5;124m__abstract__\u001b[39m\u001b[38;5;124m\"\u001b[39m, \u001b[38;5;28;01mFalse\u001b[39;00m):\n\u001b[1;32m--> 196\u001b[0m     _as_declarative(reg, \u001b[38;5;28mcls\u001b[39m, dict_)\n\u001b[0;32m    197\u001b[0m \u001b[38;5;28mtype\u001b[39m\u001b[38;5;241m.\u001b[39m\u001b[38;5;21m__init__\u001b[39m(\u001b[38;5;28mcls\u001b[39m, classname, bases, dict_)\n",
      "File \u001b[1;32m~\\anaconda3\\Lib\\site-packages\\sqlalchemy\\orm\\decl_base.py:247\u001b[0m, in \u001b[0;36m_as_declarative\u001b[1;34m(registry, cls, dict_)\u001b[0m\n\u001b[0;32m    242\u001b[0m \u001b[38;5;28;01mdef\u001b[39;00m \u001b[38;5;21m_as_declarative\u001b[39m(\n\u001b[0;32m    243\u001b[0m     registry: _RegistryType, \u001b[38;5;28mcls\u001b[39m: Type[Any], dict_: _ClassDict\n\u001b[0;32m    244\u001b[0m ) \u001b[38;5;241m-\u001b[39m\u001b[38;5;241m>\u001b[39m Optional[_MapperConfig]:\n\u001b[0;32m    245\u001b[0m     \u001b[38;5;66;03m# declarative scans the class for attributes.  no table or mapper\u001b[39;00m\n\u001b[0;32m    246\u001b[0m     \u001b[38;5;66;03m# args passed separately.\u001b[39;00m\n\u001b[1;32m--> 247\u001b[0m     \u001b[38;5;28;01mreturn\u001b[39;00m _MapperConfig\u001b[38;5;241m.\u001b[39msetup_mapping(registry, \u001b[38;5;28mcls\u001b[39m, dict_, \u001b[38;5;28;01mNone\u001b[39;00m, {})\n",
      "File \u001b[1;32m~\\anaconda3\\Lib\\site-packages\\sqlalchemy\\orm\\decl_base.py:328\u001b[0m, in \u001b[0;36m_MapperConfig.setup_mapping\u001b[1;34m(cls, registry, cls_, dict_, table, mapper_kw)\u001b[0m\n\u001b[0;32m    324\u001b[0m     \u001b[38;5;28;01mreturn\u001b[39;00m _DeferredMapperConfig(\n\u001b[0;32m    325\u001b[0m         registry, cls_, dict_, table, mapper_kw\n\u001b[0;32m    326\u001b[0m     )\n\u001b[0;32m    327\u001b[0m \u001b[38;5;28;01melse\u001b[39;00m:\n\u001b[1;32m--> 328\u001b[0m     \u001b[38;5;28;01mreturn\u001b[39;00m _ClassScanMapperConfig(\n\u001b[0;32m    329\u001b[0m         registry, cls_, dict_, table, mapper_kw\n\u001b[0;32m    330\u001b[0m     )\n",
      "File \u001b[1;32m~\\anaconda3\\Lib\\site-packages\\sqlalchemy\\orm\\decl_base.py:578\u001b[0m, in \u001b[0;36m_ClassScanMapperConfig.__init__\u001b[1;34m(self, registry, cls_, dict_, table, mapper_kw)\u001b[0m\n\u001b[0;32m    574\u001b[0m \u001b[38;5;28mself\u001b[39m\u001b[38;5;241m.\u001b[39m_extract_mappable_attributes()\n\u001b[0;32m    576\u001b[0m \u001b[38;5;28mself\u001b[39m\u001b[38;5;241m.\u001b[39m_extract_declared_columns()\n\u001b[1;32m--> 578\u001b[0m \u001b[38;5;28mself\u001b[39m\u001b[38;5;241m.\u001b[39m_setup_table(table)\n\u001b[0;32m    580\u001b[0m \u001b[38;5;28mself\u001b[39m\u001b[38;5;241m.\u001b[39m_setup_inheriting_columns(mapper_kw)\n\u001b[0;32m    582\u001b[0m \u001b[38;5;28mself\u001b[39m\u001b[38;5;241m.\u001b[39m_early_mapping(mapper_kw)\n",
      "File \u001b[1;32m~\\anaconda3\\Lib\\site-packages\\sqlalchemy\\orm\\decl_base.py:1729\u001b[0m, in \u001b[0;36m_ClassScanMapperConfig._setup_table\u001b[1;34m(self, table)\u001b[0m\n\u001b[0;32m   1721\u001b[0m             table_kw[\u001b[38;5;124m\"\u001b[39m\u001b[38;5;124mautoload\u001b[39m\u001b[38;5;124m\"\u001b[39m] \u001b[38;5;241m=\u001b[39m \u001b[38;5;28;01mTrue\u001b[39;00m\n\u001b[0;32m   1723\u001b[0m         sorted_columns \u001b[38;5;241m=\u001b[39m \u001b[38;5;28msorted\u001b[39m(\n\u001b[0;32m   1724\u001b[0m             declared_columns,\n\u001b[0;32m   1725\u001b[0m             key\u001b[38;5;241m=\u001b[39m\u001b[38;5;28;01mlambda\u001b[39;00m c: column_ordering\u001b[38;5;241m.\u001b[39mget(c, \u001b[38;5;241m0\u001b[39m),\n\u001b[0;32m   1726\u001b[0m         )\n\u001b[0;32m   1727\u001b[0m         table \u001b[38;5;241m=\u001b[39m \u001b[38;5;28mself\u001b[39m\u001b[38;5;241m.\u001b[39mset_cls_attribute(\n\u001b[0;32m   1728\u001b[0m             \u001b[38;5;124m\"\u001b[39m\u001b[38;5;124m__table__\u001b[39m\u001b[38;5;124m\"\u001b[39m,\n\u001b[1;32m-> 1729\u001b[0m             table_cls(\n\u001b[0;32m   1730\u001b[0m                 tablename,\n\u001b[0;32m   1731\u001b[0m                 \u001b[38;5;28mself\u001b[39m\u001b[38;5;241m.\u001b[39m_metadata_for_cls(manager),\n\u001b[0;32m   1732\u001b[0m                 \u001b[38;5;241m*\u001b[39msorted_columns,\n\u001b[0;32m   1733\u001b[0m                 \u001b[38;5;241m*\u001b[39margs,\n\u001b[0;32m   1734\u001b[0m                 \u001b[38;5;241m*\u001b[39m\u001b[38;5;241m*\u001b[39mtable_kw,\n\u001b[0;32m   1735\u001b[0m             ),\n\u001b[0;32m   1736\u001b[0m         )\n\u001b[0;32m   1737\u001b[0m \u001b[38;5;28;01melse\u001b[39;00m:\n\u001b[0;32m   1738\u001b[0m     \u001b[38;5;28;01mif\u001b[39;00m table \u001b[38;5;129;01mis\u001b[39;00m \u001b[38;5;28;01mNone\u001b[39;00m:\n",
      "File \u001b[1;32m<string>:2\u001b[0m, in \u001b[0;36m__new__\u001b[1;34m(cls, *args, **kw)\u001b[0m\n",
      "File \u001b[1;32m~\\anaconda3\\Lib\\site-packages\\sqlalchemy\\util\\deprecations.py:281\u001b[0m, in \u001b[0;36mdeprecated_params.<locals>.decorate.<locals>.warned\u001b[1;34m(fn, *args, **kwargs)\u001b[0m\n\u001b[0;32m    274\u001b[0m     \u001b[38;5;28;01mif\u001b[39;00m m \u001b[38;5;129;01min\u001b[39;00m kwargs:\n\u001b[0;32m    275\u001b[0m         _warn_with_version(\n\u001b[0;32m    276\u001b[0m             messages[m],\n\u001b[0;32m    277\u001b[0m             versions[m],\n\u001b[0;32m    278\u001b[0m             version_warnings[m],\n\u001b[0;32m    279\u001b[0m             stacklevel\u001b[38;5;241m=\u001b[39m\u001b[38;5;241m3\u001b[39m,\n\u001b[0;32m    280\u001b[0m         )\n\u001b[1;32m--> 281\u001b[0m \u001b[38;5;28;01mreturn\u001b[39;00m fn(\u001b[38;5;241m*\u001b[39margs, \u001b[38;5;241m*\u001b[39m\u001b[38;5;241m*\u001b[39mkwargs)\n",
      "File \u001b[1;32m~\\anaconda3\\Lib\\site-packages\\sqlalchemy\\sql\\schema.py:436\u001b[0m, in \u001b[0;36mTable.__new__\u001b[1;34m(cls, *args, **kw)\u001b[0m\n\u001b[0;32m    429\u001b[0m \u001b[38;5;129m@util\u001b[39m\u001b[38;5;241m.\u001b[39mdeprecated_params(\n\u001b[0;32m    430\u001b[0m     mustexist\u001b[38;5;241m=\u001b[39m(\n\u001b[0;32m    431\u001b[0m         \u001b[38;5;124m\"\u001b[39m\u001b[38;5;124m1.4\u001b[39m\u001b[38;5;124m\"\u001b[39m,\n\u001b[1;32m   (...)\u001b[0m\n\u001b[0;32m    434\u001b[0m )\n\u001b[0;32m    435\u001b[0m \u001b[38;5;28;01mdef\u001b[39;00m \u001b[38;5;21m__new__\u001b[39m(\u001b[38;5;28mcls\u001b[39m, \u001b[38;5;241m*\u001b[39margs: Any, \u001b[38;5;241m*\u001b[39m\u001b[38;5;241m*\u001b[39mkw: Any) \u001b[38;5;241m-\u001b[39m\u001b[38;5;241m>\u001b[39m Any:\n\u001b[1;32m--> 436\u001b[0m     \u001b[38;5;28;01mreturn\u001b[39;00m \u001b[38;5;28mcls\u001b[39m\u001b[38;5;241m.\u001b[39m_new(\u001b[38;5;241m*\u001b[39margs, \u001b[38;5;241m*\u001b[39m\u001b[38;5;241m*\u001b[39mkw)\n",
      "File \u001b[1;32m~\\anaconda3\\Lib\\site-packages\\sqlalchemy\\sql\\schema.py:468\u001b[0m, in \u001b[0;36mTable._new\u001b[1;34m(cls, *args, **kw)\u001b[0m\n\u001b[0;32m    466\u001b[0m \u001b[38;5;28;01mif\u001b[39;00m key \u001b[38;5;129;01min\u001b[39;00m metadata\u001b[38;5;241m.\u001b[39mtables:\n\u001b[0;32m    467\u001b[0m     \u001b[38;5;28;01mif\u001b[39;00m \u001b[38;5;129;01mnot\u001b[39;00m keep_existing \u001b[38;5;129;01mand\u001b[39;00m \u001b[38;5;129;01mnot\u001b[39;00m extend_existing \u001b[38;5;129;01mand\u001b[39;00m \u001b[38;5;28mbool\u001b[39m(args):\n\u001b[1;32m--> 468\u001b[0m         \u001b[38;5;28;01mraise\u001b[39;00m exc\u001b[38;5;241m.\u001b[39mInvalidRequestError(\n\u001b[0;32m    469\u001b[0m             \u001b[38;5;124mf\u001b[39m\u001b[38;5;124m\"\u001b[39m\u001b[38;5;124mTable \u001b[39m\u001b[38;5;124m'\u001b[39m\u001b[38;5;132;01m{\u001b[39;00mkey\u001b[38;5;132;01m}\u001b[39;00m\u001b[38;5;124m'\u001b[39m\u001b[38;5;124m is already defined for this MetaData \u001b[39m\u001b[38;5;124m\"\u001b[39m\n\u001b[0;32m    470\u001b[0m             \u001b[38;5;124m\"\u001b[39m\u001b[38;5;124minstance.  Specify \u001b[39m\u001b[38;5;124m'\u001b[39m\u001b[38;5;124mextend_existing=True\u001b[39m\u001b[38;5;124m'\u001b[39m\u001b[38;5;124m \u001b[39m\u001b[38;5;124m\"\u001b[39m\n\u001b[0;32m    471\u001b[0m             \u001b[38;5;124m\"\u001b[39m\u001b[38;5;124mto redefine \u001b[39m\u001b[38;5;124m\"\u001b[39m\n\u001b[0;32m    472\u001b[0m             \u001b[38;5;124m\"\u001b[39m\u001b[38;5;124moptions and columns on an \u001b[39m\u001b[38;5;124m\"\u001b[39m\n\u001b[0;32m    473\u001b[0m             \u001b[38;5;124m\"\u001b[39m\u001b[38;5;124mexisting Table object.\u001b[39m\u001b[38;5;124m\"\u001b[39m\n\u001b[0;32m    474\u001b[0m         )\n\u001b[0;32m    475\u001b[0m     table \u001b[38;5;241m=\u001b[39m metadata\u001b[38;5;241m.\u001b[39mtables[key]\n\u001b[0;32m    476\u001b[0m     \u001b[38;5;28;01mif\u001b[39;00m extend_existing:\n",
      "\u001b[1;31mInvalidRequestError\u001b[0m: Table 'Calisan' is already defined for this MetaData instance.  Specify 'extend_existing=True' to redefine options and columns on an existing Table object."
     ]
    }
   ],
   "source": [
    "# \"Çalışan\" sınıfını tanımlayarak \"Base\" değişkenini aldırmayla \"SQLAlchemy\"'nin veri tabanıyla bağlantı kurmasını sağlama\n",
    "class Calisan(Base):\n",
    "    __tablename__ = 'Calisan'\n",
    "    id = Column(Integer, primary_key=True)\n",
    "    calisan_id = Column(Integer)\n",
    "    bolum_id = Column(Integer)\n",
    "    baslangicTarihi = Column(Date)\n",
    "    bitisTarihi = Column(Date)\n",
    "    \n",
    "    pozisyon = relationship(\"Pozisyon\")\n",
    "    maas = relationship(\"Maas\")\n",
    "    yoneticilik = relationship(\"Pozisyon\")\n",
    "    bolumcalisan = relationship(\"BolumCalisan\")"
   ]
  },
  {
   "cell_type": "code",
   "execution_count": 38,
   "id": "120f730e",
   "metadata": {},
   "outputs": [],
   "source": [
    "# Veri tabanı motorunu oluşturma\n",
    "engine = create_engine('sqlite:///MyFirstDB')"
   ]
  },
  {
   "cell_type": "code",
   "execution_count": 39,
   "id": "df50499d",
   "metadata": {},
   "outputs": [
    {
     "ename": "NameError",
     "evalue": "name 'MetaData' is not defined",
     "output_type": "error",
     "traceback": [
      "\u001b[1;31m---------------------------------------------------------------------------\u001b[0m",
      "\u001b[1;31mNameError\u001b[0m                                 Traceback (most recent call last)",
      "Cell \u001b[1;32mIn[39], line 2\u001b[0m\n\u001b[0;32m      1\u001b[0m \u001b[38;5;66;03m# MetaData objesini oluşturma\u001b[39;00m\n\u001b[1;32m----> 2\u001b[0m metadata \u001b[38;5;241m=\u001b[39m MetaData(bind\u001b[38;5;241m=\u001b[39mengine)\n",
      "\u001b[1;31mNameError\u001b[0m: name 'MetaData' is not defined"
     ]
    }
   ],
   "source": [
    "# MetaData objesini oluşturma\n",
    "metadata = MetaData(bind=engine)"
   ]
  },
  {
   "cell_type": "code",
   "execution_count": 40,
   "id": "e17a9679",
   "metadata": {},
   "outputs": [],
   "source": [
    "table_name = 'BolumCalisan'"
   ]
  },
  {
   "cell_type": "code",
   "execution_count": 41,
   "id": "31890f46",
   "metadata": {},
   "outputs": [],
   "source": [
    "from sqlalchemy import create_engine, MetaData, Table, Column, Integer, String"
   ]
  },
  {
   "cell_type": "code",
   "execution_count": 42,
   "id": "eb59461d",
   "metadata": {},
   "outputs": [],
   "source": [
    "# Veri tabanı motorunu oluşturma\n",
    "engine = create_engine('sqlite:///MyFirstDB')"
   ]
  },
  {
   "cell_type": "code",
   "execution_count": 43,
   "id": "69a7f5ab",
   "metadata": {},
   "outputs": [
    {
     "ename": "TypeError",
     "evalue": "MetaData.__init__() got an unexpected keyword argument 'bind'",
     "output_type": "error",
     "traceback": [
      "\u001b[1;31m---------------------------------------------------------------------------\u001b[0m",
      "\u001b[1;31mTypeError\u001b[0m                                 Traceback (most recent call last)",
      "Cell \u001b[1;32mIn[43], line 2\u001b[0m\n\u001b[0;32m      1\u001b[0m \u001b[38;5;66;03m# MetaData objesini oluşturma\u001b[39;00m\n\u001b[1;32m----> 2\u001b[0m metadata \u001b[38;5;241m=\u001b[39m MetaData(bind\u001b[38;5;241m=\u001b[39mengine)\n",
      "\u001b[1;31mTypeError\u001b[0m: MetaData.__init__() got an unexpected keyword argument 'bind'"
     ]
    }
   ],
   "source": [
    "# MetaData objesini oluşturma\n",
    "metadata = MetaData(bind=engine)"
   ]
  },
  {
   "cell_type": "code",
   "execution_count": 44,
   "id": "33a559a4",
   "metadata": {},
   "outputs": [],
   "source": [
    "# MetaData objesini oluşturma\n",
    "metadata = MetaData()"
   ]
  },
  {
   "cell_type": "code",
   "execution_count": 45,
   "id": "e59c8217",
   "metadata": {},
   "outputs": [
    {
     "name": "stderr",
     "output_type": "stream",
     "text": [
      "C:\\Users\\Monster\\AppData\\Local\\Temp\\ipykernel_20872\\3071420496.py:2: SAWarning: This declarative base already contains a class with the same class name and module name as __main__.Calisan, and will be replaced in the string-lookup table.\n",
      "  class Calisan(Base):\n"
     ]
    },
    {
     "ename": "InvalidRequestError",
     "evalue": "Table 'Calisan' is already defined for this MetaData instance.  Specify 'extend_existing=True' to redefine options and columns on an existing Table object.",
     "output_type": "error",
     "traceback": [
      "\u001b[1;31m---------------------------------------------------------------------------\u001b[0m",
      "\u001b[1;31mInvalidRequestError\u001b[0m                       Traceback (most recent call last)",
      "Cell \u001b[1;32mIn[45], line 2\u001b[0m\n\u001b[0;32m      1\u001b[0m \u001b[38;5;66;03m# Güncellemek istenen tablonun adını ve sınıfını belirtme\u001b[39;00m\n\u001b[1;32m----> 2\u001b[0m \u001b[38;5;28;01mclass\u001b[39;00m \u001b[38;5;21;01mCalisan\u001b[39;00m(Base):\n\u001b[0;32m      3\u001b[0m     __tablename__ \u001b[38;5;241m=\u001b[39m \u001b[38;5;124m'\u001b[39m\u001b[38;5;124mCalisan\u001b[39m\u001b[38;5;124m'\u001b[39m\n\u001b[0;32m      4\u001b[0m     \u001b[38;5;28mid\u001b[39m \u001b[38;5;241m=\u001b[39m Column(Integer, primary_key\u001b[38;5;241m=\u001b[39m\u001b[38;5;28;01mTrue\u001b[39;00m)\n",
      "File \u001b[1;32m~\\anaconda3\\Lib\\site-packages\\sqlalchemy\\orm\\decl_api.py:196\u001b[0m, in \u001b[0;36mDeclarativeMeta.__init__\u001b[1;34m(cls, classname, bases, dict_, **kw)\u001b[0m\n\u001b[0;32m    193\u001b[0m         \u001b[38;5;28mcls\u001b[39m\u001b[38;5;241m.\u001b[39m_sa_registry \u001b[38;5;241m=\u001b[39m reg\n\u001b[0;32m    195\u001b[0m \u001b[38;5;28;01mif\u001b[39;00m \u001b[38;5;129;01mnot\u001b[39;00m \u001b[38;5;28mcls\u001b[39m\u001b[38;5;241m.\u001b[39m\u001b[38;5;18m__dict__\u001b[39m\u001b[38;5;241m.\u001b[39mget(\u001b[38;5;124m\"\u001b[39m\u001b[38;5;124m__abstract__\u001b[39m\u001b[38;5;124m\"\u001b[39m, \u001b[38;5;28;01mFalse\u001b[39;00m):\n\u001b[1;32m--> 196\u001b[0m     _as_declarative(reg, \u001b[38;5;28mcls\u001b[39m, dict_)\n\u001b[0;32m    197\u001b[0m \u001b[38;5;28mtype\u001b[39m\u001b[38;5;241m.\u001b[39m\u001b[38;5;21m__init__\u001b[39m(\u001b[38;5;28mcls\u001b[39m, classname, bases, dict_)\n",
      "File \u001b[1;32m~\\anaconda3\\Lib\\site-packages\\sqlalchemy\\orm\\decl_base.py:247\u001b[0m, in \u001b[0;36m_as_declarative\u001b[1;34m(registry, cls, dict_)\u001b[0m\n\u001b[0;32m    242\u001b[0m \u001b[38;5;28;01mdef\u001b[39;00m \u001b[38;5;21m_as_declarative\u001b[39m(\n\u001b[0;32m    243\u001b[0m     registry: _RegistryType, \u001b[38;5;28mcls\u001b[39m: Type[Any], dict_: _ClassDict\n\u001b[0;32m    244\u001b[0m ) \u001b[38;5;241m-\u001b[39m\u001b[38;5;241m>\u001b[39m Optional[_MapperConfig]:\n\u001b[0;32m    245\u001b[0m     \u001b[38;5;66;03m# declarative scans the class for attributes.  no table or mapper\u001b[39;00m\n\u001b[0;32m    246\u001b[0m     \u001b[38;5;66;03m# args passed separately.\u001b[39;00m\n\u001b[1;32m--> 247\u001b[0m     \u001b[38;5;28;01mreturn\u001b[39;00m _MapperConfig\u001b[38;5;241m.\u001b[39msetup_mapping(registry, \u001b[38;5;28mcls\u001b[39m, dict_, \u001b[38;5;28;01mNone\u001b[39;00m, {})\n",
      "File \u001b[1;32m~\\anaconda3\\Lib\\site-packages\\sqlalchemy\\orm\\decl_base.py:328\u001b[0m, in \u001b[0;36m_MapperConfig.setup_mapping\u001b[1;34m(cls, registry, cls_, dict_, table, mapper_kw)\u001b[0m\n\u001b[0;32m    324\u001b[0m     \u001b[38;5;28;01mreturn\u001b[39;00m _DeferredMapperConfig(\n\u001b[0;32m    325\u001b[0m         registry, cls_, dict_, table, mapper_kw\n\u001b[0;32m    326\u001b[0m     )\n\u001b[0;32m    327\u001b[0m \u001b[38;5;28;01melse\u001b[39;00m:\n\u001b[1;32m--> 328\u001b[0m     \u001b[38;5;28;01mreturn\u001b[39;00m _ClassScanMapperConfig(\n\u001b[0;32m    329\u001b[0m         registry, cls_, dict_, table, mapper_kw\n\u001b[0;32m    330\u001b[0m     )\n",
      "File \u001b[1;32m~\\anaconda3\\Lib\\site-packages\\sqlalchemy\\orm\\decl_base.py:578\u001b[0m, in \u001b[0;36m_ClassScanMapperConfig.__init__\u001b[1;34m(self, registry, cls_, dict_, table, mapper_kw)\u001b[0m\n\u001b[0;32m    574\u001b[0m \u001b[38;5;28mself\u001b[39m\u001b[38;5;241m.\u001b[39m_extract_mappable_attributes()\n\u001b[0;32m    576\u001b[0m \u001b[38;5;28mself\u001b[39m\u001b[38;5;241m.\u001b[39m_extract_declared_columns()\n\u001b[1;32m--> 578\u001b[0m \u001b[38;5;28mself\u001b[39m\u001b[38;5;241m.\u001b[39m_setup_table(table)\n\u001b[0;32m    580\u001b[0m \u001b[38;5;28mself\u001b[39m\u001b[38;5;241m.\u001b[39m_setup_inheriting_columns(mapper_kw)\n\u001b[0;32m    582\u001b[0m \u001b[38;5;28mself\u001b[39m\u001b[38;5;241m.\u001b[39m_early_mapping(mapper_kw)\n",
      "File \u001b[1;32m~\\anaconda3\\Lib\\site-packages\\sqlalchemy\\orm\\decl_base.py:1729\u001b[0m, in \u001b[0;36m_ClassScanMapperConfig._setup_table\u001b[1;34m(self, table)\u001b[0m\n\u001b[0;32m   1721\u001b[0m             table_kw[\u001b[38;5;124m\"\u001b[39m\u001b[38;5;124mautoload\u001b[39m\u001b[38;5;124m\"\u001b[39m] \u001b[38;5;241m=\u001b[39m \u001b[38;5;28;01mTrue\u001b[39;00m\n\u001b[0;32m   1723\u001b[0m         sorted_columns \u001b[38;5;241m=\u001b[39m \u001b[38;5;28msorted\u001b[39m(\n\u001b[0;32m   1724\u001b[0m             declared_columns,\n\u001b[0;32m   1725\u001b[0m             key\u001b[38;5;241m=\u001b[39m\u001b[38;5;28;01mlambda\u001b[39;00m c: column_ordering\u001b[38;5;241m.\u001b[39mget(c, \u001b[38;5;241m0\u001b[39m),\n\u001b[0;32m   1726\u001b[0m         )\n\u001b[0;32m   1727\u001b[0m         table \u001b[38;5;241m=\u001b[39m \u001b[38;5;28mself\u001b[39m\u001b[38;5;241m.\u001b[39mset_cls_attribute(\n\u001b[0;32m   1728\u001b[0m             \u001b[38;5;124m\"\u001b[39m\u001b[38;5;124m__table__\u001b[39m\u001b[38;5;124m\"\u001b[39m,\n\u001b[1;32m-> 1729\u001b[0m             table_cls(\n\u001b[0;32m   1730\u001b[0m                 tablename,\n\u001b[0;32m   1731\u001b[0m                 \u001b[38;5;28mself\u001b[39m\u001b[38;5;241m.\u001b[39m_metadata_for_cls(manager),\n\u001b[0;32m   1732\u001b[0m                 \u001b[38;5;241m*\u001b[39msorted_columns,\n\u001b[0;32m   1733\u001b[0m                 \u001b[38;5;241m*\u001b[39margs,\n\u001b[0;32m   1734\u001b[0m                 \u001b[38;5;241m*\u001b[39m\u001b[38;5;241m*\u001b[39mtable_kw,\n\u001b[0;32m   1735\u001b[0m             ),\n\u001b[0;32m   1736\u001b[0m         )\n\u001b[0;32m   1737\u001b[0m \u001b[38;5;28;01melse\u001b[39;00m:\n\u001b[0;32m   1738\u001b[0m     \u001b[38;5;28;01mif\u001b[39;00m table \u001b[38;5;129;01mis\u001b[39;00m \u001b[38;5;28;01mNone\u001b[39;00m:\n",
      "File \u001b[1;32m<string>:2\u001b[0m, in \u001b[0;36m__new__\u001b[1;34m(cls, *args, **kw)\u001b[0m\n",
      "File \u001b[1;32m~\\anaconda3\\Lib\\site-packages\\sqlalchemy\\util\\deprecations.py:281\u001b[0m, in \u001b[0;36mdeprecated_params.<locals>.decorate.<locals>.warned\u001b[1;34m(fn, *args, **kwargs)\u001b[0m\n\u001b[0;32m    274\u001b[0m     \u001b[38;5;28;01mif\u001b[39;00m m \u001b[38;5;129;01min\u001b[39;00m kwargs:\n\u001b[0;32m    275\u001b[0m         _warn_with_version(\n\u001b[0;32m    276\u001b[0m             messages[m],\n\u001b[0;32m    277\u001b[0m             versions[m],\n\u001b[0;32m    278\u001b[0m             version_warnings[m],\n\u001b[0;32m    279\u001b[0m             stacklevel\u001b[38;5;241m=\u001b[39m\u001b[38;5;241m3\u001b[39m,\n\u001b[0;32m    280\u001b[0m         )\n\u001b[1;32m--> 281\u001b[0m \u001b[38;5;28;01mreturn\u001b[39;00m fn(\u001b[38;5;241m*\u001b[39margs, \u001b[38;5;241m*\u001b[39m\u001b[38;5;241m*\u001b[39mkwargs)\n",
      "File \u001b[1;32m~\\anaconda3\\Lib\\site-packages\\sqlalchemy\\sql\\schema.py:436\u001b[0m, in \u001b[0;36mTable.__new__\u001b[1;34m(cls, *args, **kw)\u001b[0m\n\u001b[0;32m    429\u001b[0m \u001b[38;5;129m@util\u001b[39m\u001b[38;5;241m.\u001b[39mdeprecated_params(\n\u001b[0;32m    430\u001b[0m     mustexist\u001b[38;5;241m=\u001b[39m(\n\u001b[0;32m    431\u001b[0m         \u001b[38;5;124m\"\u001b[39m\u001b[38;5;124m1.4\u001b[39m\u001b[38;5;124m\"\u001b[39m,\n\u001b[1;32m   (...)\u001b[0m\n\u001b[0;32m    434\u001b[0m )\n\u001b[0;32m    435\u001b[0m \u001b[38;5;28;01mdef\u001b[39;00m \u001b[38;5;21m__new__\u001b[39m(\u001b[38;5;28mcls\u001b[39m, \u001b[38;5;241m*\u001b[39margs: Any, \u001b[38;5;241m*\u001b[39m\u001b[38;5;241m*\u001b[39mkw: Any) \u001b[38;5;241m-\u001b[39m\u001b[38;5;241m>\u001b[39m Any:\n\u001b[1;32m--> 436\u001b[0m     \u001b[38;5;28;01mreturn\u001b[39;00m \u001b[38;5;28mcls\u001b[39m\u001b[38;5;241m.\u001b[39m_new(\u001b[38;5;241m*\u001b[39margs, \u001b[38;5;241m*\u001b[39m\u001b[38;5;241m*\u001b[39mkw)\n",
      "File \u001b[1;32m~\\anaconda3\\Lib\\site-packages\\sqlalchemy\\sql\\schema.py:468\u001b[0m, in \u001b[0;36mTable._new\u001b[1;34m(cls, *args, **kw)\u001b[0m\n\u001b[0;32m    466\u001b[0m \u001b[38;5;28;01mif\u001b[39;00m key \u001b[38;5;129;01min\u001b[39;00m metadata\u001b[38;5;241m.\u001b[39mtables:\n\u001b[0;32m    467\u001b[0m     \u001b[38;5;28;01mif\u001b[39;00m \u001b[38;5;129;01mnot\u001b[39;00m keep_existing \u001b[38;5;129;01mand\u001b[39;00m \u001b[38;5;129;01mnot\u001b[39;00m extend_existing \u001b[38;5;129;01mand\u001b[39;00m \u001b[38;5;28mbool\u001b[39m(args):\n\u001b[1;32m--> 468\u001b[0m         \u001b[38;5;28;01mraise\u001b[39;00m exc\u001b[38;5;241m.\u001b[39mInvalidRequestError(\n\u001b[0;32m    469\u001b[0m             \u001b[38;5;124mf\u001b[39m\u001b[38;5;124m\"\u001b[39m\u001b[38;5;124mTable \u001b[39m\u001b[38;5;124m'\u001b[39m\u001b[38;5;132;01m{\u001b[39;00mkey\u001b[38;5;132;01m}\u001b[39;00m\u001b[38;5;124m'\u001b[39m\u001b[38;5;124m is already defined for this MetaData \u001b[39m\u001b[38;5;124m\"\u001b[39m\n\u001b[0;32m    470\u001b[0m             \u001b[38;5;124m\"\u001b[39m\u001b[38;5;124minstance.  Specify \u001b[39m\u001b[38;5;124m'\u001b[39m\u001b[38;5;124mextend_existing=True\u001b[39m\u001b[38;5;124m'\u001b[39m\u001b[38;5;124m \u001b[39m\u001b[38;5;124m\"\u001b[39m\n\u001b[0;32m    471\u001b[0m             \u001b[38;5;124m\"\u001b[39m\u001b[38;5;124mto redefine \u001b[39m\u001b[38;5;124m\"\u001b[39m\n\u001b[0;32m    472\u001b[0m             \u001b[38;5;124m\"\u001b[39m\u001b[38;5;124moptions and columns on an \u001b[39m\u001b[38;5;124m\"\u001b[39m\n\u001b[0;32m    473\u001b[0m             \u001b[38;5;124m\"\u001b[39m\u001b[38;5;124mexisting Table object.\u001b[39m\u001b[38;5;124m\"\u001b[39m\n\u001b[0;32m    474\u001b[0m         )\n\u001b[0;32m    475\u001b[0m     table \u001b[38;5;241m=\u001b[39m metadata\u001b[38;5;241m.\u001b[39mtables[key]\n\u001b[0;32m    476\u001b[0m     \u001b[38;5;28;01mif\u001b[39;00m extend_existing:\n",
      "\u001b[1;31mInvalidRequestError\u001b[0m: Table 'Calisan' is already defined for this MetaData instance.  Specify 'extend_existing=True' to redefine options and columns on an existing Table object."
     ]
    }
   ],
   "source": [
    "# Güncellemek istenen tablonun adını ve sınıfını belirtme\n",
    "class Calisan(Base):\n",
    "    __tablename__ = 'Calisan'\n",
    "    id = Column(Integer, primary_key=True)\n"
   ]
  },
  {
   "cell_type": "code",
   "execution_count": 46,
   "id": "8c407945",
   "metadata": {},
   "outputs": [
    {
     "ename": "TypeError",
     "evalue": "MetaData.__init__() got an unexpected keyword argument 'bind'",
     "output_type": "error",
     "traceback": [
      "\u001b[1;31m---------------------------------------------------------------------------\u001b[0m",
      "\u001b[1;31mTypeError\u001b[0m                                 Traceback (most recent call last)",
      "Cell \u001b[1;32mIn[46], line 2\u001b[0m\n\u001b[0;32m      1\u001b[0m \u001b[38;5;66;03m# MetaData örneğini oluştur\u001b[39;00m\n\u001b[1;32m----> 2\u001b[0m metadata \u001b[38;5;241m=\u001b[39m MetaData(bind\u001b[38;5;241m=\u001b[39mengine)\n\u001b[0;32m      4\u001b[0m \u001b[38;5;66;03m# Yeni bir tablo tanımlamak için örnek sınıf\u001b[39;00m\n\u001b[0;32m      5\u001b[0m \u001b[38;5;28;01mclass\u001b[39;00m \u001b[38;5;21;01mCalisan\u001b[39;00m(Base):\n",
      "\u001b[1;31mTypeError\u001b[0m: MetaData.__init__() got an unexpected keyword argument 'bind'"
     ]
    }
   ],
   "source": [
    "# MetaData örneğini oluştur\n",
    "metadata = MetaData(bind=engine)\n",
    "\n",
    "# Yeni bir tablo tanımlamak için örnek sınıf\n",
    "class Calisan(Base):\n",
    "    __tablename__ = 'Calisan'\n",
    "    id = Column(Integer, primary_key=True)\n",
    "    name = Column(String)\n",
    "\n",
    "# Tabloyu MetaData örneğine ekle (extend_existing=True kullanarak)\n",
    "Table('Calisan', metadata, extend_existing=True)"
   ]
  },
  {
   "cell_type": "code",
   "execution_count": 47,
   "id": "08b00714",
   "metadata": {},
   "outputs": [
    {
     "name": "stderr",
     "output_type": "stream",
     "text": [
      "C:\\Users\\Monster\\AppData\\Local\\Temp\\ipykernel_20872\\2096703702.py:5: SAWarning: This declarative base already contains a class with the same class name and module name as __main__.Calisan, and will be replaced in the string-lookup table.\n",
      "  class Calisan(Base):\n"
     ]
    },
    {
     "ename": "InvalidRequestError",
     "evalue": "Table 'Calisan' is already defined for this MetaData instance.  Specify 'extend_existing=True' to redefine options and columns on an existing Table object.",
     "output_type": "error",
     "traceback": [
      "\u001b[1;31m---------------------------------------------------------------------------\u001b[0m",
      "\u001b[1;31mInvalidRequestError\u001b[0m                       Traceback (most recent call last)",
      "Cell \u001b[1;32mIn[47], line 5\u001b[0m\n\u001b[0;32m      2\u001b[0m metadata \u001b[38;5;241m=\u001b[39m MetaData()\n\u001b[0;32m      4\u001b[0m \u001b[38;5;66;03m# Yeni bir tablo tanımlamak için örnek sınıf\u001b[39;00m\n\u001b[1;32m----> 5\u001b[0m \u001b[38;5;28;01mclass\u001b[39;00m \u001b[38;5;21;01mCalisan\u001b[39;00m(Base):\n\u001b[0;32m      6\u001b[0m     __tablename__ \u001b[38;5;241m=\u001b[39m \u001b[38;5;124m'\u001b[39m\u001b[38;5;124mCalisan\u001b[39m\u001b[38;5;124m'\u001b[39m\n\u001b[0;32m      7\u001b[0m     \u001b[38;5;28mid\u001b[39m \u001b[38;5;241m=\u001b[39m Column(Integer, primary_key\u001b[38;5;241m=\u001b[39m\u001b[38;5;28;01mTrue\u001b[39;00m)\n",
      "File \u001b[1;32m~\\anaconda3\\Lib\\site-packages\\sqlalchemy\\orm\\decl_api.py:196\u001b[0m, in \u001b[0;36mDeclarativeMeta.__init__\u001b[1;34m(cls, classname, bases, dict_, **kw)\u001b[0m\n\u001b[0;32m    193\u001b[0m         \u001b[38;5;28mcls\u001b[39m\u001b[38;5;241m.\u001b[39m_sa_registry \u001b[38;5;241m=\u001b[39m reg\n\u001b[0;32m    195\u001b[0m \u001b[38;5;28;01mif\u001b[39;00m \u001b[38;5;129;01mnot\u001b[39;00m \u001b[38;5;28mcls\u001b[39m\u001b[38;5;241m.\u001b[39m\u001b[38;5;18m__dict__\u001b[39m\u001b[38;5;241m.\u001b[39mget(\u001b[38;5;124m\"\u001b[39m\u001b[38;5;124m__abstract__\u001b[39m\u001b[38;5;124m\"\u001b[39m, \u001b[38;5;28;01mFalse\u001b[39;00m):\n\u001b[1;32m--> 196\u001b[0m     _as_declarative(reg, \u001b[38;5;28mcls\u001b[39m, dict_)\n\u001b[0;32m    197\u001b[0m \u001b[38;5;28mtype\u001b[39m\u001b[38;5;241m.\u001b[39m\u001b[38;5;21m__init__\u001b[39m(\u001b[38;5;28mcls\u001b[39m, classname, bases, dict_)\n",
      "File \u001b[1;32m~\\anaconda3\\Lib\\site-packages\\sqlalchemy\\orm\\decl_base.py:247\u001b[0m, in \u001b[0;36m_as_declarative\u001b[1;34m(registry, cls, dict_)\u001b[0m\n\u001b[0;32m    242\u001b[0m \u001b[38;5;28;01mdef\u001b[39;00m \u001b[38;5;21m_as_declarative\u001b[39m(\n\u001b[0;32m    243\u001b[0m     registry: _RegistryType, \u001b[38;5;28mcls\u001b[39m: Type[Any], dict_: _ClassDict\n\u001b[0;32m    244\u001b[0m ) \u001b[38;5;241m-\u001b[39m\u001b[38;5;241m>\u001b[39m Optional[_MapperConfig]:\n\u001b[0;32m    245\u001b[0m     \u001b[38;5;66;03m# declarative scans the class for attributes.  no table or mapper\u001b[39;00m\n\u001b[0;32m    246\u001b[0m     \u001b[38;5;66;03m# args passed separately.\u001b[39;00m\n\u001b[1;32m--> 247\u001b[0m     \u001b[38;5;28;01mreturn\u001b[39;00m _MapperConfig\u001b[38;5;241m.\u001b[39msetup_mapping(registry, \u001b[38;5;28mcls\u001b[39m, dict_, \u001b[38;5;28;01mNone\u001b[39;00m, {})\n",
      "File \u001b[1;32m~\\anaconda3\\Lib\\site-packages\\sqlalchemy\\orm\\decl_base.py:328\u001b[0m, in \u001b[0;36m_MapperConfig.setup_mapping\u001b[1;34m(cls, registry, cls_, dict_, table, mapper_kw)\u001b[0m\n\u001b[0;32m    324\u001b[0m     \u001b[38;5;28;01mreturn\u001b[39;00m _DeferredMapperConfig(\n\u001b[0;32m    325\u001b[0m         registry, cls_, dict_, table, mapper_kw\n\u001b[0;32m    326\u001b[0m     )\n\u001b[0;32m    327\u001b[0m \u001b[38;5;28;01melse\u001b[39;00m:\n\u001b[1;32m--> 328\u001b[0m     \u001b[38;5;28;01mreturn\u001b[39;00m _ClassScanMapperConfig(\n\u001b[0;32m    329\u001b[0m         registry, cls_, dict_, table, mapper_kw\n\u001b[0;32m    330\u001b[0m     )\n",
      "File \u001b[1;32m~\\anaconda3\\Lib\\site-packages\\sqlalchemy\\orm\\decl_base.py:578\u001b[0m, in \u001b[0;36m_ClassScanMapperConfig.__init__\u001b[1;34m(self, registry, cls_, dict_, table, mapper_kw)\u001b[0m\n\u001b[0;32m    574\u001b[0m \u001b[38;5;28mself\u001b[39m\u001b[38;5;241m.\u001b[39m_extract_mappable_attributes()\n\u001b[0;32m    576\u001b[0m \u001b[38;5;28mself\u001b[39m\u001b[38;5;241m.\u001b[39m_extract_declared_columns()\n\u001b[1;32m--> 578\u001b[0m \u001b[38;5;28mself\u001b[39m\u001b[38;5;241m.\u001b[39m_setup_table(table)\n\u001b[0;32m    580\u001b[0m \u001b[38;5;28mself\u001b[39m\u001b[38;5;241m.\u001b[39m_setup_inheriting_columns(mapper_kw)\n\u001b[0;32m    582\u001b[0m \u001b[38;5;28mself\u001b[39m\u001b[38;5;241m.\u001b[39m_early_mapping(mapper_kw)\n",
      "File \u001b[1;32m~\\anaconda3\\Lib\\site-packages\\sqlalchemy\\orm\\decl_base.py:1729\u001b[0m, in \u001b[0;36m_ClassScanMapperConfig._setup_table\u001b[1;34m(self, table)\u001b[0m\n\u001b[0;32m   1721\u001b[0m             table_kw[\u001b[38;5;124m\"\u001b[39m\u001b[38;5;124mautoload\u001b[39m\u001b[38;5;124m\"\u001b[39m] \u001b[38;5;241m=\u001b[39m \u001b[38;5;28;01mTrue\u001b[39;00m\n\u001b[0;32m   1723\u001b[0m         sorted_columns \u001b[38;5;241m=\u001b[39m \u001b[38;5;28msorted\u001b[39m(\n\u001b[0;32m   1724\u001b[0m             declared_columns,\n\u001b[0;32m   1725\u001b[0m             key\u001b[38;5;241m=\u001b[39m\u001b[38;5;28;01mlambda\u001b[39;00m c: column_ordering\u001b[38;5;241m.\u001b[39mget(c, \u001b[38;5;241m0\u001b[39m),\n\u001b[0;32m   1726\u001b[0m         )\n\u001b[0;32m   1727\u001b[0m         table \u001b[38;5;241m=\u001b[39m \u001b[38;5;28mself\u001b[39m\u001b[38;5;241m.\u001b[39mset_cls_attribute(\n\u001b[0;32m   1728\u001b[0m             \u001b[38;5;124m\"\u001b[39m\u001b[38;5;124m__table__\u001b[39m\u001b[38;5;124m\"\u001b[39m,\n\u001b[1;32m-> 1729\u001b[0m             table_cls(\n\u001b[0;32m   1730\u001b[0m                 tablename,\n\u001b[0;32m   1731\u001b[0m                 \u001b[38;5;28mself\u001b[39m\u001b[38;5;241m.\u001b[39m_metadata_for_cls(manager),\n\u001b[0;32m   1732\u001b[0m                 \u001b[38;5;241m*\u001b[39msorted_columns,\n\u001b[0;32m   1733\u001b[0m                 \u001b[38;5;241m*\u001b[39margs,\n\u001b[0;32m   1734\u001b[0m                 \u001b[38;5;241m*\u001b[39m\u001b[38;5;241m*\u001b[39mtable_kw,\n\u001b[0;32m   1735\u001b[0m             ),\n\u001b[0;32m   1736\u001b[0m         )\n\u001b[0;32m   1737\u001b[0m \u001b[38;5;28;01melse\u001b[39;00m:\n\u001b[0;32m   1738\u001b[0m     \u001b[38;5;28;01mif\u001b[39;00m table \u001b[38;5;129;01mis\u001b[39;00m \u001b[38;5;28;01mNone\u001b[39;00m:\n",
      "File \u001b[1;32m<string>:2\u001b[0m, in \u001b[0;36m__new__\u001b[1;34m(cls, *args, **kw)\u001b[0m\n",
      "File \u001b[1;32m~\\anaconda3\\Lib\\site-packages\\sqlalchemy\\util\\deprecations.py:281\u001b[0m, in \u001b[0;36mdeprecated_params.<locals>.decorate.<locals>.warned\u001b[1;34m(fn, *args, **kwargs)\u001b[0m\n\u001b[0;32m    274\u001b[0m     \u001b[38;5;28;01mif\u001b[39;00m m \u001b[38;5;129;01min\u001b[39;00m kwargs:\n\u001b[0;32m    275\u001b[0m         _warn_with_version(\n\u001b[0;32m    276\u001b[0m             messages[m],\n\u001b[0;32m    277\u001b[0m             versions[m],\n\u001b[0;32m    278\u001b[0m             version_warnings[m],\n\u001b[0;32m    279\u001b[0m             stacklevel\u001b[38;5;241m=\u001b[39m\u001b[38;5;241m3\u001b[39m,\n\u001b[0;32m    280\u001b[0m         )\n\u001b[1;32m--> 281\u001b[0m \u001b[38;5;28;01mreturn\u001b[39;00m fn(\u001b[38;5;241m*\u001b[39margs, \u001b[38;5;241m*\u001b[39m\u001b[38;5;241m*\u001b[39mkwargs)\n",
      "File \u001b[1;32m~\\anaconda3\\Lib\\site-packages\\sqlalchemy\\sql\\schema.py:436\u001b[0m, in \u001b[0;36mTable.__new__\u001b[1;34m(cls, *args, **kw)\u001b[0m\n\u001b[0;32m    429\u001b[0m \u001b[38;5;129m@util\u001b[39m\u001b[38;5;241m.\u001b[39mdeprecated_params(\n\u001b[0;32m    430\u001b[0m     mustexist\u001b[38;5;241m=\u001b[39m(\n\u001b[0;32m    431\u001b[0m         \u001b[38;5;124m\"\u001b[39m\u001b[38;5;124m1.4\u001b[39m\u001b[38;5;124m\"\u001b[39m,\n\u001b[1;32m   (...)\u001b[0m\n\u001b[0;32m    434\u001b[0m )\n\u001b[0;32m    435\u001b[0m \u001b[38;5;28;01mdef\u001b[39;00m \u001b[38;5;21m__new__\u001b[39m(\u001b[38;5;28mcls\u001b[39m, \u001b[38;5;241m*\u001b[39margs: Any, \u001b[38;5;241m*\u001b[39m\u001b[38;5;241m*\u001b[39mkw: Any) \u001b[38;5;241m-\u001b[39m\u001b[38;5;241m>\u001b[39m Any:\n\u001b[1;32m--> 436\u001b[0m     \u001b[38;5;28;01mreturn\u001b[39;00m \u001b[38;5;28mcls\u001b[39m\u001b[38;5;241m.\u001b[39m_new(\u001b[38;5;241m*\u001b[39margs, \u001b[38;5;241m*\u001b[39m\u001b[38;5;241m*\u001b[39mkw)\n",
      "File \u001b[1;32m~\\anaconda3\\Lib\\site-packages\\sqlalchemy\\sql\\schema.py:468\u001b[0m, in \u001b[0;36mTable._new\u001b[1;34m(cls, *args, **kw)\u001b[0m\n\u001b[0;32m    466\u001b[0m \u001b[38;5;28;01mif\u001b[39;00m key \u001b[38;5;129;01min\u001b[39;00m metadata\u001b[38;5;241m.\u001b[39mtables:\n\u001b[0;32m    467\u001b[0m     \u001b[38;5;28;01mif\u001b[39;00m \u001b[38;5;129;01mnot\u001b[39;00m keep_existing \u001b[38;5;129;01mand\u001b[39;00m \u001b[38;5;129;01mnot\u001b[39;00m extend_existing \u001b[38;5;129;01mand\u001b[39;00m \u001b[38;5;28mbool\u001b[39m(args):\n\u001b[1;32m--> 468\u001b[0m         \u001b[38;5;28;01mraise\u001b[39;00m exc\u001b[38;5;241m.\u001b[39mInvalidRequestError(\n\u001b[0;32m    469\u001b[0m             \u001b[38;5;124mf\u001b[39m\u001b[38;5;124m\"\u001b[39m\u001b[38;5;124mTable \u001b[39m\u001b[38;5;124m'\u001b[39m\u001b[38;5;132;01m{\u001b[39;00mkey\u001b[38;5;132;01m}\u001b[39;00m\u001b[38;5;124m'\u001b[39m\u001b[38;5;124m is already defined for this MetaData \u001b[39m\u001b[38;5;124m\"\u001b[39m\n\u001b[0;32m    470\u001b[0m             \u001b[38;5;124m\"\u001b[39m\u001b[38;5;124minstance.  Specify \u001b[39m\u001b[38;5;124m'\u001b[39m\u001b[38;5;124mextend_existing=True\u001b[39m\u001b[38;5;124m'\u001b[39m\u001b[38;5;124m \u001b[39m\u001b[38;5;124m\"\u001b[39m\n\u001b[0;32m    471\u001b[0m             \u001b[38;5;124m\"\u001b[39m\u001b[38;5;124mto redefine \u001b[39m\u001b[38;5;124m\"\u001b[39m\n\u001b[0;32m    472\u001b[0m             \u001b[38;5;124m\"\u001b[39m\u001b[38;5;124moptions and columns on an \u001b[39m\u001b[38;5;124m\"\u001b[39m\n\u001b[0;32m    473\u001b[0m             \u001b[38;5;124m\"\u001b[39m\u001b[38;5;124mexisting Table object.\u001b[39m\u001b[38;5;124m\"\u001b[39m\n\u001b[0;32m    474\u001b[0m         )\n\u001b[0;32m    475\u001b[0m     table \u001b[38;5;241m=\u001b[39m metadata\u001b[38;5;241m.\u001b[39mtables[key]\n\u001b[0;32m    476\u001b[0m     \u001b[38;5;28;01mif\u001b[39;00m extend_existing:\n",
      "\u001b[1;31mInvalidRequestError\u001b[0m: Table 'Calisan' is already defined for this MetaData instance.  Specify 'extend_existing=True' to redefine options and columns on an existing Table object."
     ]
    }
   ],
   "source": [
    "# MetaData örneğini oluşturma\n",
    "metadata = MetaData()\n",
    "\n",
    "# Yeni bir tablo tanımlamak için örnek sınıf\n",
    "class Calisan(Base):\n",
    "    __tablename__ = 'Calisan'\n",
    "    id = Column(Integer, primary_key=True)\n",
    "    name = Column(String)\n",
    "\n",
    "# Tabloyu MetaData örneğine ekleme (extend_existing=True kullanarak)\n",
    "Table('Calisan', metadata, extend_existing=True)"
   ]
  },
  {
   "cell_type": "code",
   "execution_count": 48,
   "id": "7cf689a8",
   "metadata": {},
   "outputs": [],
   "source": [
    "# Tanımlanan sınıflar için veri tabanı tablolarının oluşturulması\n",
    "Base.metadata.create_all(engine)"
   ]
  },
  {
   "cell_type": "code",
   "execution_count": 49,
   "id": "ea8d01f8",
   "metadata": {},
   "outputs": [
    {
     "name": "stderr",
     "output_type": "stream",
     "text": [
      "C:\\Users\\Monster\\AppData\\Local\\Temp\\ipykernel_20872\\1598940410.py:5: MovedIn20Warning: The ``declarative_base()`` function is now available as sqlalchemy.orm.declarative_base(). (deprecated since: 2.0) (Background on SQLAlchemy 2.0 at: https://sqlalche.me/e/b8d9)\n",
      "  Base = declarative_base()\n"
     ]
    }
   ],
   "source": [
    "from sqlalchemy.ext.declarative import declarative_base\n",
    "from sqlalchemy import Column, Integer, String\n",
    "\n",
    "# SQLAlchemy Base nesnesini oluşturma\n",
    "Base = declarative_base()\n",
    "\n",
    "# Yeni tabloyu tanımlama\n",
    "class Calisan(Base):\n",
    "    __tablename__ = 'Calisan'\n",
    "    id = Column(Integer, primary_key=True)\n",
    "    name = Column(String)\n",
    "\n",
    "# Var olan tabloyu değiştirme\n",
    "BolumCalisan.__table__.name = 'Calisan'\n",
    "\n",
    "# Veritabanı motorunu oluşturma\n",
    "engine = create_engine('sqlite:///MyFirstDB')\n",
    "\n",
    "# Base sınıfını kullanarak tabloları oluşturma\n",
    "Base.metadata.create_all(engine)"
   ]
  },
  {
   "cell_type": "code",
   "execution_count": 50,
   "id": "4d1b4fc7",
   "metadata": {},
   "outputs": [],
   "source": [
    "from sqlalchemy.ext.declarative import declarative_base\n",
    "from sqlalchemy import Column, Integer, String\n",
    "\n",
    "# SQLAlchemy Base nesnesini oluşturma\n",
    "Base = sqlalchemy.orm.declarative_base()\n",
    "\n",
    "# Yeni tabloyu tanımlama\n",
    "class Calisan(Base):\n",
    "    __tablename__ = 'Calisan'\n",
    "    id = Column(Integer, primary_key=True)\n",
    "    name = Column(String)\n",
    "\n",
    "# Var olan tabloyu değiştirme\n",
    "BolumCalisan.__table__.name = 'Calisan'\n",
    "\n",
    "# Veritabanı motorunu oluşturma\n",
    "engine = create_engine('sqlite:///MyFirstDB')\n",
    "\n",
    "# Base sınıfını kullanarak tabloları oluşturma\n",
    "Base.metadata.create_all(engine)"
   ]
  },
  {
   "cell_type": "code",
   "execution_count": 51,
   "id": "a585d255",
   "metadata": {},
   "outputs": [
    {
     "ename": "ProgrammingError",
     "evalue": "Cannot operate on a closed database.",
     "output_type": "error",
     "traceback": [
      "\u001b[1;31m---------------------------------------------------------------------------\u001b[0m",
      "\u001b[1;31mProgrammingError\u001b[0m                          Traceback (most recent call last)",
      "Cell \u001b[1;32mIn[51], line 2\u001b[0m\n\u001b[0;32m      1\u001b[0m \u001b[38;5;66;03m# Yapılan değişikliklerin veri tabanı üzerine kaydedilmesi\u001b[39;00m\n\u001b[1;32m----> 2\u001b[0m conn\u001b[38;5;241m.\u001b[39mcommit()\n\u001b[0;32m      4\u001b[0m \u001b[38;5;66;03m# Veri tabanı bağlantısını kapatma\u001b[39;00m\n\u001b[0;32m      5\u001b[0m conn\u001b[38;5;241m.\u001b[39mclose()\n",
      "\u001b[1;31mProgrammingError\u001b[0m: Cannot operate on a closed database."
     ]
    }
   ],
   "source": [
    "# Yapılan değişikliklerin veri tabanı üzerine kaydedilmesi\n",
    "conn.commit()\n",
    "\n",
    "# Veri tabanı bağlantısını kapatma\n",
    "conn.close()"
   ]
  },
  {
   "cell_type": "code",
   "execution_count": 52,
   "id": "b54f4745",
   "metadata": {},
   "outputs": [],
   "source": [
    "conn.close()"
   ]
  },
  {
   "cell_type": "code",
   "execution_count": 1,
   "id": "0ca944cc",
   "metadata": {},
   "outputs": [],
   "source": [
    "from sqlalchemy import create_engine, MetaData, Table\n",
    "from sqlalchemy.orm import sessionmaker"
   ]
  },
  {
   "cell_type": "code",
   "execution_count": 2,
   "id": "6faa8b3e",
   "metadata": {},
   "outputs": [
    {
     "ename": "TypeError",
     "evalue": "MetaData.__init__() got an unexpected keyword argument 'bind'",
     "output_type": "error",
     "traceback": [
      "\u001b[1;31m---------------------------------------------------------------------------\u001b[0m",
      "\u001b[1;31mTypeError\u001b[0m                                 Traceback (most recent call last)",
      "Cell \u001b[1;32mIn[2], line 5\u001b[0m\n\u001b[0;32m      2\u001b[0m engine \u001b[38;5;241m=\u001b[39m create_engine(\u001b[38;5;124m'\u001b[39m\u001b[38;5;124msqlite:///MyFirstDB\u001b[39m\u001b[38;5;124m'\u001b[39m)\n\u001b[0;32m      4\u001b[0m \u001b[38;5;66;03m# MetaData objesini oluşturma\u001b[39;00m\n\u001b[1;32m----> 5\u001b[0m metadata \u001b[38;5;241m=\u001b[39m MetaData(bind\u001b[38;5;241m=\u001b[39mengine)\n",
      "\u001b[1;31mTypeError\u001b[0m: MetaData.__init__() got an unexpected keyword argument 'bind'"
     ]
    }
   ],
   "source": [
    "# Veritabanı motorunu oluşturma\n",
    "engine = create_engine('sqlite:///MyFirstDB')\n",
    "\n",
    "# MetaData objesini oluşturma\n",
    "metadata = MetaData(bind=engine)"
   ]
  },
  {
   "cell_type": "code",
   "execution_count": 3,
   "id": "4835ebb8",
   "metadata": {},
   "outputs": [],
   "source": [
    "# Veritabanı motorunu oluşturma\n",
    "engine = create_engine('sqlite:///MyFirstDB')"
   ]
  },
  {
   "cell_type": "code",
   "execution_count": 4,
   "id": "eb0e4256",
   "metadata": {},
   "outputs": [
    {
     "ename": "NameError",
     "evalue": "name 'session' is not defined",
     "output_type": "error",
     "traceback": [
      "\u001b[1;31m---------------------------------------------------------------------------\u001b[0m",
      "\u001b[1;31mNameError\u001b[0m                                 Traceback (most recent call last)",
      "Cell \u001b[1;32mIn[4], line 1\u001b[0m\n\u001b[1;32m----> 1\u001b[0m query \u001b[38;5;241m=\u001b[39m session\u001b[38;5;241m.\u001b[39mquery(Tables)\n",
      "\u001b[1;31mNameError\u001b[0m: name 'session' is not defined"
     ]
    }
   ],
   "source": [
    "query = session.query(Tables)"
   ]
  },
  {
   "cell_type": "code",
   "execution_count": 5,
   "id": "8ffecb96",
   "metadata": {},
   "outputs": [
    {
     "ename": "NameError",
     "evalue": "name 'query' is not defined",
     "output_type": "error",
     "traceback": [
      "\u001b[1;31m---------------------------------------------------------------------------\u001b[0m",
      "\u001b[1;31mNameError\u001b[0m                                 Traceback (most recent call last)",
      "Cell \u001b[1;32mIn[5], line 1\u001b[0m\n\u001b[1;32m----> 1\u001b[0m query \u001b[38;5;241m=\u001b[39m query(Tables)\n",
      "\u001b[1;31mNameError\u001b[0m: name 'query' is not defined"
     ]
    }
   ],
   "source": [
    "query = query(Tables)"
   ]
  },
  {
   "cell_type": "code",
   "execution_count": 6,
   "id": "0574d05a",
   "metadata": {},
   "outputs": [
    {
     "ename": "NameError",
     "evalue": "name 'Tables' is not defined",
     "output_type": "error",
     "traceback": [
      "\u001b[1;31m---------------------------------------------------------------------------\u001b[0m",
      "\u001b[1;31mNameError\u001b[0m                                 Traceback (most recent call last)",
      "Cell \u001b[1;32mIn[6], line 1\u001b[0m\n\u001b[1;32m----> 1\u001b[0m query \u001b[38;5;241m=\u001b[39m Tables\n",
      "\u001b[1;31mNameError\u001b[0m: name 'Tables' is not defined"
     ]
    }
   ],
   "source": [
    "query = Tables"
   ]
  },
  {
   "cell_type": "code",
   "execution_count": 7,
   "id": "ec5dc851",
   "metadata": {},
   "outputs": [
    {
     "ename": "NameError",
     "evalue": "name 'Calisan' is not defined",
     "output_type": "error",
     "traceback": [
      "\u001b[1;31m---------------------------------------------------------------------------\u001b[0m",
      "\u001b[1;31mNameError\u001b[0m                                 Traceback (most recent call last)",
      "Cell \u001b[1;32mIn[7], line 1\u001b[0m\n\u001b[1;32m----> 1\u001b[0m query \u001b[38;5;241m=\u001b[39m Calisan\n",
      "\u001b[1;31mNameError\u001b[0m: name 'Calisan' is not defined"
     ]
    }
   ],
   "source": [
    "query = Calisan"
   ]
  },
  {
   "cell_type": "code",
   "execution_count": 8,
   "id": "dfaa3a86",
   "metadata": {},
   "outputs": [],
   "source": [
    "# SQLite için gereken paketi çağırma\n",
    "import sqlite3"
   ]
  },
  {
   "cell_type": "code",
   "execution_count": 10,
   "id": "dc473b51",
   "metadata": {},
   "outputs": [],
   "source": [
    "# Veri tabanına bağnarak, bağlantıyı \"Conn\" değişkenine yükleme\n",
    "conn = sqlite3.connect(\"MyFirstDB\")"
   ]
  },
  {
   "cell_type": "code",
   "execution_count": 11,
   "id": "a0d723fb",
   "metadata": {},
   "outputs": [],
   "source": [
    "# Veri tabanı ile iletisimi sağlayan \"Cursor\" elemanını oluşturma\n",
    "cursor = conn.cursor()"
   ]
  },
  {
   "cell_type": "code",
   "execution_count": 12,
   "id": "79be68fe",
   "metadata": {},
   "outputs": [
    {
     "data": {
      "text/plain": [
       "<sqlite3.Cursor at 0x1c544db25c0>"
      ]
     },
     "execution_count": 12,
     "metadata": {},
     "output_type": "execute_result"
    }
   ],
   "source": [
    "# SQL komutunu \"Cursor\" kullanarak çalıştırma\n",
    "cursor.execute(\"\"\"INSERT INTO Bolumcalisan (id, calisan_id, bolum_id, baslangicTarihi, bitisTarihi) VALUES\n",
    "(1, 1, 1, '2022-01-01', '2022-06-30'),\n",
    "(2, 2, 1, '2022-02-15', '2022-07-14'),\n",
    "(3, 3, 1, '2022-03-01', '2022-08-31'),\n",
    "(4, 4, 1, '2022-04-01', '2022-09-30'),\n",
    "(5, 5, 1, '2022-05-15', '2022-10-14'),\n",
    "(6, 6, 2, '2022-06-01', '2022-11-30'),\n",
    "(7, 7, 2, '2022-07-01', '2022-12-31'),\n",
    "(8, 8, 2, '2022-08-15', '2023-01-14'),\n",
    "(9, 9, 2, '2022-09-01', '2023-02-28'),\n",
    "(10, 10, 2, '2022-10-01', '2023-03-31'),\n",
    "(11, 1, 3, '2022-11-01', '2023-04-30'),\n",
    "(12, 2, 3, '2022-12-05', '2023-05-14'),\n",
    "(13, 3, 3, '2023-01-01', '2023-06-30'),\n",
    "(14, 4, 3, '2023-02-01', '2023-07-31'),\n",
    "(15, 5, 3, '2022-03-15', '2023-08-14'),\n",
    "(16, 6, 1, '2023-04-01', '2023-09-30'),\n",
    "(17, 7, 1, '2023-05-01', '2023-10-31'),\n",
    "(18, 8, 1, '2023-06-15', '2023-11-14'),\n",
    "(19, 9, 1, '2023-07-01', '2023-12-31'),\n",
    "(20, 10, 1, '2023-08-01', '2024-01-31');\"\"\")"
   ]
  },
  {
   "cell_type": "code",
   "execution_count": 15,
   "id": "6004427f",
   "metadata": {},
   "outputs": [
    {
     "name": "stdout",
     "output_type": "stream",
     "text": [
      "[(1, 1, 1, '2022-01-01', '2022-06-30'), (2, 2, 1, '2022-02-15', '2022-07-14'), (3, 3, 1, '2022-03-01', '2022-08-31'), (4, 4, 1, '2022-04-01', '2022-09-30'), (5, 5, 1, '2022-05-15', '2022-10-14'), (6, 6, 2, '2022-06-01', '2022-11-30'), (7, 7, 2, '2022-07-01', '2022-12-31'), (8, 8, 2, '2022-08-15', '2023-01-14'), (9, 9, 2, '2022-09-01', '2023-02-28'), (10, 10, 2, '2022-10-01', '2023-03-31'), (11, 1, 3, '2022-11-01', '2023-04-30'), (12, 2, 3, '2022-12-05', '2023-05-14'), (13, 3, 3, '2023-01-01', '2023-06-30'), (14, 4, 3, '2023-02-01', '2023-07-31'), (15, 5, 3, '2022-03-15', '2023-08-14'), (16, 6, 1, '2023-04-01', '2023-09-30'), (17, 7, 1, '2023-05-01', '2023-10-31'), (18, 8, 1, '2023-06-15', '2023-11-14'), (19, 9, 1, '2023-07-01', '2023-12-31'), (20, 10, 1, '2023-08-01', '2024-01-31')]\n"
     ]
    }
   ],
   "source": [
    "# Veri tabanında yer alan tabloları listeleyen SQL kodunu çalıştırma\n",
    "cursor.execute(\"SELECT * FROM BolumCalisan\")\n",
    "\n",
    "# SQL sonucunda oluşan yanıtı alarak tables değişkenine yükleme\n",
    "tables = cursor.fetchall()\n",
    "\n",
    "# Tables değişkeni içrisinde neler olduğuna bakma\n",
    "print(tables)"
   ]
  },
  {
   "cell_type": "markdown",
   "id": "e670a51d",
   "metadata": {},
   "source": []
  },
  {
   "cell_type": "code",
   "execution_count": 16,
   "id": "257b3de0",
   "metadata": {},
   "outputs": [],
   "source": [
    "# Yapılan değişikleri veri tabanı üzerine kaydetme\n",
    "conn.commit()\n",
    "\n",
    "# Veri tabanı bağlantısını kapatma\n",
    "conn.close()"
   ]
  },
  {
   "cell_type": "code",
   "execution_count": 21,
   "id": "19038e69",
   "metadata": {},
   "outputs": [
    {
     "data": {
      "text/plain": [
       "<sqlite3.Cursor at 0x1c544db2bc0>"
      ]
     },
     "execution_count": 21,
     "metadata": {},
     "output_type": "execute_result"
    }
   ],
   "source": [
    "# SQLite için gereken paketi çağırma\n",
    "import sqlite3\n",
    "\n",
    "# Veri tabanına bağnarak, bağlantıyı \"Conn\" değişkenine yükleme\n",
    "conn = sqlite3.connect(\"MyFirstDB\")\n",
    "\n",
    "# Veri tabanı ile iletisimi sağlayan \"Cursor\" elemanını oluşturma\n",
    "cursor = conn.cursor()\n",
    "\n",
    "# SQL komutunu \"Cursor\" kullanarak çalıştırma\n",
    "cursor.execute(\"\"\"INSERT INTO Maas (id, calisan_id, unvan, baslangicTarihi, bitisTarihi) VALUES\n",
    "(1, 1, 'Yonetici', '2022-01-01', '2022-12-31'),\n",
    "(2, 2, 'Muhasebe Müdürü', '2022-01-01', '2022-12-31'),\n",
    "(3, 3, 'Satış Müdürü', '2022-01-01', '2022-12-31'),\n",
    "(4, 4, 'Müşteri Temsilcisi', '2022-01-01', '2022-12-31'),\n",
    "(5, 5, 'Üretim Müdürü', '2022-01-01', '2022-12-31'),\n",
    "(6, 6, 'İnsan Kaynakları Müdürü', '2022-01-01', '2022-12-31'),\n",
    "(7, 7, 'Yazılım Geliştirici', '2022-01-01', '2022-12-31'),\n",
    "(8, 8, 'Tasarımcı', '2022-01-01', '2022-12-31'),\n",
    "(9, 9, 'Pazarlama Müdürü', '2022-01-01', '2022-12-31'),\n",
    "(10, 10, 'Muhasebeci', '2022-01-01', '2022-12-31'),\n",
    "(11, 1, 'Yönetici', '2022-01-01', '2022-12-31'),\n",
    "(12, 2, 'Muhasebe Müdürü', '2022-01-01', '2022-12-31'),\n",
    "(13, 3, 'Satış Müdürü', '2022-01-01', '2022-12-31'),\n",
    "(14, 4, 'Müşteri Temsilcisi', '2022-01-01', '2022-12-31'),\n",
    "(15, 5, 'Üretim Müdürü', '2022-01-01', '2022-12-31');\"\"\")"
   ]
  },
  {
   "cell_type": "code",
   "execution_count": 22,
   "id": "62e2fe23",
   "metadata": {},
   "outputs": [
    {
     "name": "stdout",
     "output_type": "stream",
     "text": [
      "[(1, 1, None, '2022-01-01', '2022-12-31', 'Yonetici'), (2, 2, None, '2022-01-01', '2022-12-31', 'Muhasebe Müdürü'), (3, 3, None, '2022-01-01', '2022-12-31', 'Satış Müdürü'), (4, 4, None, '2022-01-01', '2022-12-31', 'Müşteri Temsilcisi'), (5, 5, None, '2022-01-01', '2022-12-31', 'Üretim Müdürü'), (6, 6, None, '2022-01-01', '2022-12-31', 'İnsan Kaynakları Müdürü'), (7, 7, None, '2022-01-01', '2022-12-31', 'Yazılım Geliştirici'), (8, 8, None, '2022-01-01', '2022-12-31', 'Tasarımcı'), (9, 9, None, '2022-01-01', '2022-12-31', 'Pazarlama Müdürü'), (10, 10, None, '2022-01-01', '2022-12-31', 'Muhasebeci'), (11, 1, None, '2022-01-01', '2022-12-31', 'Yönetici'), (12, 2, None, '2022-01-01', '2022-12-31', 'Muhasebe Müdürü'), (13, 3, None, '2022-01-01', '2022-12-31', 'Satış Müdürü'), (14, 4, None, '2022-01-01', '2022-12-31', 'Müşteri Temsilcisi'), (15, 5, None, '2022-01-01', '2022-12-31', 'Üretim Müdürü')]\n"
     ]
    }
   ],
   "source": [
    "# Veri tabanında yer alan tabloları listeleyen SQL kodunu çalıştırma\n",
    "cursor.execute(\"SELECT * FROM Maas\")\n",
    "\n",
    "# SQL sonucunda oluşan yanıtı alarak tables değişkenine yükleme\n",
    "tables = cursor.fetchall()\n",
    "\n",
    "# Tables değişkeni içrisinde neler olduğuna bakma\n",
    "print(tables)"
   ]
  },
  {
   "cell_type": "code",
   "execution_count": 23,
   "id": "8a8d3057",
   "metadata": {},
   "outputs": [],
   "source": [
    "# Python içerisinde kullanılan ORM paketi \"SQLAlchemy\"’i, alt paketleriyle birlikte çağırma\n",
    "import sqlalchemy\n",
    "from sqlalchemy import create_engine, Column, Integer, String, Date, ForeignKey\n",
    "from sqlalchemy.ext.declarative import declarative_base\n",
    "from sqlalchemy.orm import relationship\n",
    "from sqlalchemy.orm import sessionmaker\n",
    "\n",
    "# Veri tabanı motorunu oluşturma\n",
    "engine = create_engine('sqlite:///MyFirstDB')\n",
    "Base = sqlalchemy.orm.declarative_base()"
   ]
  },
  {
   "cell_type": "code",
   "execution_count": 24,
   "id": "ceb3fb8b",
   "metadata": {},
   "outputs": [
    {
     "ename": "NameError",
     "evalue": "name 'string' is not defined",
     "output_type": "error",
     "traceback": [
      "\u001b[1;31m---------------------------------------------------------------------------\u001b[0m",
      "\u001b[1;31mNameError\u001b[0m                                 Traceback (most recent call last)",
      "Cell \u001b[1;32mIn[24], line 2\u001b[0m\n\u001b[0;32m      1\u001b[0m \u001b[38;5;66;03m# \"Çalışan\" sınıfını tanımlayarak \"Base\" değişkenini aldırmayla \"SQLAlchemy\"'nin veri tabanıyla bağlantı kurmasını sağlama\u001b[39;00m\n\u001b[1;32m----> 2\u001b[0m \u001b[38;5;28;01mclass\u001b[39;00m \u001b[38;5;21;01mCalisan\u001b[39;00m(Base):\n\u001b[0;32m      3\u001b[0m     __tablename__ \u001b[38;5;241m=\u001b[39m \u001b[38;5;124m'\u001b[39m\u001b[38;5;124mCalisan\u001b[39m\u001b[38;5;124m'\u001b[39m\n\u001b[0;32m      4\u001b[0m     \u001b[38;5;28mid\u001b[39m \u001b[38;5;241m=\u001b[39m Column(Integer, primary_key\u001b[38;5;241m=\u001b[39m\u001b[38;5;28;01mTrue\u001b[39;00m)\n",
      "Cell \u001b[1;32mIn[24], line 5\u001b[0m, in \u001b[0;36mCalisan\u001b[1;34m()\u001b[0m\n\u001b[0;32m      3\u001b[0m __tablename__ \u001b[38;5;241m=\u001b[39m \u001b[38;5;124m'\u001b[39m\u001b[38;5;124mCalisan\u001b[39m\u001b[38;5;124m'\u001b[39m\n\u001b[0;32m      4\u001b[0m \u001b[38;5;28mid\u001b[39m \u001b[38;5;241m=\u001b[39m Column(Integer, primary_key\u001b[38;5;241m=\u001b[39m\u001b[38;5;28;01mTrue\u001b[39;00m)\n\u001b[1;32m----> 5\u001b[0m adi \u001b[38;5;241m=\u001b[39m Column(string)\n\u001b[0;32m      6\u001b[0m soyadi \u001b[38;5;241m=\u001b[39m Column(string)\n\u001b[0;32m      7\u001b[0m cinsiyet \u001b[38;5;241m=\u001b[39m Column(string)\n",
      "\u001b[1;31mNameError\u001b[0m: name 'string' is not defined"
     ]
    }
   ],
   "source": [
    "# \"Çalışan\" sınıfını tanımlayarak \"Base\" değişkenini aldırmayla \"SQLAlchemy\"'nin veri tabanıyla bağlantı kurmasını sağlama\n",
    "class Calisan(Base):\n",
    "    __tablename__ = 'Calisan'\n",
    "    id = Column(Integer, primary_key=True)\n",
    "    adi = Column(string)\n",
    "    soyadi = Column(string)\n",
    "    cinsiyet = Column(string)\n",
    "    iseGirisTarihi = Column(string)\n",
    "    \n",
    "    Pozisyon = relationship(\"Pozisyon\")\n",
    "    Maas = relationship(\"Maas\")\n",
    "    Yoneticilik = relationship(\"Yoneticilik\")\n",
    "    Bolumcalisan = relationship(\"BolumCalisan\")"
   ]
  },
  {
   "cell_type": "code",
   "execution_count": 28,
   "id": "c2514bef",
   "metadata": {},
   "outputs": [
    {
     "ename": "SyntaxError",
     "evalue": "invalid syntax (3670222263.py, line 4)",
     "output_type": "error",
     "traceback": [
      "\u001b[1;36m  Cell \u001b[1;32mIn[28], line 4\u001b[1;36m\u001b[0m\n\u001b[1;33m    Base = sqlalchemy.orm.declarative_base().\u001b[0m\n\u001b[1;37m                                             ^\u001b[0m\n\u001b[1;31mSyntaxError\u001b[0m\u001b[1;31m:\u001b[0m invalid syntax\n"
     ]
    }
   ],
   "source": [
    "from sqlalchemy import Column, Integer, String\n",
    "from sqlalchemy.orm.declarative import declarative_base\n",
    "\n",
    "Base = sqlalchemy.orm.declarative_base().\n",
    "\n",
    "class Calisan(Base):\n",
    "    __tablename__ = 'Calisan'\n",
    "    id = Column(Integer, primary_key=True)\n",
    "    adi = Column(String)\n",
    "    soyadi = Column(String)\n",
    "    cinsiyet = Column(String)"
   ]
  },
  {
   "cell_type": "code",
   "execution_count": 27,
   "id": "9a24984b",
   "metadata": {},
   "outputs": [],
   "source": [
    "# Python içerisinde kullanılan ORM paketi \"SQLAlchemy\"’i, alt paketleriyle birlikte çağırma\n",
    "import sqlalchemy\n",
    "from sqlalchemy import create_engine, Column, Integer, String, Date, ForeignKey\n",
    "from sqlalchemy.ext.declarative import declarative_base\n",
    "from sqlalchemy.orm import relationship\n",
    "from sqlalchemy.orm import sessionmaker"
   ]
  },
  {
   "cell_type": "code",
   "execution_count": 29,
   "id": "5e1d50d9",
   "metadata": {},
   "outputs": [],
   "source": [
    "# Python içerisinde kullanılan ORM paketi \"SQLAlchemy\"’i, alt paketleriyle birlikte çağırma\n",
    "import sqlalchemy\n",
    "from sqlalchemy import create_engine, Column, Integer, String, Date, ForeignKey\n",
    "from sqlalchemy.ext.declarative import declarative_base\n",
    "from sqlalchemy.orm import relationship\n",
    "from sqlalchemy.orm import sessionmaker\n",
    "\n",
    "# Veri tabanı motorunu oluşturma\n",
    "engine = create_engine('sqlite:///MyFirstDB')\n",
    "Base = sqlalchemy.orm.declarative_base()"
   ]
  },
  {
   "cell_type": "code",
   "execution_count": 30,
   "id": "40e3140f",
   "metadata": {},
   "outputs": [],
   "source": [
    "# \"Çalışan\" sınıfını tanımlayarak \"Base\" değişkenini aldırmayla \"SQLAlchemy\"'nin veri tabanıyla bağlantı kurmasını sağlama\n",
    "class Calisan(Base):\n",
    "    __tablename__ = 'Calisan'\n",
    "    id = Column(Integer, primary_key=True)\n",
    "    adi = Column(String)\n",
    "    soyadi = Column(String)\n",
    "    cinsiyet = Column(String)\n",
    "    iseGirisTarihi = Column(String)\n",
    "    \n",
    "    Pozisyon = relationship(\"Pozisyon\")\n",
    "    Maas = relationship(\"Maas\")\n",
    "    Yoneticilik = relationship(\"Yoneticilik\")\n",
    "    Bolumcalisan = relationship(\"BolumCalisan\")"
   ]
  },
  {
   "cell_type": "code",
   "execution_count": 31,
   "id": "0079d9d6",
   "metadata": {},
   "outputs": [],
   "source": [
    "# \"Bölüm\" sınıfını tanımlayarak \"Base\" değişkenini aldırmayla \"SQLAlchemy\"'nin veri tabanıyla bağlantı kurmasını sağlama\n",
    "class Bolum(Base):\n",
    "    __tablename__ = 'Bolum'\n",
    "    id = Column(Integer, primary_key=True)\n",
    "    adi = Column(String)"
   ]
  },
  {
   "cell_type": "code",
   "execution_count": 33,
   "id": "824f81ac",
   "metadata": {},
   "outputs": [
    {
     "name": "stderr",
     "output_type": "stream",
     "text": [
      "C:\\Users\\Monster\\AppData\\Local\\Temp\\ipykernel_20636\\4276174908.py:2: SAWarning: This declarative base already contains a class with the same class name and module name as __main__.Pozisyon, and will be replaced in the string-lookup table.\n",
      "  class Pozisyon(Base):\n"
     ]
    },
    {
     "ename": "InvalidRequestError",
     "evalue": "Table 'Pozisyon' is already defined for this MetaData instance.  Specify 'extend_existing=True' to redefine options and columns on an existing Table object.",
     "output_type": "error",
     "traceback": [
      "\u001b[1;31m---------------------------------------------------------------------------\u001b[0m",
      "\u001b[1;31mInvalidRequestError\u001b[0m                       Traceback (most recent call last)",
      "Cell \u001b[1;32mIn[33], line 2\u001b[0m\n\u001b[0;32m      1\u001b[0m \u001b[38;5;66;03m# \"Pozisyon\" sınıfını tanımlayarak \"Base\" değişkenini aldırmayla \"SQLAlchemy\"'nin veri tabanıyla bağlantı kurmasını sağlama\u001b[39;00m\n\u001b[1;32m----> 2\u001b[0m \u001b[38;5;28;01mclass\u001b[39;00m \u001b[38;5;21;01mPozisyon\u001b[39;00m(Base):\n\u001b[0;32m      3\u001b[0m     __tablename__ \u001b[38;5;241m=\u001b[39m \u001b[38;5;124m'\u001b[39m\u001b[38;5;124mPozisyon\u001b[39m\u001b[38;5;124m'\u001b[39m\n\u001b[0;32m      4\u001b[0m     \u001b[38;5;28mid\u001b[39m \u001b[38;5;241m=\u001b[39m Column(Integer, primary_key\u001b[38;5;241m=\u001b[39m\u001b[38;5;28;01mTrue\u001b[39;00m)\n",
      "File \u001b[1;32m~\\anaconda3\\Lib\\site-packages\\sqlalchemy\\orm\\decl_api.py:196\u001b[0m, in \u001b[0;36mDeclarativeMeta.__init__\u001b[1;34m(cls, classname, bases, dict_, **kw)\u001b[0m\n\u001b[0;32m    193\u001b[0m         \u001b[38;5;28mcls\u001b[39m\u001b[38;5;241m.\u001b[39m_sa_registry \u001b[38;5;241m=\u001b[39m reg\n\u001b[0;32m    195\u001b[0m \u001b[38;5;28;01mif\u001b[39;00m \u001b[38;5;129;01mnot\u001b[39;00m \u001b[38;5;28mcls\u001b[39m\u001b[38;5;241m.\u001b[39m\u001b[38;5;18m__dict__\u001b[39m\u001b[38;5;241m.\u001b[39mget(\u001b[38;5;124m\"\u001b[39m\u001b[38;5;124m__abstract__\u001b[39m\u001b[38;5;124m\"\u001b[39m, \u001b[38;5;28;01mFalse\u001b[39;00m):\n\u001b[1;32m--> 196\u001b[0m     _as_declarative(reg, \u001b[38;5;28mcls\u001b[39m, dict_)\n\u001b[0;32m    197\u001b[0m \u001b[38;5;28mtype\u001b[39m\u001b[38;5;241m.\u001b[39m\u001b[38;5;21m__init__\u001b[39m(\u001b[38;5;28mcls\u001b[39m, classname, bases, dict_)\n",
      "File \u001b[1;32m~\\anaconda3\\Lib\\site-packages\\sqlalchemy\\orm\\decl_base.py:247\u001b[0m, in \u001b[0;36m_as_declarative\u001b[1;34m(registry, cls, dict_)\u001b[0m\n\u001b[0;32m    242\u001b[0m \u001b[38;5;28;01mdef\u001b[39;00m \u001b[38;5;21m_as_declarative\u001b[39m(\n\u001b[0;32m    243\u001b[0m     registry: _RegistryType, \u001b[38;5;28mcls\u001b[39m: Type[Any], dict_: _ClassDict\n\u001b[0;32m    244\u001b[0m ) \u001b[38;5;241m-\u001b[39m\u001b[38;5;241m>\u001b[39m Optional[_MapperConfig]:\n\u001b[0;32m    245\u001b[0m     \u001b[38;5;66;03m# declarative scans the class for attributes.  no table or mapper\u001b[39;00m\n\u001b[0;32m    246\u001b[0m     \u001b[38;5;66;03m# args passed separately.\u001b[39;00m\n\u001b[1;32m--> 247\u001b[0m     \u001b[38;5;28;01mreturn\u001b[39;00m _MapperConfig\u001b[38;5;241m.\u001b[39msetup_mapping(registry, \u001b[38;5;28mcls\u001b[39m, dict_, \u001b[38;5;28;01mNone\u001b[39;00m, {})\n",
      "File \u001b[1;32m~\\anaconda3\\Lib\\site-packages\\sqlalchemy\\orm\\decl_base.py:328\u001b[0m, in \u001b[0;36m_MapperConfig.setup_mapping\u001b[1;34m(cls, registry, cls_, dict_, table, mapper_kw)\u001b[0m\n\u001b[0;32m    324\u001b[0m     \u001b[38;5;28;01mreturn\u001b[39;00m _DeferredMapperConfig(\n\u001b[0;32m    325\u001b[0m         registry, cls_, dict_, table, mapper_kw\n\u001b[0;32m    326\u001b[0m     )\n\u001b[0;32m    327\u001b[0m \u001b[38;5;28;01melse\u001b[39;00m:\n\u001b[1;32m--> 328\u001b[0m     \u001b[38;5;28;01mreturn\u001b[39;00m _ClassScanMapperConfig(\n\u001b[0;32m    329\u001b[0m         registry, cls_, dict_, table, mapper_kw\n\u001b[0;32m    330\u001b[0m     )\n",
      "File \u001b[1;32m~\\anaconda3\\Lib\\site-packages\\sqlalchemy\\orm\\decl_base.py:578\u001b[0m, in \u001b[0;36m_ClassScanMapperConfig.__init__\u001b[1;34m(self, registry, cls_, dict_, table, mapper_kw)\u001b[0m\n\u001b[0;32m    574\u001b[0m \u001b[38;5;28mself\u001b[39m\u001b[38;5;241m.\u001b[39m_extract_mappable_attributes()\n\u001b[0;32m    576\u001b[0m \u001b[38;5;28mself\u001b[39m\u001b[38;5;241m.\u001b[39m_extract_declared_columns()\n\u001b[1;32m--> 578\u001b[0m \u001b[38;5;28mself\u001b[39m\u001b[38;5;241m.\u001b[39m_setup_table(table)\n\u001b[0;32m    580\u001b[0m \u001b[38;5;28mself\u001b[39m\u001b[38;5;241m.\u001b[39m_setup_inheriting_columns(mapper_kw)\n\u001b[0;32m    582\u001b[0m \u001b[38;5;28mself\u001b[39m\u001b[38;5;241m.\u001b[39m_early_mapping(mapper_kw)\n",
      "File \u001b[1;32m~\\anaconda3\\Lib\\site-packages\\sqlalchemy\\orm\\decl_base.py:1729\u001b[0m, in \u001b[0;36m_ClassScanMapperConfig._setup_table\u001b[1;34m(self, table)\u001b[0m\n\u001b[0;32m   1721\u001b[0m             table_kw[\u001b[38;5;124m\"\u001b[39m\u001b[38;5;124mautoload\u001b[39m\u001b[38;5;124m\"\u001b[39m] \u001b[38;5;241m=\u001b[39m \u001b[38;5;28;01mTrue\u001b[39;00m\n\u001b[0;32m   1723\u001b[0m         sorted_columns \u001b[38;5;241m=\u001b[39m \u001b[38;5;28msorted\u001b[39m(\n\u001b[0;32m   1724\u001b[0m             declared_columns,\n\u001b[0;32m   1725\u001b[0m             key\u001b[38;5;241m=\u001b[39m\u001b[38;5;28;01mlambda\u001b[39;00m c: column_ordering\u001b[38;5;241m.\u001b[39mget(c, \u001b[38;5;241m0\u001b[39m),\n\u001b[0;32m   1726\u001b[0m         )\n\u001b[0;32m   1727\u001b[0m         table \u001b[38;5;241m=\u001b[39m \u001b[38;5;28mself\u001b[39m\u001b[38;5;241m.\u001b[39mset_cls_attribute(\n\u001b[0;32m   1728\u001b[0m             \u001b[38;5;124m\"\u001b[39m\u001b[38;5;124m__table__\u001b[39m\u001b[38;5;124m\"\u001b[39m,\n\u001b[1;32m-> 1729\u001b[0m             table_cls(\n\u001b[0;32m   1730\u001b[0m                 tablename,\n\u001b[0;32m   1731\u001b[0m                 \u001b[38;5;28mself\u001b[39m\u001b[38;5;241m.\u001b[39m_metadata_for_cls(manager),\n\u001b[0;32m   1732\u001b[0m                 \u001b[38;5;241m*\u001b[39msorted_columns,\n\u001b[0;32m   1733\u001b[0m                 \u001b[38;5;241m*\u001b[39margs,\n\u001b[0;32m   1734\u001b[0m                 \u001b[38;5;241m*\u001b[39m\u001b[38;5;241m*\u001b[39mtable_kw,\n\u001b[0;32m   1735\u001b[0m             ),\n\u001b[0;32m   1736\u001b[0m         )\n\u001b[0;32m   1737\u001b[0m \u001b[38;5;28;01melse\u001b[39;00m:\n\u001b[0;32m   1738\u001b[0m     \u001b[38;5;28;01mif\u001b[39;00m table \u001b[38;5;129;01mis\u001b[39;00m \u001b[38;5;28;01mNone\u001b[39;00m:\n",
      "File \u001b[1;32m<string>:2\u001b[0m, in \u001b[0;36m__new__\u001b[1;34m(cls, *args, **kw)\u001b[0m\n",
      "File \u001b[1;32m~\\anaconda3\\Lib\\site-packages\\sqlalchemy\\util\\deprecations.py:281\u001b[0m, in \u001b[0;36mdeprecated_params.<locals>.decorate.<locals>.warned\u001b[1;34m(fn, *args, **kwargs)\u001b[0m\n\u001b[0;32m    274\u001b[0m     \u001b[38;5;28;01mif\u001b[39;00m m \u001b[38;5;129;01min\u001b[39;00m kwargs:\n\u001b[0;32m    275\u001b[0m         _warn_with_version(\n\u001b[0;32m    276\u001b[0m             messages[m],\n\u001b[0;32m    277\u001b[0m             versions[m],\n\u001b[0;32m    278\u001b[0m             version_warnings[m],\n\u001b[0;32m    279\u001b[0m             stacklevel\u001b[38;5;241m=\u001b[39m\u001b[38;5;241m3\u001b[39m,\n\u001b[0;32m    280\u001b[0m         )\n\u001b[1;32m--> 281\u001b[0m \u001b[38;5;28;01mreturn\u001b[39;00m fn(\u001b[38;5;241m*\u001b[39margs, \u001b[38;5;241m*\u001b[39m\u001b[38;5;241m*\u001b[39mkwargs)\n",
      "File \u001b[1;32m~\\anaconda3\\Lib\\site-packages\\sqlalchemy\\sql\\schema.py:436\u001b[0m, in \u001b[0;36mTable.__new__\u001b[1;34m(cls, *args, **kw)\u001b[0m\n\u001b[0;32m    429\u001b[0m \u001b[38;5;129m@util\u001b[39m\u001b[38;5;241m.\u001b[39mdeprecated_params(\n\u001b[0;32m    430\u001b[0m     mustexist\u001b[38;5;241m=\u001b[39m(\n\u001b[0;32m    431\u001b[0m         \u001b[38;5;124m\"\u001b[39m\u001b[38;5;124m1.4\u001b[39m\u001b[38;5;124m\"\u001b[39m,\n\u001b[1;32m   (...)\u001b[0m\n\u001b[0;32m    434\u001b[0m )\n\u001b[0;32m    435\u001b[0m \u001b[38;5;28;01mdef\u001b[39;00m \u001b[38;5;21m__new__\u001b[39m(\u001b[38;5;28mcls\u001b[39m, \u001b[38;5;241m*\u001b[39margs: Any, \u001b[38;5;241m*\u001b[39m\u001b[38;5;241m*\u001b[39mkw: Any) \u001b[38;5;241m-\u001b[39m\u001b[38;5;241m>\u001b[39m Any:\n\u001b[1;32m--> 436\u001b[0m     \u001b[38;5;28;01mreturn\u001b[39;00m \u001b[38;5;28mcls\u001b[39m\u001b[38;5;241m.\u001b[39m_new(\u001b[38;5;241m*\u001b[39margs, \u001b[38;5;241m*\u001b[39m\u001b[38;5;241m*\u001b[39mkw)\n",
      "File \u001b[1;32m~\\anaconda3\\Lib\\site-packages\\sqlalchemy\\sql\\schema.py:468\u001b[0m, in \u001b[0;36mTable._new\u001b[1;34m(cls, *args, **kw)\u001b[0m\n\u001b[0;32m    466\u001b[0m \u001b[38;5;28;01mif\u001b[39;00m key \u001b[38;5;129;01min\u001b[39;00m metadata\u001b[38;5;241m.\u001b[39mtables:\n\u001b[0;32m    467\u001b[0m     \u001b[38;5;28;01mif\u001b[39;00m \u001b[38;5;129;01mnot\u001b[39;00m keep_existing \u001b[38;5;129;01mand\u001b[39;00m \u001b[38;5;129;01mnot\u001b[39;00m extend_existing \u001b[38;5;129;01mand\u001b[39;00m \u001b[38;5;28mbool\u001b[39m(args):\n\u001b[1;32m--> 468\u001b[0m         \u001b[38;5;28;01mraise\u001b[39;00m exc\u001b[38;5;241m.\u001b[39mInvalidRequestError(\n\u001b[0;32m    469\u001b[0m             \u001b[38;5;124mf\u001b[39m\u001b[38;5;124m\"\u001b[39m\u001b[38;5;124mTable \u001b[39m\u001b[38;5;124m'\u001b[39m\u001b[38;5;132;01m{\u001b[39;00mkey\u001b[38;5;132;01m}\u001b[39;00m\u001b[38;5;124m'\u001b[39m\u001b[38;5;124m is already defined for this MetaData \u001b[39m\u001b[38;5;124m\"\u001b[39m\n\u001b[0;32m    470\u001b[0m             \u001b[38;5;124m\"\u001b[39m\u001b[38;5;124minstance.  Specify \u001b[39m\u001b[38;5;124m'\u001b[39m\u001b[38;5;124mextend_existing=True\u001b[39m\u001b[38;5;124m'\u001b[39m\u001b[38;5;124m \u001b[39m\u001b[38;5;124m\"\u001b[39m\n\u001b[0;32m    471\u001b[0m             \u001b[38;5;124m\"\u001b[39m\u001b[38;5;124mto redefine \u001b[39m\u001b[38;5;124m\"\u001b[39m\n\u001b[0;32m    472\u001b[0m             \u001b[38;5;124m\"\u001b[39m\u001b[38;5;124moptions and columns on an \u001b[39m\u001b[38;5;124m\"\u001b[39m\n\u001b[0;32m    473\u001b[0m             \u001b[38;5;124m\"\u001b[39m\u001b[38;5;124mexisting Table object.\u001b[39m\u001b[38;5;124m\"\u001b[39m\n\u001b[0;32m    474\u001b[0m         )\n\u001b[0;32m    475\u001b[0m     table \u001b[38;5;241m=\u001b[39m metadata\u001b[38;5;241m.\u001b[39mtables[key]\n\u001b[0;32m    476\u001b[0m     \u001b[38;5;28;01mif\u001b[39;00m extend_existing:\n",
      "\u001b[1;31mInvalidRequestError\u001b[0m: Table 'Pozisyon' is already defined for this MetaData instance.  Specify 'extend_existing=True' to redefine options and columns on an existing Table object."
     ]
    }
   ],
   "source": [
    "# \"Pozisyon\" sınıfını tanımlayarak \"Base\" değişkenini aldırmayla \"SQLAlchemy\"'nin veri tabanıyla bağlantı kurmasını sağlama\n",
    "class Pozisyon(Base):\n",
    "    __tablename__ = 'Pozisyon'\n",
    "    id = Column(Integer, primary_key=True)\n",
    "    calisan_id = Column(Integer, ForeignKey('Calisan.id'))\n",
    "    unvan = Column(String)\n",
    "    baslangicTarihi = Column(String)\n",
    "    bitisTarihi = Column(String)"
   ]
  },
  {
   "cell_type": "code",
   "execution_count": 34,
   "id": "f5b07a2d",
   "metadata": {},
   "outputs": [],
   "source": [
    "# \"Maaş\" sınıfını tanımlayarak \"Base\" değişkenini aldırmayla \"SQLAlchemy\"'nin veri tabanıyla bağlantı kurmasını sağlama\n",
    "class Maas(Base):\n",
    "    __tablename__ = 'Maas'\n",
    "    id = Column(Integer, primary_key=True)\n",
    "    calisan_id = Column(Integer, ForeignKey('Calisan.id'))\n",
    "    unvan = Column(String)\n",
    "    baslangicTarihi = Column(String)\n",
    "    bitisTarihi = Column(String)\n",
    "    \n",
    "    Calisan = relationship(\"Calisan\", back_populates=\"Maas\")"
   ]
  },
  {
   "cell_type": "code",
   "execution_count": 35,
   "id": "ccf926ec",
   "metadata": {},
   "outputs": [],
   "source": [
    "# \"Yöneticilik\" sınıfını tanımlayarak \"Base\" değişkenini aldırmayla \"SQLAlchemy\"'nin veri tabanıyla bağlantı kurmasını sağlama\n",
    "class Yoneticilik(Base):\n",
    "    __tablename__ = 'Yoneticilik'\n",
    "    id = Column(Integer, primary_key=True)\n",
    "    calisan_id = Column(Integer, ForeignKey('Calisan.id'))\n",
    "    bolum_id = Column(Integer, ForeignKey('Bolum.id'))\n",
    "    baslangicTarihi = Column(String)\n",
    "    bitisTarihi = Column(String)"
   ]
  },
  {
   "cell_type": "code",
   "execution_count": 36,
   "id": "b8dea240",
   "metadata": {},
   "outputs": [],
   "source": [
    "# \"Bölüm Çalışan\" sınıfını tanımlayarak \"Base\" değişkenini aldırmayla \"SQLAlchemy\"'nin veri tabanıyla bağlantı kurmasını sağlama\n",
    "class BolumCalisan(Base):\n",
    "    __tablename__ = 'BolumCalisan'\n",
    "    id = Column(Integer, primary_key=True)\n",
    "    calisan_id = Column(Integer, ForeignKey('Calisan.id'))\n",
    "    bolum_id = Column(Integer, ForeignKey('Bolum.id'))\n",
    "    baslangicTarihi = Column(String)\n",
    "    bitisTarihi = Column(String)"
   ]
  },
  {
   "cell_type": "code",
   "execution_count": 39,
   "id": "06b7b7f9",
   "metadata": {},
   "outputs": [
    {
     "ename": "NameError",
     "evalue": "name 'session' is not defined",
     "output_type": "error",
     "traceback": [
      "\u001b[1;31m---------------------------------------------------------------------------\u001b[0m",
      "\u001b[1;31mNameError\u001b[0m                                 Traceback (most recent call last)",
      "Cell \u001b[1;32mIn[39], line 3\u001b[0m\n\u001b[0;32m      1\u001b[0m \u001b[38;5;66;03m# Session oluşturma\u001b[39;00m\n\u001b[0;32m      2\u001b[0m Session \u001b[38;5;241m=\u001b[39m sessionmaker(bind\u001b[38;5;241m=\u001b[39mengine)\n\u001b[1;32m----> 3\u001b[0m Session \u001b[38;5;241m=\u001b[39m session()\n",
      "\u001b[1;31mNameError\u001b[0m: name 'session' is not defined"
     ]
    }
   ],
   "source": [
    "# Session oluşturma\n",
    "Session = sessionmaker(bind=engine)\n",
    "Session = session()"
   ]
  },
  {
   "cell_type": "code",
   "execution_count": 41,
   "id": "09e2cc4f",
   "metadata": {},
   "outputs": [],
   "source": [
    "# Session oluşturma\n",
    "Session = sessionmaker(bind=engine)\n",
    "Session = Session()"
   ]
  },
  {
   "cell_type": "code",
   "execution_count": 56,
   "id": "91df7617",
   "metadata": {},
   "outputs": [
    {
     "ename": "InvalidRequestError",
     "evalue": "One or more mappers failed to initialize - can't proceed with initialization of other mappers. Triggering mapper: 'Mapper[Calisan(Calisan)]'. Original exception was: Multiple classes found for path \"Pozisyon\" in the registry of this declarative base. Please use a fully module-qualified path.",
     "output_type": "error",
     "traceback": [
      "\u001b[1;31m---------------------------------------------------------------------------\u001b[0m",
      "\u001b[1;31mInvalidRequestError\u001b[0m                       Traceback (most recent call last)",
      "Cell \u001b[1;32mIn[56], line 2\u001b[0m\n\u001b[0;32m      1\u001b[0m Session\u001b[38;5;241m.\u001b[39madd_all([\n\u001b[1;32m----> 2\u001b[0m     Pozisyon(\u001b[38;5;28mid\u001b[39m\u001b[38;5;241m=\u001b[39m\u001b[38;5;241m1\u001b[39m, calisan_id\u001b[38;5;241m=\u001b[39m\u001b[38;5;241m1\u001b[39m, unvan\u001b[38;5;241m=\u001b[39m\u001b[38;5;124m'\u001b[39m\u001b[38;5;124mYönetici\u001b[39m\u001b[38;5;124m'\u001b[39m, baslangicTarihi\u001b[38;5;241m=\u001b[39m\u001b[38;5;124m'\u001b[39m\u001b[38;5;124m2022-01-01\u001b[39m\u001b[38;5;124m'\u001b[39m, bitisTarihi\u001b[38;5;241m=\u001b[39m\u001b[38;5;124m'\u001b[39m\u001b[38;5;124m2022-12-31\u001b[39m\u001b[38;5;124m'\u001b[39m),\n\u001b[0;32m      3\u001b[0m     Pozisyon(\u001b[38;5;28mid\u001b[39m\u001b[38;5;241m=\u001b[39m\u001b[38;5;241m2\u001b[39m, calisan_id\u001b[38;5;241m=\u001b[39m\u001b[38;5;241m2\u001b[39m, unvan\u001b[38;5;241m=\u001b[39m\u001b[38;5;124m'\u001b[39m\u001b[38;5;124mMuhasebe Müdürü\u001b[39m\u001b[38;5;124m'\u001b[39m, baslangicTarihi\u001b[38;5;241m=\u001b[39m\u001b[38;5;124m'\u001b[39m\u001b[38;5;124m2022-01-01\u001b[39m\u001b[38;5;124m'\u001b[39m, bitisTarihi\u001b[38;5;241m=\u001b[39m\u001b[38;5;124m'\u001b[39m\u001b[38;5;124m2022-12-31\u001b[39m\u001b[38;5;124m'\u001b[39m),\n\u001b[0;32m      4\u001b[0m     Pozisyon(\u001b[38;5;28mid\u001b[39m\u001b[38;5;241m=\u001b[39m\u001b[38;5;241m3\u001b[39m, calisan_id\u001b[38;5;241m=\u001b[39m\u001b[38;5;241m3\u001b[39m, unvan\u001b[38;5;241m=\u001b[39m\u001b[38;5;124m'\u001b[39m\u001b[38;5;124mSatış Müdürü\u001b[39m\u001b[38;5;124m'\u001b[39m, baslangicTarihi\u001b[38;5;241m=\u001b[39m\u001b[38;5;124m'\u001b[39m\u001b[38;5;124m2022-01-01\u001b[39m\u001b[38;5;124m'\u001b[39m, bitisTarihi\u001b[38;5;241m=\u001b[39m\u001b[38;5;124m'\u001b[39m\u001b[38;5;124m2022-12-31\u001b[39m\u001b[38;5;124m'\u001b[39m),\n\u001b[0;32m      5\u001b[0m     Pozisyon(\u001b[38;5;28mid\u001b[39m\u001b[38;5;241m=\u001b[39m\u001b[38;5;241m4\u001b[39m, calisan_id\u001b[38;5;241m=\u001b[39m\u001b[38;5;241m4\u001b[39m, unvan\u001b[38;5;241m=\u001b[39m\u001b[38;5;124m'\u001b[39m\u001b[38;5;124mMüşteri Temsilcisi\u001b[39m\u001b[38;5;124m'\u001b[39m, baslangicTarihi\u001b[38;5;241m=\u001b[39m\u001b[38;5;124m'\u001b[39m\u001b[38;5;124m2022-01-01\u001b[39m\u001b[38;5;124m'\u001b[39m, bitisTarihi\u001b[38;5;241m=\u001b[39m\u001b[38;5;124m'\u001b[39m\u001b[38;5;124m2022-12-31\u001b[39m\u001b[38;5;124m'\u001b[39m),\n\u001b[0;32m      6\u001b[0m     Pozisyon(\u001b[38;5;28mid\u001b[39m\u001b[38;5;241m=\u001b[39m\u001b[38;5;241m5\u001b[39m, calisan_id\u001b[38;5;241m=\u001b[39m\u001b[38;5;241m5\u001b[39m, unvan\u001b[38;5;241m=\u001b[39m\u001b[38;5;124m'\u001b[39m\u001b[38;5;124mÜretim Müdürü\u001b[39m\u001b[38;5;124m'\u001b[39m, baslangicTarihi\u001b[38;5;241m=\u001b[39m\u001b[38;5;124m'\u001b[39m\u001b[38;5;124m2022-01-01\u001b[39m\u001b[38;5;124m'\u001b[39m, bitisTarihi\u001b[38;5;241m=\u001b[39m\u001b[38;5;124m'\u001b[39m\u001b[38;5;124m2022-12-31\u001b[39m\u001b[38;5;124m'\u001b[39m),\n\u001b[0;32m      7\u001b[0m     Pozisyon(\u001b[38;5;28mid\u001b[39m\u001b[38;5;241m=\u001b[39m\u001b[38;5;241m6\u001b[39m, calisan_id\u001b[38;5;241m=\u001b[39m\u001b[38;5;241m6\u001b[39m, unvan\u001b[38;5;241m=\u001b[39m\u001b[38;5;124m'\u001b[39m\u001b[38;5;124mİnsan Kaynakları Müdürü\u001b[39m\u001b[38;5;124m'\u001b[39m, baslangicTarihi\u001b[38;5;241m=\u001b[39m\u001b[38;5;124m'\u001b[39m\u001b[38;5;124m2022-01-01\u001b[39m\u001b[38;5;124m'\u001b[39m, bitisTarihi\u001b[38;5;241m=\u001b[39m\u001b[38;5;124m'\u001b[39m\u001b[38;5;124m2022-12-31\u001b[39m\u001b[38;5;124m'\u001b[39m),\n\u001b[0;32m      8\u001b[0m     Pozisyon(\u001b[38;5;28mid\u001b[39m\u001b[38;5;241m=\u001b[39m\u001b[38;5;241m7\u001b[39m, calisan_id\u001b[38;5;241m=\u001b[39m\u001b[38;5;241m7\u001b[39m, unvan\u001b[38;5;241m=\u001b[39m\u001b[38;5;124m'\u001b[39m\u001b[38;5;124mYazılım Geliştirici\u001b[39m\u001b[38;5;124m'\u001b[39m, baslangicTarihi\u001b[38;5;241m=\u001b[39m\u001b[38;5;124m'\u001b[39m\u001b[38;5;124m2022-01-01\u001b[39m\u001b[38;5;124m'\u001b[39m, bitisTarihi\u001b[38;5;241m=\u001b[39m\u001b[38;5;124m'\u001b[39m\u001b[38;5;124m2022-12-31\u001b[39m\u001b[38;5;124m'\u001b[39m),\n\u001b[0;32m      9\u001b[0m     Pozisyon(\u001b[38;5;28mid\u001b[39m\u001b[38;5;241m=\u001b[39m\u001b[38;5;241m8\u001b[39m, calisan_id\u001b[38;5;241m=\u001b[39m\u001b[38;5;241m8\u001b[39m, unvan\u001b[38;5;241m=\u001b[39m\u001b[38;5;124m'\u001b[39m\u001b[38;5;124mTasarımcı\u001b[39m\u001b[38;5;124m'\u001b[39m, baslangicTarihi\u001b[38;5;241m=\u001b[39m\u001b[38;5;124m'\u001b[39m\u001b[38;5;124m2022-01-01\u001b[39m\u001b[38;5;124m'\u001b[39m, bitisTarihi\u001b[38;5;241m=\u001b[39m\u001b[38;5;124m'\u001b[39m\u001b[38;5;124m2022-12-31\u001b[39m\u001b[38;5;124m'\u001b[39m),\n\u001b[0;32m     10\u001b[0m     Pozisyon(\u001b[38;5;28mid\u001b[39m\u001b[38;5;241m=\u001b[39m\u001b[38;5;241m9\u001b[39m, calisan_id\u001b[38;5;241m=\u001b[39m\u001b[38;5;241m9\u001b[39m, unvan\u001b[38;5;241m=\u001b[39m\u001b[38;5;124m'\u001b[39m\u001b[38;5;124mPazarlama Müdürü\u001b[39m\u001b[38;5;124m'\u001b[39m, baslangicTarihi\u001b[38;5;241m=\u001b[39m\u001b[38;5;124m'\u001b[39m\u001b[38;5;124m2022-01-01\u001b[39m\u001b[38;5;124m'\u001b[39m, bitisTarihi\u001b[38;5;241m=\u001b[39m\u001b[38;5;124m'\u001b[39m\u001b[38;5;124m2022-12-31\u001b[39m\u001b[38;5;124m'\u001b[39m),\n\u001b[0;32m     11\u001b[0m     Pozisyon(\u001b[38;5;28mid\u001b[39m\u001b[38;5;241m=\u001b[39m\u001b[38;5;241m10\u001b[39m, calisan_id\u001b[38;5;241m=\u001b[39m\u001b[38;5;241m10\u001b[39m, unvan\u001b[38;5;241m=\u001b[39m\u001b[38;5;124m'\u001b[39m\u001b[38;5;124mYönetici\u001b[39m\u001b[38;5;124m'\u001b[39m, baslangicTarihi\u001b[38;5;241m=\u001b[39m\u001b[38;5;124m'\u001b[39m\u001b[38;5;124m2022-01-15\u001b[39m\u001b[38;5;124m'\u001b[39m, bitisTarihi\u001b[38;5;241m=\u001b[39m\u001b[38;5;124m'\u001b[39m\u001b[38;5;124m2022-12-22\u001b[39m\u001b[38;5;124m'\u001b[39m),\n\u001b[0;32m     12\u001b[0m     Pozisyon(\u001b[38;5;28mid\u001b[39m\u001b[38;5;241m=\u001b[39m\u001b[38;5;241m11\u001b[39m, calisan_id\u001b[38;5;241m=\u001b[39m\u001b[38;5;241m1\u001b[39m, unvan\u001b[38;5;241m=\u001b[39m\u001b[38;5;124m'\u001b[39m\u001b[38;5;124mYönetici\u001b[39m\u001b[38;5;124m'\u001b[39m, baslangicTarihi\u001b[38;5;241m=\u001b[39m\u001b[38;5;124m'\u001b[39m\u001b[38;5;124m2022-01-01\u001b[39m\u001b[38;5;124m'\u001b[39m, bitisTarihi\u001b[38;5;241m=\u001b[39m\u001b[38;5;124m'\u001b[39m\u001b[38;5;124m2022-12-31\u001b[39m\u001b[38;5;124m'\u001b[39m),\n\u001b[0;32m     13\u001b[0m     Pozisyon(\u001b[38;5;28mid\u001b[39m\u001b[38;5;241m=\u001b[39m\u001b[38;5;241m12\u001b[39m, calisan_id\u001b[38;5;241m=\u001b[39m\u001b[38;5;241m2\u001b[39m, unvan\u001b[38;5;241m=\u001b[39m\u001b[38;5;124m'\u001b[39m\u001b[38;5;124mMuhasebe Müdürü\u001b[39m\u001b[38;5;124m'\u001b[39m, baslangicTarihi\u001b[38;5;241m=\u001b[39m\u001b[38;5;124m'\u001b[39m\u001b[38;5;124m2022-01-01\u001b[39m\u001b[38;5;124m'\u001b[39m, bitisTarihi\u001b[38;5;241m=\u001b[39m\u001b[38;5;124m'\u001b[39m\u001b[38;5;124m2022-12-31\u001b[39m\u001b[38;5;124m'\u001b[39m),\n\u001b[0;32m     14\u001b[0m     Pozisyon(\u001b[38;5;28mid\u001b[39m\u001b[38;5;241m=\u001b[39m\u001b[38;5;241m13\u001b[39m, calisan_id\u001b[38;5;241m=\u001b[39m\u001b[38;5;241m3\u001b[39m, unvan\u001b[38;5;241m=\u001b[39m\u001b[38;5;124m'\u001b[39m\u001b[38;5;124mSatış Müdürü\u001b[39m\u001b[38;5;124m'\u001b[39m, baslangicTarihi\u001b[38;5;241m=\u001b[39m\u001b[38;5;124m'\u001b[39m\u001b[38;5;124m2022-01-01\u001b[39m\u001b[38;5;124m'\u001b[39m, bitisTarihi\u001b[38;5;241m=\u001b[39m\u001b[38;5;124m'\u001b[39m\u001b[38;5;124m2022-12-31\u001b[39m\u001b[38;5;124m'\u001b[39m),\n\u001b[0;32m     15\u001b[0m     Pozisyon(\u001b[38;5;28mid\u001b[39m\u001b[38;5;241m=\u001b[39m\u001b[38;5;241m14\u001b[39m, calisan_id\u001b[38;5;241m=\u001b[39m\u001b[38;5;241m4\u001b[39m, unvan\u001b[38;5;241m=\u001b[39m\u001b[38;5;124m'\u001b[39m\u001b[38;5;124mMüşteri Temsilcisi\u001b[39m\u001b[38;5;124m'\u001b[39m, baslangicTarihi\u001b[38;5;241m=\u001b[39m\u001b[38;5;124m'\u001b[39m\u001b[38;5;124m2022-01-01\u001b[39m\u001b[38;5;124m'\u001b[39m, bitisTarihi\u001b[38;5;241m=\u001b[39m\u001b[38;5;124m'\u001b[39m\u001b[38;5;124m2022-12-31\u001b[39m\u001b[38;5;124m'\u001b[39m),\n\u001b[0;32m     16\u001b[0m     Pozisyon(\u001b[38;5;28mid\u001b[39m\u001b[38;5;241m=\u001b[39m\u001b[38;5;241m15\u001b[39m, calisan_id\u001b[38;5;241m=\u001b[39m\u001b[38;5;241m5\u001b[39m, unvan\u001b[38;5;241m=\u001b[39m\u001b[38;5;124m'\u001b[39m\u001b[38;5;124mÜretim Müdürü\u001b[39m\u001b[38;5;124m'\u001b[39m, baslangicTarihi\u001b[38;5;241m=\u001b[39m\u001b[38;5;124m'\u001b[39m\u001b[38;5;124m2022-01-01\u001b[39m\u001b[38;5;124m'\u001b[39m, bitisTarihi\u001b[38;5;241m=\u001b[39m\u001b[38;5;124m'\u001b[39m\u001b[38;5;124m2022-12-31\u001b[39m\u001b[38;5;124m'\u001b[39m)\n\u001b[0;32m     17\u001b[0m ])\n",
      "File \u001b[1;32m<string>:4\u001b[0m, in \u001b[0;36m__init__\u001b[1;34m(self, **kwargs)\u001b[0m\n",
      "File \u001b[1;32m~\\anaconda3\\Lib\\site-packages\\sqlalchemy\\orm\\state.py:561\u001b[0m, in \u001b[0;36mInstanceState._initialize_instance\u001b[1;34m(*mixed, **kwargs)\u001b[0m\n\u001b[0;32m    558\u001b[0m \u001b[38;5;28mself\u001b[39m, instance, args \u001b[38;5;241m=\u001b[39m mixed[\u001b[38;5;241m0\u001b[39m], mixed[\u001b[38;5;241m1\u001b[39m], mixed[\u001b[38;5;241m2\u001b[39m:]  \u001b[38;5;66;03m# noqa\u001b[39;00m\n\u001b[0;32m    559\u001b[0m manager \u001b[38;5;241m=\u001b[39m \u001b[38;5;28mself\u001b[39m\u001b[38;5;241m.\u001b[39mmanager\n\u001b[1;32m--> 561\u001b[0m manager\u001b[38;5;241m.\u001b[39mdispatch\u001b[38;5;241m.\u001b[39minit(\u001b[38;5;28mself\u001b[39m, args, kwargs)\n\u001b[0;32m    563\u001b[0m \u001b[38;5;28;01mtry\u001b[39;00m:\n\u001b[0;32m    564\u001b[0m     manager\u001b[38;5;241m.\u001b[39moriginal_init(\u001b[38;5;241m*\u001b[39mmixed[\u001b[38;5;241m1\u001b[39m:], \u001b[38;5;241m*\u001b[39m\u001b[38;5;241m*\u001b[39mkwargs)\n",
      "File \u001b[1;32m~\\anaconda3\\Lib\\site-packages\\sqlalchemy\\event\\attr.py:499\u001b[0m, in \u001b[0;36m_CompoundListener.__call__\u001b[1;34m(self, *args, **kw)\u001b[0m\n\u001b[0;32m    497\u001b[0m     fn(\u001b[38;5;241m*\u001b[39margs, \u001b[38;5;241m*\u001b[39m\u001b[38;5;241m*\u001b[39mkw)\n\u001b[0;32m    498\u001b[0m \u001b[38;5;28;01mfor\u001b[39;00m fn \u001b[38;5;129;01min\u001b[39;00m \u001b[38;5;28mself\u001b[39m\u001b[38;5;241m.\u001b[39mlisteners:\n\u001b[1;32m--> 499\u001b[0m     fn(\u001b[38;5;241m*\u001b[39margs, \u001b[38;5;241m*\u001b[39m\u001b[38;5;241m*\u001b[39mkw)\n",
      "File \u001b[1;32m~\\anaconda3\\Lib\\site-packages\\sqlalchemy\\orm\\mapper.py:4391\u001b[0m, in \u001b[0;36m_event_on_init\u001b[1;34m(state, args, kwargs)\u001b[0m\n\u001b[0;32m   4389\u001b[0m instrumenting_mapper \u001b[38;5;241m=\u001b[39m state\u001b[38;5;241m.\u001b[39mmanager\u001b[38;5;241m.\u001b[39mmapper\n\u001b[0;32m   4390\u001b[0m \u001b[38;5;28;01mif\u001b[39;00m instrumenting_mapper:\n\u001b[1;32m-> 4391\u001b[0m     instrumenting_mapper\u001b[38;5;241m.\u001b[39m_check_configure()\n\u001b[0;32m   4392\u001b[0m     \u001b[38;5;28;01mif\u001b[39;00m instrumenting_mapper\u001b[38;5;241m.\u001b[39m_set_polymorphic_identity:\n\u001b[0;32m   4393\u001b[0m         instrumenting_mapper\u001b[38;5;241m.\u001b[39m_set_polymorphic_identity(state)\n",
      "File \u001b[1;32m~\\anaconda3\\Lib\\site-packages\\sqlalchemy\\orm\\mapper.py:2386\u001b[0m, in \u001b[0;36mMapper._check_configure\u001b[1;34m(self)\u001b[0m\n\u001b[0;32m   2378\u001b[0m \u001b[38;5;129m@util\u001b[39m\u001b[38;5;241m.\u001b[39mlanghelpers\u001b[38;5;241m.\u001b[39mtag_method_for_warnings(\n\u001b[0;32m   2379\u001b[0m     \u001b[38;5;124m\"\u001b[39m\u001b[38;5;124mThis warning originated from the `configure_mappers()` process, \u001b[39m\u001b[38;5;124m\"\u001b[39m\n\u001b[0;32m   2380\u001b[0m     \u001b[38;5;124m\"\u001b[39m\u001b[38;5;124mwhich was invoked automatically in response to a user-initiated \u001b[39m\u001b[38;5;124m\"\u001b[39m\n\u001b[1;32m   (...)\u001b[0m\n\u001b[0;32m   2383\u001b[0m )\n\u001b[0;32m   2384\u001b[0m \u001b[38;5;28;01mdef\u001b[39;00m \u001b[38;5;21m_check_configure\u001b[39m(\u001b[38;5;28mself\u001b[39m) \u001b[38;5;241m-\u001b[39m\u001b[38;5;241m>\u001b[39m \u001b[38;5;28;01mNone\u001b[39;00m:\n\u001b[0;32m   2385\u001b[0m     \u001b[38;5;28;01mif\u001b[39;00m \u001b[38;5;28mself\u001b[39m\u001b[38;5;241m.\u001b[39mregistry\u001b[38;5;241m.\u001b[39m_new_mappers:\n\u001b[1;32m-> 2386\u001b[0m         _configure_registries({\u001b[38;5;28mself\u001b[39m\u001b[38;5;241m.\u001b[39mregistry}, cascade\u001b[38;5;241m=\u001b[39m\u001b[38;5;28;01mTrue\u001b[39;00m)\n",
      "File \u001b[1;32m~\\anaconda3\\Lib\\site-packages\\sqlalchemy\\orm\\mapper.py:4199\u001b[0m, in \u001b[0;36m_configure_registries\u001b[1;34m(registries, cascade)\u001b[0m\n\u001b[0;32m   4193\u001b[0m     Mapper\u001b[38;5;241m.\u001b[39mdispatch\u001b[38;5;241m.\u001b[39m_for_class(Mapper)\u001b[38;5;241m.\u001b[39mbefore_configured()  \u001b[38;5;66;03m# type: ignore # noqa: E501\u001b[39;00m\n\u001b[0;32m   4194\u001b[0m     \u001b[38;5;66;03m# initialize properties on all mappers\u001b[39;00m\n\u001b[0;32m   4195\u001b[0m     \u001b[38;5;66;03m# note that _mapper_registry is unordered, which\u001b[39;00m\n\u001b[0;32m   4196\u001b[0m     \u001b[38;5;66;03m# may randomly conceal/reveal issues related to\u001b[39;00m\n\u001b[0;32m   4197\u001b[0m     \u001b[38;5;66;03m# the order of mapper compilation\u001b[39;00m\n\u001b[1;32m-> 4199\u001b[0m     _do_configure_registries(registries, cascade)\n\u001b[0;32m   4200\u001b[0m \u001b[38;5;28;01mfinally\u001b[39;00m:\n\u001b[0;32m   4201\u001b[0m     _already_compiling \u001b[38;5;241m=\u001b[39m \u001b[38;5;28;01mFalse\u001b[39;00m\n",
      "File \u001b[1;32m~\\anaconda3\\Lib\\site-packages\\sqlalchemy\\orm\\mapper.py:4236\u001b[0m, in \u001b[0;36m_do_configure_registries\u001b[1;34m(registries, cascade)\u001b[0m\n\u001b[0;32m   4228\u001b[0m     e \u001b[38;5;241m=\u001b[39m sa_exc\u001b[38;5;241m.\u001b[39mInvalidRequestError(\n\u001b[0;32m   4229\u001b[0m         \u001b[38;5;124m\"\u001b[39m\u001b[38;5;124mOne or more mappers failed to initialize - \u001b[39m\u001b[38;5;124m\"\u001b[39m\n\u001b[0;32m   4230\u001b[0m         \u001b[38;5;124m\"\u001b[39m\u001b[38;5;124mcan\u001b[39m\u001b[38;5;124m'\u001b[39m\u001b[38;5;124mt proceed with initialization of other \u001b[39m\u001b[38;5;124m\"\u001b[39m\n\u001b[1;32m   (...)\u001b[0m\n\u001b[0;32m   4233\u001b[0m         \u001b[38;5;241m%\u001b[39m (mapper, mapper\u001b[38;5;241m.\u001b[39m_configure_failed)\n\u001b[0;32m   4234\u001b[0m     )\n\u001b[0;32m   4235\u001b[0m     e\u001b[38;5;241m.\u001b[39m_configure_failed \u001b[38;5;241m=\u001b[39m mapper\u001b[38;5;241m.\u001b[39m_configure_failed  \u001b[38;5;66;03m# type: ignore\u001b[39;00m\n\u001b[1;32m-> 4236\u001b[0m     \u001b[38;5;28;01mraise\u001b[39;00m e\n\u001b[0;32m   4238\u001b[0m \u001b[38;5;28;01mif\u001b[39;00m \u001b[38;5;129;01mnot\u001b[39;00m mapper\u001b[38;5;241m.\u001b[39mconfigured:\n\u001b[0;32m   4239\u001b[0m     \u001b[38;5;28;01mtry\u001b[39;00m:\n",
      "\u001b[1;31mInvalidRequestError\u001b[0m: One or more mappers failed to initialize - can't proceed with initialization of other mappers. Triggering mapper: 'Mapper[Calisan(Calisan)]'. Original exception was: Multiple classes found for path \"Pozisyon\" in the registry of this declarative base. Please use a fully module-qualified path."
     ]
    }
   ],
   "source": [
    "Session.add_all([\n",
    "    Pozisyon(id=1, calisan_id=1, unvan='Yönetici', baslangicTarihi='2022-01-01', bitisTarihi='2022-12-31'),\n",
    "    Pozisyon(id=2, calisan_id=2, unvan='Muhasebe Müdürü', baslangicTarihi='2022-01-01', bitisTarihi='2022-12-31'),\n",
    "    Pozisyon(id=3, calisan_id=3, unvan='Satış Müdürü', baslangicTarihi='2022-01-01', bitisTarihi='2022-12-31'),\n",
    "    Pozisyon(id=4, calisan_id=4, unvan='Müşteri Temsilcisi', baslangicTarihi='2022-01-01', bitisTarihi='2022-12-31'),\n",
    "    Pozisyon(id=5, calisan_id=5, unvan='Üretim Müdürü', baslangicTarihi='2022-01-01', bitisTarihi='2022-12-31'),\n",
    "    Pozisyon(id=6, calisan_id=6, unvan='İnsan Kaynakları Müdürü', baslangicTarihi='2022-01-01', bitisTarihi='2022-12-31'),\n",
    "    Pozisyon(id=7, calisan_id=7, unvan='Yazılım Geliştirici', baslangicTarihi='2022-01-01', bitisTarihi='2022-12-31'),\n",
    "    Pozisyon(id=8, calisan_id=8, unvan='Tasarımcı', baslangicTarihi='2022-01-01', bitisTarihi='2022-12-31'),\n",
    "    Pozisyon(id=9, calisan_id=9, unvan='Pazarlama Müdürü', baslangicTarihi='2022-01-01', bitisTarihi='2022-12-31'),\n",
    "    Pozisyon(id=10, calisan_id=10, unvan='Yönetici', baslangicTarihi='2022-01-15', bitisTarihi='2022-12-22'),\n",
    "    Pozisyon(id=11, calisan_id=1, unvan='Yönetici', baslangicTarihi='2022-01-01', bitisTarihi='2022-12-31'),\n",
    "    Pozisyon(id=12, calisan_id=2, unvan='Muhasebe Müdürü', baslangicTarihi='2022-01-01', bitisTarihi='2022-12-31'),\n",
    "    Pozisyon(id=13, calisan_id=3, unvan='Satış Müdürü', baslangicTarihi='2022-01-01', bitisTarihi='2022-12-31'),\n",
    "    Pozisyon(id=14, calisan_id=4, unvan='Müşteri Temsilcisi', baslangicTarihi='2022-01-01', bitisTarihi='2022-12-31'),\n",
    "    Pozisyon(id=15, calisan_id=5, unvan='Üretim Müdürü', baslangicTarihi='2022-01-01', bitisTarihi='2022-12-31')\n",
    "])"
   ]
  },
  {
   "cell_type": "code",
   "execution_count": 43,
   "id": "13b6fb4b",
   "metadata": {},
   "outputs": [
    {
     "name": "stderr",
     "output_type": "stream",
     "text": [
      "C:\\Users\\Monster\\AppData\\Local\\Temp\\ipykernel_20636\\4276174908.py:2: SAWarning: This declarative base already contains a class with the same class name and module name as __main__.Pozisyon, and will be replaced in the string-lookup table.\n",
      "  class Pozisyon(Base):\n"
     ]
    },
    {
     "ename": "InvalidRequestError",
     "evalue": "Table 'Pozisyon' is already defined for this MetaData instance.  Specify 'extend_existing=True' to redefine options and columns on an existing Table object.",
     "output_type": "error",
     "traceback": [
      "\u001b[1;31m---------------------------------------------------------------------------\u001b[0m",
      "\u001b[1;31mInvalidRequestError\u001b[0m                       Traceback (most recent call last)",
      "Cell \u001b[1;32mIn[43], line 2\u001b[0m\n\u001b[0;32m      1\u001b[0m \u001b[38;5;66;03m# \"Pozisyon\" sınıfını tanımlayarak \"Base\" değişkenini aldırmayla \"SQLAlchemy\"'nin veri tabanıyla bağlantı kurmasını sağlama\u001b[39;00m\n\u001b[1;32m----> 2\u001b[0m \u001b[38;5;28;01mclass\u001b[39;00m \u001b[38;5;21;01mPozisyon\u001b[39;00m(Base):\n\u001b[0;32m      3\u001b[0m     __tablename__ \u001b[38;5;241m=\u001b[39m \u001b[38;5;124m'\u001b[39m\u001b[38;5;124mPozisyon\u001b[39m\u001b[38;5;124m'\u001b[39m\n\u001b[0;32m      4\u001b[0m     \u001b[38;5;28mid\u001b[39m \u001b[38;5;241m=\u001b[39m Column(Integer, primary_key\u001b[38;5;241m=\u001b[39m\u001b[38;5;28;01mTrue\u001b[39;00m)\n",
      "File \u001b[1;32m~\\anaconda3\\Lib\\site-packages\\sqlalchemy\\orm\\decl_api.py:196\u001b[0m, in \u001b[0;36mDeclarativeMeta.__init__\u001b[1;34m(cls, classname, bases, dict_, **kw)\u001b[0m\n\u001b[0;32m    193\u001b[0m         \u001b[38;5;28mcls\u001b[39m\u001b[38;5;241m.\u001b[39m_sa_registry \u001b[38;5;241m=\u001b[39m reg\n\u001b[0;32m    195\u001b[0m \u001b[38;5;28;01mif\u001b[39;00m \u001b[38;5;129;01mnot\u001b[39;00m \u001b[38;5;28mcls\u001b[39m\u001b[38;5;241m.\u001b[39m\u001b[38;5;18m__dict__\u001b[39m\u001b[38;5;241m.\u001b[39mget(\u001b[38;5;124m\"\u001b[39m\u001b[38;5;124m__abstract__\u001b[39m\u001b[38;5;124m\"\u001b[39m, \u001b[38;5;28;01mFalse\u001b[39;00m):\n\u001b[1;32m--> 196\u001b[0m     _as_declarative(reg, \u001b[38;5;28mcls\u001b[39m, dict_)\n\u001b[0;32m    197\u001b[0m \u001b[38;5;28mtype\u001b[39m\u001b[38;5;241m.\u001b[39m\u001b[38;5;21m__init__\u001b[39m(\u001b[38;5;28mcls\u001b[39m, classname, bases, dict_)\n",
      "File \u001b[1;32m~\\anaconda3\\Lib\\site-packages\\sqlalchemy\\orm\\decl_base.py:247\u001b[0m, in \u001b[0;36m_as_declarative\u001b[1;34m(registry, cls, dict_)\u001b[0m\n\u001b[0;32m    242\u001b[0m \u001b[38;5;28;01mdef\u001b[39;00m \u001b[38;5;21m_as_declarative\u001b[39m(\n\u001b[0;32m    243\u001b[0m     registry: _RegistryType, \u001b[38;5;28mcls\u001b[39m: Type[Any], dict_: _ClassDict\n\u001b[0;32m    244\u001b[0m ) \u001b[38;5;241m-\u001b[39m\u001b[38;5;241m>\u001b[39m Optional[_MapperConfig]:\n\u001b[0;32m    245\u001b[0m     \u001b[38;5;66;03m# declarative scans the class for attributes.  no table or mapper\u001b[39;00m\n\u001b[0;32m    246\u001b[0m     \u001b[38;5;66;03m# args passed separately.\u001b[39;00m\n\u001b[1;32m--> 247\u001b[0m     \u001b[38;5;28;01mreturn\u001b[39;00m _MapperConfig\u001b[38;5;241m.\u001b[39msetup_mapping(registry, \u001b[38;5;28mcls\u001b[39m, dict_, \u001b[38;5;28;01mNone\u001b[39;00m, {})\n",
      "File \u001b[1;32m~\\anaconda3\\Lib\\site-packages\\sqlalchemy\\orm\\decl_base.py:328\u001b[0m, in \u001b[0;36m_MapperConfig.setup_mapping\u001b[1;34m(cls, registry, cls_, dict_, table, mapper_kw)\u001b[0m\n\u001b[0;32m    324\u001b[0m     \u001b[38;5;28;01mreturn\u001b[39;00m _DeferredMapperConfig(\n\u001b[0;32m    325\u001b[0m         registry, cls_, dict_, table, mapper_kw\n\u001b[0;32m    326\u001b[0m     )\n\u001b[0;32m    327\u001b[0m \u001b[38;5;28;01melse\u001b[39;00m:\n\u001b[1;32m--> 328\u001b[0m     \u001b[38;5;28;01mreturn\u001b[39;00m _ClassScanMapperConfig(\n\u001b[0;32m    329\u001b[0m         registry, cls_, dict_, table, mapper_kw\n\u001b[0;32m    330\u001b[0m     )\n",
      "File \u001b[1;32m~\\anaconda3\\Lib\\site-packages\\sqlalchemy\\orm\\decl_base.py:578\u001b[0m, in \u001b[0;36m_ClassScanMapperConfig.__init__\u001b[1;34m(self, registry, cls_, dict_, table, mapper_kw)\u001b[0m\n\u001b[0;32m    574\u001b[0m \u001b[38;5;28mself\u001b[39m\u001b[38;5;241m.\u001b[39m_extract_mappable_attributes()\n\u001b[0;32m    576\u001b[0m \u001b[38;5;28mself\u001b[39m\u001b[38;5;241m.\u001b[39m_extract_declared_columns()\n\u001b[1;32m--> 578\u001b[0m \u001b[38;5;28mself\u001b[39m\u001b[38;5;241m.\u001b[39m_setup_table(table)\n\u001b[0;32m    580\u001b[0m \u001b[38;5;28mself\u001b[39m\u001b[38;5;241m.\u001b[39m_setup_inheriting_columns(mapper_kw)\n\u001b[0;32m    582\u001b[0m \u001b[38;5;28mself\u001b[39m\u001b[38;5;241m.\u001b[39m_early_mapping(mapper_kw)\n",
      "File \u001b[1;32m~\\anaconda3\\Lib\\site-packages\\sqlalchemy\\orm\\decl_base.py:1729\u001b[0m, in \u001b[0;36m_ClassScanMapperConfig._setup_table\u001b[1;34m(self, table)\u001b[0m\n\u001b[0;32m   1721\u001b[0m             table_kw[\u001b[38;5;124m\"\u001b[39m\u001b[38;5;124mautoload\u001b[39m\u001b[38;5;124m\"\u001b[39m] \u001b[38;5;241m=\u001b[39m \u001b[38;5;28;01mTrue\u001b[39;00m\n\u001b[0;32m   1723\u001b[0m         sorted_columns \u001b[38;5;241m=\u001b[39m \u001b[38;5;28msorted\u001b[39m(\n\u001b[0;32m   1724\u001b[0m             declared_columns,\n\u001b[0;32m   1725\u001b[0m             key\u001b[38;5;241m=\u001b[39m\u001b[38;5;28;01mlambda\u001b[39;00m c: column_ordering\u001b[38;5;241m.\u001b[39mget(c, \u001b[38;5;241m0\u001b[39m),\n\u001b[0;32m   1726\u001b[0m         )\n\u001b[0;32m   1727\u001b[0m         table \u001b[38;5;241m=\u001b[39m \u001b[38;5;28mself\u001b[39m\u001b[38;5;241m.\u001b[39mset_cls_attribute(\n\u001b[0;32m   1728\u001b[0m             \u001b[38;5;124m\"\u001b[39m\u001b[38;5;124m__table__\u001b[39m\u001b[38;5;124m\"\u001b[39m,\n\u001b[1;32m-> 1729\u001b[0m             table_cls(\n\u001b[0;32m   1730\u001b[0m                 tablename,\n\u001b[0;32m   1731\u001b[0m                 \u001b[38;5;28mself\u001b[39m\u001b[38;5;241m.\u001b[39m_metadata_for_cls(manager),\n\u001b[0;32m   1732\u001b[0m                 \u001b[38;5;241m*\u001b[39msorted_columns,\n\u001b[0;32m   1733\u001b[0m                 \u001b[38;5;241m*\u001b[39margs,\n\u001b[0;32m   1734\u001b[0m                 \u001b[38;5;241m*\u001b[39m\u001b[38;5;241m*\u001b[39mtable_kw,\n\u001b[0;32m   1735\u001b[0m             ),\n\u001b[0;32m   1736\u001b[0m         )\n\u001b[0;32m   1737\u001b[0m \u001b[38;5;28;01melse\u001b[39;00m:\n\u001b[0;32m   1738\u001b[0m     \u001b[38;5;28;01mif\u001b[39;00m table \u001b[38;5;129;01mis\u001b[39;00m \u001b[38;5;28;01mNone\u001b[39;00m:\n",
      "File \u001b[1;32m<string>:2\u001b[0m, in \u001b[0;36m__new__\u001b[1;34m(cls, *args, **kw)\u001b[0m\n",
      "File \u001b[1;32m~\\anaconda3\\Lib\\site-packages\\sqlalchemy\\util\\deprecations.py:281\u001b[0m, in \u001b[0;36mdeprecated_params.<locals>.decorate.<locals>.warned\u001b[1;34m(fn, *args, **kwargs)\u001b[0m\n\u001b[0;32m    274\u001b[0m     \u001b[38;5;28;01mif\u001b[39;00m m \u001b[38;5;129;01min\u001b[39;00m kwargs:\n\u001b[0;32m    275\u001b[0m         _warn_with_version(\n\u001b[0;32m    276\u001b[0m             messages[m],\n\u001b[0;32m    277\u001b[0m             versions[m],\n\u001b[0;32m    278\u001b[0m             version_warnings[m],\n\u001b[0;32m    279\u001b[0m             stacklevel\u001b[38;5;241m=\u001b[39m\u001b[38;5;241m3\u001b[39m,\n\u001b[0;32m    280\u001b[0m         )\n\u001b[1;32m--> 281\u001b[0m \u001b[38;5;28;01mreturn\u001b[39;00m fn(\u001b[38;5;241m*\u001b[39margs, \u001b[38;5;241m*\u001b[39m\u001b[38;5;241m*\u001b[39mkwargs)\n",
      "File \u001b[1;32m~\\anaconda3\\Lib\\site-packages\\sqlalchemy\\sql\\schema.py:436\u001b[0m, in \u001b[0;36mTable.__new__\u001b[1;34m(cls, *args, **kw)\u001b[0m\n\u001b[0;32m    429\u001b[0m \u001b[38;5;129m@util\u001b[39m\u001b[38;5;241m.\u001b[39mdeprecated_params(\n\u001b[0;32m    430\u001b[0m     mustexist\u001b[38;5;241m=\u001b[39m(\n\u001b[0;32m    431\u001b[0m         \u001b[38;5;124m\"\u001b[39m\u001b[38;5;124m1.4\u001b[39m\u001b[38;5;124m\"\u001b[39m,\n\u001b[1;32m   (...)\u001b[0m\n\u001b[0;32m    434\u001b[0m )\n\u001b[0;32m    435\u001b[0m \u001b[38;5;28;01mdef\u001b[39;00m \u001b[38;5;21m__new__\u001b[39m(\u001b[38;5;28mcls\u001b[39m, \u001b[38;5;241m*\u001b[39margs: Any, \u001b[38;5;241m*\u001b[39m\u001b[38;5;241m*\u001b[39mkw: Any) \u001b[38;5;241m-\u001b[39m\u001b[38;5;241m>\u001b[39m Any:\n\u001b[1;32m--> 436\u001b[0m     \u001b[38;5;28;01mreturn\u001b[39;00m \u001b[38;5;28mcls\u001b[39m\u001b[38;5;241m.\u001b[39m_new(\u001b[38;5;241m*\u001b[39margs, \u001b[38;5;241m*\u001b[39m\u001b[38;5;241m*\u001b[39mkw)\n",
      "File \u001b[1;32m~\\anaconda3\\Lib\\site-packages\\sqlalchemy\\sql\\schema.py:468\u001b[0m, in \u001b[0;36mTable._new\u001b[1;34m(cls, *args, **kw)\u001b[0m\n\u001b[0;32m    466\u001b[0m \u001b[38;5;28;01mif\u001b[39;00m key \u001b[38;5;129;01min\u001b[39;00m metadata\u001b[38;5;241m.\u001b[39mtables:\n\u001b[0;32m    467\u001b[0m     \u001b[38;5;28;01mif\u001b[39;00m \u001b[38;5;129;01mnot\u001b[39;00m keep_existing \u001b[38;5;129;01mand\u001b[39;00m \u001b[38;5;129;01mnot\u001b[39;00m extend_existing \u001b[38;5;129;01mand\u001b[39;00m \u001b[38;5;28mbool\u001b[39m(args):\n\u001b[1;32m--> 468\u001b[0m         \u001b[38;5;28;01mraise\u001b[39;00m exc\u001b[38;5;241m.\u001b[39mInvalidRequestError(\n\u001b[0;32m    469\u001b[0m             \u001b[38;5;124mf\u001b[39m\u001b[38;5;124m\"\u001b[39m\u001b[38;5;124mTable \u001b[39m\u001b[38;5;124m'\u001b[39m\u001b[38;5;132;01m{\u001b[39;00mkey\u001b[38;5;132;01m}\u001b[39;00m\u001b[38;5;124m'\u001b[39m\u001b[38;5;124m is already defined for this MetaData \u001b[39m\u001b[38;5;124m\"\u001b[39m\n\u001b[0;32m    470\u001b[0m             \u001b[38;5;124m\"\u001b[39m\u001b[38;5;124minstance.  Specify \u001b[39m\u001b[38;5;124m'\u001b[39m\u001b[38;5;124mextend_existing=True\u001b[39m\u001b[38;5;124m'\u001b[39m\u001b[38;5;124m \u001b[39m\u001b[38;5;124m\"\u001b[39m\n\u001b[0;32m    471\u001b[0m             \u001b[38;5;124m\"\u001b[39m\u001b[38;5;124mto redefine \u001b[39m\u001b[38;5;124m\"\u001b[39m\n\u001b[0;32m    472\u001b[0m             \u001b[38;5;124m\"\u001b[39m\u001b[38;5;124moptions and columns on an \u001b[39m\u001b[38;5;124m\"\u001b[39m\n\u001b[0;32m    473\u001b[0m             \u001b[38;5;124m\"\u001b[39m\u001b[38;5;124mexisting Table object.\u001b[39m\u001b[38;5;124m\"\u001b[39m\n\u001b[0;32m    474\u001b[0m         )\n\u001b[0;32m    475\u001b[0m     table \u001b[38;5;241m=\u001b[39m metadata\u001b[38;5;241m.\u001b[39mtables[key]\n\u001b[0;32m    476\u001b[0m     \u001b[38;5;28;01mif\u001b[39;00m extend_existing:\n",
      "\u001b[1;31mInvalidRequestError\u001b[0m: Table 'Pozisyon' is already defined for this MetaData instance.  Specify 'extend_existing=True' to redefine options and columns on an existing Table object."
     ]
    }
   ],
   "source": [
    "# \"Pozisyon\" sınıfını tanımlayarak \"Base\" değişkenini aldırmayla \"SQLAlchemy\"'nin veri tabanıyla bağlantı kurmasını sağlama\n",
    "class Pozisyon(Base):\n",
    "    __tablename__ = 'Pozisyon'\n",
    "    id = Column(Integer, primary_key=True)\n",
    "    calisan_id = Column(Integer, ForeignKey('Calisan.id'))\n",
    "    unvan = Column(String)\n",
    "    baslangicTarihi = Column(String)\n",
    "    bitisTarihi = Column(String)"
   ]
  },
  {
   "cell_type": "code",
   "execution_count": 44,
   "id": "8127bb8a",
   "metadata": {},
   "outputs": [
    {
     "name": "stderr",
     "output_type": "stream",
     "text": [
      "C:\\Users\\Monster\\AppData\\Local\\Temp\\ipykernel_20636\\2911091882.py:1: SAWarning: This declarative base already contains a class with the same class name and module name as __main__.Pozisyon, and will be replaced in the string-lookup table.\n",
      "  class Pozisyon(Base):\n"
     ]
    }
   ],
   "source": [
    "class Pozisyon(Base):\n",
    "    __tablename__ = 'Pozisyon'\n",
    "    id = Column(Integer, primary_key=True)\n",
    "    # diğer sütunlar...\n",
    "\n",
    "    __table_args__ = {'extend_existing': True}"
   ]
  },
  {
   "cell_type": "code",
   "execution_count": 45,
   "id": "a08d9bfa",
   "metadata": {},
   "outputs": [
    {
     "name": "stderr",
     "output_type": "stream",
     "text": [
      "C:\\Users\\Monster\\AppData\\Local\\Temp\\ipykernel_20636\\3601159699.py:1: SAWarning: This declarative base already contains a class with the same class name and module name as __main__.Pozisyon, and will be replaced in the string-lookup table.\n",
      "  class Pozisyon(Base):\n"
     ]
    },
    {
     "ename": "InvalidRequestError",
     "evalue": "Table 'Pozisyon' is already defined for this MetaData instance.  Specify 'extend_existing=True' to redefine options and columns on an existing Table object.",
     "output_type": "error",
     "traceback": [
      "\u001b[1;31m---------------------------------------------------------------------------\u001b[0m",
      "\u001b[1;31mInvalidRequestError\u001b[0m                       Traceback (most recent call last)",
      "Cell \u001b[1;32mIn[45], line 1\u001b[0m\n\u001b[1;32m----> 1\u001b[0m \u001b[38;5;28;01mclass\u001b[39;00m \u001b[38;5;21;01mPozisyon\u001b[39;00m(Base):\n\u001b[0;32m      2\u001b[0m     __tablename__ \u001b[38;5;241m=\u001b[39m \u001b[38;5;124m'\u001b[39m\u001b[38;5;124mPozisyon\u001b[39m\u001b[38;5;124m'\u001b[39m\n\u001b[0;32m      3\u001b[0m     \u001b[38;5;28mid\u001b[39m \u001b[38;5;241m=\u001b[39m Column(Integer, primary_key\u001b[38;5;241m=\u001b[39m\u001b[38;5;28;01mTrue\u001b[39;00m)\n",
      "File \u001b[1;32m~\\anaconda3\\Lib\\site-packages\\sqlalchemy\\orm\\decl_api.py:196\u001b[0m, in \u001b[0;36mDeclarativeMeta.__init__\u001b[1;34m(cls, classname, bases, dict_, **kw)\u001b[0m\n\u001b[0;32m    193\u001b[0m         \u001b[38;5;28mcls\u001b[39m\u001b[38;5;241m.\u001b[39m_sa_registry \u001b[38;5;241m=\u001b[39m reg\n\u001b[0;32m    195\u001b[0m \u001b[38;5;28;01mif\u001b[39;00m \u001b[38;5;129;01mnot\u001b[39;00m \u001b[38;5;28mcls\u001b[39m\u001b[38;5;241m.\u001b[39m\u001b[38;5;18m__dict__\u001b[39m\u001b[38;5;241m.\u001b[39mget(\u001b[38;5;124m\"\u001b[39m\u001b[38;5;124m__abstract__\u001b[39m\u001b[38;5;124m\"\u001b[39m, \u001b[38;5;28;01mFalse\u001b[39;00m):\n\u001b[1;32m--> 196\u001b[0m     _as_declarative(reg, \u001b[38;5;28mcls\u001b[39m, dict_)\n\u001b[0;32m    197\u001b[0m \u001b[38;5;28mtype\u001b[39m\u001b[38;5;241m.\u001b[39m\u001b[38;5;21m__init__\u001b[39m(\u001b[38;5;28mcls\u001b[39m, classname, bases, dict_)\n",
      "File \u001b[1;32m~\\anaconda3\\Lib\\site-packages\\sqlalchemy\\orm\\decl_base.py:247\u001b[0m, in \u001b[0;36m_as_declarative\u001b[1;34m(registry, cls, dict_)\u001b[0m\n\u001b[0;32m    242\u001b[0m \u001b[38;5;28;01mdef\u001b[39;00m \u001b[38;5;21m_as_declarative\u001b[39m(\n\u001b[0;32m    243\u001b[0m     registry: _RegistryType, \u001b[38;5;28mcls\u001b[39m: Type[Any], dict_: _ClassDict\n\u001b[0;32m    244\u001b[0m ) \u001b[38;5;241m-\u001b[39m\u001b[38;5;241m>\u001b[39m Optional[_MapperConfig]:\n\u001b[0;32m    245\u001b[0m     \u001b[38;5;66;03m# declarative scans the class for attributes.  no table or mapper\u001b[39;00m\n\u001b[0;32m    246\u001b[0m     \u001b[38;5;66;03m# args passed separately.\u001b[39;00m\n\u001b[1;32m--> 247\u001b[0m     \u001b[38;5;28;01mreturn\u001b[39;00m _MapperConfig\u001b[38;5;241m.\u001b[39msetup_mapping(registry, \u001b[38;5;28mcls\u001b[39m, dict_, \u001b[38;5;28;01mNone\u001b[39;00m, {})\n",
      "File \u001b[1;32m~\\anaconda3\\Lib\\site-packages\\sqlalchemy\\orm\\decl_base.py:328\u001b[0m, in \u001b[0;36m_MapperConfig.setup_mapping\u001b[1;34m(cls, registry, cls_, dict_, table, mapper_kw)\u001b[0m\n\u001b[0;32m    324\u001b[0m     \u001b[38;5;28;01mreturn\u001b[39;00m _DeferredMapperConfig(\n\u001b[0;32m    325\u001b[0m         registry, cls_, dict_, table, mapper_kw\n\u001b[0;32m    326\u001b[0m     )\n\u001b[0;32m    327\u001b[0m \u001b[38;5;28;01melse\u001b[39;00m:\n\u001b[1;32m--> 328\u001b[0m     \u001b[38;5;28;01mreturn\u001b[39;00m _ClassScanMapperConfig(\n\u001b[0;32m    329\u001b[0m         registry, cls_, dict_, table, mapper_kw\n\u001b[0;32m    330\u001b[0m     )\n",
      "File \u001b[1;32m~\\anaconda3\\Lib\\site-packages\\sqlalchemy\\orm\\decl_base.py:578\u001b[0m, in \u001b[0;36m_ClassScanMapperConfig.__init__\u001b[1;34m(self, registry, cls_, dict_, table, mapper_kw)\u001b[0m\n\u001b[0;32m    574\u001b[0m \u001b[38;5;28mself\u001b[39m\u001b[38;5;241m.\u001b[39m_extract_mappable_attributes()\n\u001b[0;32m    576\u001b[0m \u001b[38;5;28mself\u001b[39m\u001b[38;5;241m.\u001b[39m_extract_declared_columns()\n\u001b[1;32m--> 578\u001b[0m \u001b[38;5;28mself\u001b[39m\u001b[38;5;241m.\u001b[39m_setup_table(table)\n\u001b[0;32m    580\u001b[0m \u001b[38;5;28mself\u001b[39m\u001b[38;5;241m.\u001b[39m_setup_inheriting_columns(mapper_kw)\n\u001b[0;32m    582\u001b[0m \u001b[38;5;28mself\u001b[39m\u001b[38;5;241m.\u001b[39m_early_mapping(mapper_kw)\n",
      "File \u001b[1;32m~\\anaconda3\\Lib\\site-packages\\sqlalchemy\\orm\\decl_base.py:1729\u001b[0m, in \u001b[0;36m_ClassScanMapperConfig._setup_table\u001b[1;34m(self, table)\u001b[0m\n\u001b[0;32m   1721\u001b[0m             table_kw[\u001b[38;5;124m\"\u001b[39m\u001b[38;5;124mautoload\u001b[39m\u001b[38;5;124m\"\u001b[39m] \u001b[38;5;241m=\u001b[39m \u001b[38;5;28;01mTrue\u001b[39;00m\n\u001b[0;32m   1723\u001b[0m         sorted_columns \u001b[38;5;241m=\u001b[39m \u001b[38;5;28msorted\u001b[39m(\n\u001b[0;32m   1724\u001b[0m             declared_columns,\n\u001b[0;32m   1725\u001b[0m             key\u001b[38;5;241m=\u001b[39m\u001b[38;5;28;01mlambda\u001b[39;00m c: column_ordering\u001b[38;5;241m.\u001b[39mget(c, \u001b[38;5;241m0\u001b[39m),\n\u001b[0;32m   1726\u001b[0m         )\n\u001b[0;32m   1727\u001b[0m         table \u001b[38;5;241m=\u001b[39m \u001b[38;5;28mself\u001b[39m\u001b[38;5;241m.\u001b[39mset_cls_attribute(\n\u001b[0;32m   1728\u001b[0m             \u001b[38;5;124m\"\u001b[39m\u001b[38;5;124m__table__\u001b[39m\u001b[38;5;124m\"\u001b[39m,\n\u001b[1;32m-> 1729\u001b[0m             table_cls(\n\u001b[0;32m   1730\u001b[0m                 tablename,\n\u001b[0;32m   1731\u001b[0m                 \u001b[38;5;28mself\u001b[39m\u001b[38;5;241m.\u001b[39m_metadata_for_cls(manager),\n\u001b[0;32m   1732\u001b[0m                 \u001b[38;5;241m*\u001b[39msorted_columns,\n\u001b[0;32m   1733\u001b[0m                 \u001b[38;5;241m*\u001b[39margs,\n\u001b[0;32m   1734\u001b[0m                 \u001b[38;5;241m*\u001b[39m\u001b[38;5;241m*\u001b[39mtable_kw,\n\u001b[0;32m   1735\u001b[0m             ),\n\u001b[0;32m   1736\u001b[0m         )\n\u001b[0;32m   1737\u001b[0m \u001b[38;5;28;01melse\u001b[39;00m:\n\u001b[0;32m   1738\u001b[0m     \u001b[38;5;28;01mif\u001b[39;00m table \u001b[38;5;129;01mis\u001b[39;00m \u001b[38;5;28;01mNone\u001b[39;00m:\n",
      "File \u001b[1;32m<string>:2\u001b[0m, in \u001b[0;36m__new__\u001b[1;34m(cls, *args, **kw)\u001b[0m\n",
      "File \u001b[1;32m~\\anaconda3\\Lib\\site-packages\\sqlalchemy\\util\\deprecations.py:281\u001b[0m, in \u001b[0;36mdeprecated_params.<locals>.decorate.<locals>.warned\u001b[1;34m(fn, *args, **kwargs)\u001b[0m\n\u001b[0;32m    274\u001b[0m     \u001b[38;5;28;01mif\u001b[39;00m m \u001b[38;5;129;01min\u001b[39;00m kwargs:\n\u001b[0;32m    275\u001b[0m         _warn_with_version(\n\u001b[0;32m    276\u001b[0m             messages[m],\n\u001b[0;32m    277\u001b[0m             versions[m],\n\u001b[0;32m    278\u001b[0m             version_warnings[m],\n\u001b[0;32m    279\u001b[0m             stacklevel\u001b[38;5;241m=\u001b[39m\u001b[38;5;241m3\u001b[39m,\n\u001b[0;32m    280\u001b[0m         )\n\u001b[1;32m--> 281\u001b[0m \u001b[38;5;28;01mreturn\u001b[39;00m fn(\u001b[38;5;241m*\u001b[39margs, \u001b[38;5;241m*\u001b[39m\u001b[38;5;241m*\u001b[39mkwargs)\n",
      "File \u001b[1;32m~\\anaconda3\\Lib\\site-packages\\sqlalchemy\\sql\\schema.py:436\u001b[0m, in \u001b[0;36mTable.__new__\u001b[1;34m(cls, *args, **kw)\u001b[0m\n\u001b[0;32m    429\u001b[0m \u001b[38;5;129m@util\u001b[39m\u001b[38;5;241m.\u001b[39mdeprecated_params(\n\u001b[0;32m    430\u001b[0m     mustexist\u001b[38;5;241m=\u001b[39m(\n\u001b[0;32m    431\u001b[0m         \u001b[38;5;124m\"\u001b[39m\u001b[38;5;124m1.4\u001b[39m\u001b[38;5;124m\"\u001b[39m,\n\u001b[1;32m   (...)\u001b[0m\n\u001b[0;32m    434\u001b[0m )\n\u001b[0;32m    435\u001b[0m \u001b[38;5;28;01mdef\u001b[39;00m \u001b[38;5;21m__new__\u001b[39m(\u001b[38;5;28mcls\u001b[39m, \u001b[38;5;241m*\u001b[39margs: Any, \u001b[38;5;241m*\u001b[39m\u001b[38;5;241m*\u001b[39mkw: Any) \u001b[38;5;241m-\u001b[39m\u001b[38;5;241m>\u001b[39m Any:\n\u001b[1;32m--> 436\u001b[0m     \u001b[38;5;28;01mreturn\u001b[39;00m \u001b[38;5;28mcls\u001b[39m\u001b[38;5;241m.\u001b[39m_new(\u001b[38;5;241m*\u001b[39margs, \u001b[38;5;241m*\u001b[39m\u001b[38;5;241m*\u001b[39mkw)\n",
      "File \u001b[1;32m~\\anaconda3\\Lib\\site-packages\\sqlalchemy\\sql\\schema.py:468\u001b[0m, in \u001b[0;36mTable._new\u001b[1;34m(cls, *args, **kw)\u001b[0m\n\u001b[0;32m    466\u001b[0m \u001b[38;5;28;01mif\u001b[39;00m key \u001b[38;5;129;01min\u001b[39;00m metadata\u001b[38;5;241m.\u001b[39mtables:\n\u001b[0;32m    467\u001b[0m     \u001b[38;5;28;01mif\u001b[39;00m \u001b[38;5;129;01mnot\u001b[39;00m keep_existing \u001b[38;5;129;01mand\u001b[39;00m \u001b[38;5;129;01mnot\u001b[39;00m extend_existing \u001b[38;5;129;01mand\u001b[39;00m \u001b[38;5;28mbool\u001b[39m(args):\n\u001b[1;32m--> 468\u001b[0m         \u001b[38;5;28;01mraise\u001b[39;00m exc\u001b[38;5;241m.\u001b[39mInvalidRequestError(\n\u001b[0;32m    469\u001b[0m             \u001b[38;5;124mf\u001b[39m\u001b[38;5;124m\"\u001b[39m\u001b[38;5;124mTable \u001b[39m\u001b[38;5;124m'\u001b[39m\u001b[38;5;132;01m{\u001b[39;00mkey\u001b[38;5;132;01m}\u001b[39;00m\u001b[38;5;124m'\u001b[39m\u001b[38;5;124m is already defined for this MetaData \u001b[39m\u001b[38;5;124m\"\u001b[39m\n\u001b[0;32m    470\u001b[0m             \u001b[38;5;124m\"\u001b[39m\u001b[38;5;124minstance.  Specify \u001b[39m\u001b[38;5;124m'\u001b[39m\u001b[38;5;124mextend_existing=True\u001b[39m\u001b[38;5;124m'\u001b[39m\u001b[38;5;124m \u001b[39m\u001b[38;5;124m\"\u001b[39m\n\u001b[0;32m    471\u001b[0m             \u001b[38;5;124m\"\u001b[39m\u001b[38;5;124mto redefine \u001b[39m\u001b[38;5;124m\"\u001b[39m\n\u001b[0;32m    472\u001b[0m             \u001b[38;5;124m\"\u001b[39m\u001b[38;5;124moptions and columns on an \u001b[39m\u001b[38;5;124m\"\u001b[39m\n\u001b[0;32m    473\u001b[0m             \u001b[38;5;124m\"\u001b[39m\u001b[38;5;124mexisting Table object.\u001b[39m\u001b[38;5;124m\"\u001b[39m\n\u001b[0;32m    474\u001b[0m         )\n\u001b[0;32m    475\u001b[0m     table \u001b[38;5;241m=\u001b[39m metadata\u001b[38;5;241m.\u001b[39mtables[key]\n\u001b[0;32m    476\u001b[0m     \u001b[38;5;28;01mif\u001b[39;00m extend_existing:\n",
      "\u001b[1;31mInvalidRequestError\u001b[0m: Table 'Pozisyon' is already defined for this MetaData instance.  Specify 'extend_existing=True' to redefine options and columns on an existing Table object."
     ]
    }
   ],
   "source": [
    "class Pozisyon(Base):\n",
    "    __tablename__ = 'Pozisyon'\n",
    "    id = Column(Integer, primary_key=True)\n",
    "    # diğer sütunlar..."
   ]
  },
  {
   "cell_type": "code",
   "execution_count": 46,
   "id": "dc53a72b",
   "metadata": {},
   "outputs": [],
   "source": [
    "# Veri tabanı motorunu oluşturma\n",
    "engine = create_engine('sqlite:///MyFirstDB')\n",
    "Base = sqlalchemy.orm.declarative_base()"
   ]
  },
  {
   "cell_type": "code",
   "execution_count": 47,
   "id": "7c513294",
   "metadata": {},
   "outputs": [
    {
     "name": "stderr",
     "output_type": "stream",
     "text": [
      "C:\\Users\\Monster\\AppData\\Local\\Temp\\ipykernel_20636\\1626099361.py:4: SAWarning: Can't validate argument 'extend_existing'; can't locate any SQLAlchemy dialect named 'extend'\n",
      "  id = Column(Integer, extend_existing=True)\n"
     ]
    },
    {
     "ename": "ArgumentError",
     "evalue": "Mapper Mapper[Pozisyon(Pozisyon)] could not assemble any primary key columns for mapped table 'Pozisyon'",
     "output_type": "error",
     "traceback": [
      "\u001b[1;31m---------------------------------------------------------------------------\u001b[0m",
      "\u001b[1;31mArgumentError\u001b[0m                             Traceback (most recent call last)",
      "Cell \u001b[1;32mIn[47], line 2\u001b[0m\n\u001b[0;32m      1\u001b[0m \u001b[38;5;66;03m# \"Pozisyon\" sınıfını tanımlayarak \"Base\" değişkenini aldırmayla \"SQLAlchemy\"'nin veri tabanıyla bağlantı kurmasını sağlama\u001b[39;00m\n\u001b[1;32m----> 2\u001b[0m \u001b[38;5;28;01mclass\u001b[39;00m \u001b[38;5;21;01mPozisyon\u001b[39;00m(Base):\n\u001b[0;32m      3\u001b[0m     __tablename__ \u001b[38;5;241m=\u001b[39m \u001b[38;5;124m'\u001b[39m\u001b[38;5;124mPozisyon\u001b[39m\u001b[38;5;124m'\u001b[39m\n\u001b[0;32m      4\u001b[0m     \u001b[38;5;28mid\u001b[39m \u001b[38;5;241m=\u001b[39m Column(Integer, extend_existing\u001b[38;5;241m=\u001b[39m\u001b[38;5;28;01mTrue\u001b[39;00m)\n",
      "File \u001b[1;32m~\\anaconda3\\Lib\\site-packages\\sqlalchemy\\orm\\decl_api.py:196\u001b[0m, in \u001b[0;36mDeclarativeMeta.__init__\u001b[1;34m(cls, classname, bases, dict_, **kw)\u001b[0m\n\u001b[0;32m    193\u001b[0m         \u001b[38;5;28mcls\u001b[39m\u001b[38;5;241m.\u001b[39m_sa_registry \u001b[38;5;241m=\u001b[39m reg\n\u001b[0;32m    195\u001b[0m \u001b[38;5;28;01mif\u001b[39;00m \u001b[38;5;129;01mnot\u001b[39;00m \u001b[38;5;28mcls\u001b[39m\u001b[38;5;241m.\u001b[39m\u001b[38;5;18m__dict__\u001b[39m\u001b[38;5;241m.\u001b[39mget(\u001b[38;5;124m\"\u001b[39m\u001b[38;5;124m__abstract__\u001b[39m\u001b[38;5;124m\"\u001b[39m, \u001b[38;5;28;01mFalse\u001b[39;00m):\n\u001b[1;32m--> 196\u001b[0m     _as_declarative(reg, \u001b[38;5;28mcls\u001b[39m, dict_)\n\u001b[0;32m    197\u001b[0m \u001b[38;5;28mtype\u001b[39m\u001b[38;5;241m.\u001b[39m\u001b[38;5;21m__init__\u001b[39m(\u001b[38;5;28mcls\u001b[39m, classname, bases, dict_)\n",
      "File \u001b[1;32m~\\anaconda3\\Lib\\site-packages\\sqlalchemy\\orm\\decl_base.py:247\u001b[0m, in \u001b[0;36m_as_declarative\u001b[1;34m(registry, cls, dict_)\u001b[0m\n\u001b[0;32m    242\u001b[0m \u001b[38;5;28;01mdef\u001b[39;00m \u001b[38;5;21m_as_declarative\u001b[39m(\n\u001b[0;32m    243\u001b[0m     registry: _RegistryType, \u001b[38;5;28mcls\u001b[39m: Type[Any], dict_: _ClassDict\n\u001b[0;32m    244\u001b[0m ) \u001b[38;5;241m-\u001b[39m\u001b[38;5;241m>\u001b[39m Optional[_MapperConfig]:\n\u001b[0;32m    245\u001b[0m     \u001b[38;5;66;03m# declarative scans the class for attributes.  no table or mapper\u001b[39;00m\n\u001b[0;32m    246\u001b[0m     \u001b[38;5;66;03m# args passed separately.\u001b[39;00m\n\u001b[1;32m--> 247\u001b[0m     \u001b[38;5;28;01mreturn\u001b[39;00m _MapperConfig\u001b[38;5;241m.\u001b[39msetup_mapping(registry, \u001b[38;5;28mcls\u001b[39m, dict_, \u001b[38;5;28;01mNone\u001b[39;00m, {})\n",
      "File \u001b[1;32m~\\anaconda3\\Lib\\site-packages\\sqlalchemy\\orm\\decl_base.py:328\u001b[0m, in \u001b[0;36m_MapperConfig.setup_mapping\u001b[1;34m(cls, registry, cls_, dict_, table, mapper_kw)\u001b[0m\n\u001b[0;32m    324\u001b[0m     \u001b[38;5;28;01mreturn\u001b[39;00m _DeferredMapperConfig(\n\u001b[0;32m    325\u001b[0m         registry, cls_, dict_, table, mapper_kw\n\u001b[0;32m    326\u001b[0m     )\n\u001b[0;32m    327\u001b[0m \u001b[38;5;28;01melse\u001b[39;00m:\n\u001b[1;32m--> 328\u001b[0m     \u001b[38;5;28;01mreturn\u001b[39;00m _ClassScanMapperConfig(\n\u001b[0;32m    329\u001b[0m         registry, cls_, dict_, table, mapper_kw\n\u001b[0;32m    330\u001b[0m     )\n",
      "File \u001b[1;32m~\\anaconda3\\Lib\\site-packages\\sqlalchemy\\orm\\decl_base.py:582\u001b[0m, in \u001b[0;36m_ClassScanMapperConfig.__init__\u001b[1;34m(self, registry, cls_, dict_, table, mapper_kw)\u001b[0m\n\u001b[0;32m    578\u001b[0m \u001b[38;5;28mself\u001b[39m\u001b[38;5;241m.\u001b[39m_setup_table(table)\n\u001b[0;32m    580\u001b[0m \u001b[38;5;28mself\u001b[39m\u001b[38;5;241m.\u001b[39m_setup_inheriting_columns(mapper_kw)\n\u001b[1;32m--> 582\u001b[0m \u001b[38;5;28mself\u001b[39m\u001b[38;5;241m.\u001b[39m_early_mapping(mapper_kw)\n",
      "File \u001b[1;32m~\\anaconda3\\Lib\\site-packages\\sqlalchemy\\orm\\decl_base.py:369\u001b[0m, in \u001b[0;36m_MapperConfig._early_mapping\u001b[1;34m(self, mapper_kw)\u001b[0m\n\u001b[0;32m    368\u001b[0m \u001b[38;5;28;01mdef\u001b[39;00m \u001b[38;5;21m_early_mapping\u001b[39m(\u001b[38;5;28mself\u001b[39m, mapper_kw: _MapperKwArgs) \u001b[38;5;241m-\u001b[39m\u001b[38;5;241m>\u001b[39m \u001b[38;5;28;01mNone\u001b[39;00m:\n\u001b[1;32m--> 369\u001b[0m     \u001b[38;5;28mself\u001b[39m\u001b[38;5;241m.\u001b[39mmap(mapper_kw)\n",
      "File \u001b[1;32m~\\anaconda3\\Lib\\site-packages\\sqlalchemy\\orm\\decl_base.py:1957\u001b[0m, in \u001b[0;36m_ClassScanMapperConfig.map\u001b[1;34m(self, mapper_kw)\u001b[0m\n\u001b[0;32m   1952\u001b[0m \u001b[38;5;28;01melse\u001b[39;00m:\n\u001b[0;32m   1953\u001b[0m     mapper_cls \u001b[38;5;241m=\u001b[39m Mapper\n\u001b[0;32m   1955\u001b[0m \u001b[38;5;28;01mreturn\u001b[39;00m \u001b[38;5;28mself\u001b[39m\u001b[38;5;241m.\u001b[39mset_cls_attribute(\n\u001b[0;32m   1956\u001b[0m     \u001b[38;5;124m\"\u001b[39m\u001b[38;5;124m__mapper__\u001b[39m\u001b[38;5;124m\"\u001b[39m,\n\u001b[1;32m-> 1957\u001b[0m     mapper_cls(\u001b[38;5;28mself\u001b[39m\u001b[38;5;241m.\u001b[39mcls, \u001b[38;5;28mself\u001b[39m\u001b[38;5;241m.\u001b[39mlocal_table, \u001b[38;5;241m*\u001b[39m\u001b[38;5;241m*\u001b[39m\u001b[38;5;28mself\u001b[39m\u001b[38;5;241m.\u001b[39mmapper_args),\n\u001b[0;32m   1958\u001b[0m )\n",
      "File \u001b[1;32m<string>:2\u001b[0m, in \u001b[0;36m__init__\u001b[1;34m(self, class_, local_table, properties, primary_key, non_primary, inherits, inherit_condition, inherit_foreign_keys, always_refresh, version_id_col, version_id_generator, polymorphic_on, _polymorphic_map, polymorphic_identity, concrete, with_polymorphic, polymorphic_abstract, polymorphic_load, allow_partial_pks, batch, column_prefix, include_properties, exclude_properties, passive_updates, passive_deletes, confirm_deleted_rows, eager_defaults, legacy_is_orphan, _compiled_cache_size)\u001b[0m\n",
      "File \u001b[1;32m~\\anaconda3\\Lib\\site-packages\\sqlalchemy\\util\\deprecations.py:281\u001b[0m, in \u001b[0;36mdeprecated_params.<locals>.decorate.<locals>.warned\u001b[1;34m(fn, *args, **kwargs)\u001b[0m\n\u001b[0;32m    274\u001b[0m     \u001b[38;5;28;01mif\u001b[39;00m m \u001b[38;5;129;01min\u001b[39;00m kwargs:\n\u001b[0;32m    275\u001b[0m         _warn_with_version(\n\u001b[0;32m    276\u001b[0m             messages[m],\n\u001b[0;32m    277\u001b[0m             versions[m],\n\u001b[0;32m    278\u001b[0m             version_warnings[m],\n\u001b[0;32m    279\u001b[0m             stacklevel\u001b[38;5;241m=\u001b[39m\u001b[38;5;241m3\u001b[39m,\n\u001b[0;32m    280\u001b[0m         )\n\u001b[1;32m--> 281\u001b[0m \u001b[38;5;28;01mreturn\u001b[39;00m fn(\u001b[38;5;241m*\u001b[39margs, \u001b[38;5;241m*\u001b[39m\u001b[38;5;241m*\u001b[39mkwargs)\n",
      "File \u001b[1;32m~\\anaconda3\\Lib\\site-packages\\sqlalchemy\\orm\\mapper.py:853\u001b[0m, in \u001b[0;36mMapper.__init__\u001b[1;34m(self, class_, local_table, properties, primary_key, non_primary, inherits, inherit_condition, inherit_foreign_keys, always_refresh, version_id_col, version_id_generator, polymorphic_on, _polymorphic_map, polymorphic_identity, concrete, with_polymorphic, polymorphic_abstract, polymorphic_load, allow_partial_pks, batch, column_prefix, include_properties, exclude_properties, passive_updates, passive_deletes, confirm_deleted_rows, eager_defaults, legacy_is_orphan, _compiled_cache_size)\u001b[0m\n\u001b[0;32m    851\u001b[0m \u001b[38;5;28mself\u001b[39m\u001b[38;5;241m.\u001b[39m_configure_properties()\n\u001b[0;32m    852\u001b[0m \u001b[38;5;28mself\u001b[39m\u001b[38;5;241m.\u001b[39m_configure_polymorphic_setter()\n\u001b[1;32m--> 853\u001b[0m \u001b[38;5;28mself\u001b[39m\u001b[38;5;241m.\u001b[39m_configure_pks()\n\u001b[0;32m    854\u001b[0m \u001b[38;5;28mself\u001b[39m\u001b[38;5;241m.\u001b[39mregistry\u001b[38;5;241m.\u001b[39m_flag_new_mapper(\u001b[38;5;28mself\u001b[39m)\n\u001b[0;32m    855\u001b[0m \u001b[38;5;28mself\u001b[39m\u001b[38;5;241m.\u001b[39m_log(\u001b[38;5;124m\"\u001b[39m\u001b[38;5;124mconstructed\u001b[39m\u001b[38;5;124m\"\u001b[39m)\n",
      "File \u001b[1;32m~\\anaconda3\\Lib\\site-packages\\sqlalchemy\\orm\\mapper.py:1637\u001b[0m, in \u001b[0;36mMapper._configure_pks\u001b[1;34m(self)\u001b[0m\n\u001b[0;32m   1632\u001b[0m \u001b[38;5;66;03m# otherwise, see that we got a full PK for the mapped table\u001b[39;00m\n\u001b[0;32m   1633\u001b[0m \u001b[38;5;28;01melif\u001b[39;00m (\n\u001b[0;32m   1634\u001b[0m     \u001b[38;5;28mself\u001b[39m\u001b[38;5;241m.\u001b[39mpersist_selectable \u001b[38;5;129;01mnot\u001b[39;00m \u001b[38;5;129;01min\u001b[39;00m \u001b[38;5;28mself\u001b[39m\u001b[38;5;241m.\u001b[39m_pks_by_table\n\u001b[0;32m   1635\u001b[0m     \u001b[38;5;129;01mor\u001b[39;00m \u001b[38;5;28mlen\u001b[39m(\u001b[38;5;28mself\u001b[39m\u001b[38;5;241m.\u001b[39m_pks_by_table[\u001b[38;5;28mself\u001b[39m\u001b[38;5;241m.\u001b[39mpersist_selectable]) \u001b[38;5;241m==\u001b[39m \u001b[38;5;241m0\u001b[39m\n\u001b[0;32m   1636\u001b[0m ):\n\u001b[1;32m-> 1637\u001b[0m     \u001b[38;5;28;01mraise\u001b[39;00m sa_exc\u001b[38;5;241m.\u001b[39mArgumentError(\n\u001b[0;32m   1638\u001b[0m         \u001b[38;5;124m\"\u001b[39m\u001b[38;5;124mMapper \u001b[39m\u001b[38;5;132;01m%s\u001b[39;00m\u001b[38;5;124m could not assemble any primary \u001b[39m\u001b[38;5;124m\"\u001b[39m\n\u001b[0;32m   1639\u001b[0m         \u001b[38;5;124m\"\u001b[39m\u001b[38;5;124mkey columns for mapped table \u001b[39m\u001b[38;5;124m'\u001b[39m\u001b[38;5;132;01m%s\u001b[39;00m\u001b[38;5;124m'\u001b[39m\u001b[38;5;124m\"\u001b[39m\n\u001b[0;32m   1640\u001b[0m         \u001b[38;5;241m%\u001b[39m (\u001b[38;5;28mself\u001b[39m, \u001b[38;5;28mself\u001b[39m\u001b[38;5;241m.\u001b[39mpersist_selectable\u001b[38;5;241m.\u001b[39mdescription)\n\u001b[0;32m   1641\u001b[0m     )\n\u001b[0;32m   1642\u001b[0m \u001b[38;5;28;01melif\u001b[39;00m \u001b[38;5;28mself\u001b[39m\u001b[38;5;241m.\u001b[39mlocal_table \u001b[38;5;129;01mnot\u001b[39;00m \u001b[38;5;129;01min\u001b[39;00m \u001b[38;5;28mself\u001b[39m\u001b[38;5;241m.\u001b[39m_pks_by_table \u001b[38;5;129;01mand\u001b[39;00m \u001b[38;5;28misinstance\u001b[39m(\n\u001b[0;32m   1643\u001b[0m     \u001b[38;5;28mself\u001b[39m\u001b[38;5;241m.\u001b[39mlocal_table, schema\u001b[38;5;241m.\u001b[39mTable\n\u001b[0;32m   1644\u001b[0m ):\n\u001b[0;32m   1645\u001b[0m     util\u001b[38;5;241m.\u001b[39mwarn(\n\u001b[0;32m   1646\u001b[0m         \u001b[38;5;124m\"\u001b[39m\u001b[38;5;124mCould not assemble any primary \u001b[39m\u001b[38;5;124m\"\u001b[39m\n\u001b[0;32m   1647\u001b[0m         \u001b[38;5;124m\"\u001b[39m\u001b[38;5;124mkeys for locally mapped table \u001b[39m\u001b[38;5;124m'\u001b[39m\u001b[38;5;132;01m%s\u001b[39;00m\u001b[38;5;124m'\u001b[39m\u001b[38;5;124m - \u001b[39m\u001b[38;5;124m\"\u001b[39m\n\u001b[0;32m   1648\u001b[0m         \u001b[38;5;124m\"\u001b[39m\u001b[38;5;124mno rows will be persisted in this Table.\u001b[39m\u001b[38;5;124m\"\u001b[39m\n\u001b[0;32m   1649\u001b[0m         \u001b[38;5;241m%\u001b[39m \u001b[38;5;28mself\u001b[39m\u001b[38;5;241m.\u001b[39mlocal_table\u001b[38;5;241m.\u001b[39mdescription\n\u001b[0;32m   1650\u001b[0m     )\n",
      "\u001b[1;31mArgumentError\u001b[0m: Mapper Mapper[Pozisyon(Pozisyon)] could not assemble any primary key columns for mapped table 'Pozisyon'"
     ]
    }
   ],
   "source": [
    "# \"Pozisyon\" sınıfını tanımlayarak \"Base\" değişkenini aldırmayla \"SQLAlchemy\"'nin veri tabanıyla bağlantı kurmasını sağlama\n",
    "class Pozisyon(Base):\n",
    "    __tablename__ = 'Pozisyon'\n",
    "    id = Column(Integer, extend_existing=True)\n",
    "    calisan_id = Column(Integer, ForeignKey('Calisan.id'))\n",
    "    unvan = Column(String)\n",
    "    baslangicTarihi = Column(String)\n",
    "    bitisTarihi = Column(String)\n",
    "\n"
   ]
  },
  {
   "cell_type": "code",
   "execution_count": 48,
   "id": "298c6d2d",
   "metadata": {},
   "outputs": [],
   "source": [
    "# Session oluşturma\n",
    "Session = sessionmaker(bind=engine)\n",
    "Session = Session()\n"
   ]
  },
  {
   "cell_type": "code",
   "execution_count": 50,
   "id": "de959162",
   "metadata": {},
   "outputs": [
    {
     "ename": "InvalidRequestError",
     "evalue": "One or more mappers failed to initialize - can't proceed with initialization of other mappers. Triggering mapper: 'Mapper[Calisan(Calisan)]'. Original exception was: Multiple classes found for path \"Pozisyon\" in the registry of this declarative base. Please use a fully module-qualified path.",
     "output_type": "error",
     "traceback": [
      "\u001b[1;31m---------------------------------------------------------------------------\u001b[0m",
      "\u001b[1;31mInvalidRequestError\u001b[0m                       Traceback (most recent call last)",
      "Cell \u001b[1;32mIn[50], line 2\u001b[0m\n\u001b[0;32m      1\u001b[0m Session\u001b[38;5;241m.\u001b[39madd_all([\n\u001b[1;32m----> 2\u001b[0m     Yoneticilik(\u001b[38;5;28mid\u001b[39m\u001b[38;5;241m=\u001b[39m\u001b[38;5;241m1\u001b[39m, calisan_id\u001b[38;5;241m=\u001b[39m\u001b[38;5;241m1\u001b[39m, bolum_id\u001b[38;5;241m=\u001b[39m\u001b[38;5;241m1\u001b[39m, baslangicTarihi\u001b[38;5;241m=\u001b[39m\u001b[38;5;124m'\u001b[39m\u001b[38;5;124m2022-01-01\u001b[39m\u001b[38;5;124m'\u001b[39m, bitisTarihi\u001b[38;5;241m=\u001b[39m\u001b[38;5;124m'\u001b[39m\u001b[38;5;124m2022-12-31\u001b[39m\u001b[38;5;124m'\u001b[39m),\n\u001b[0;32m      3\u001b[0m     Yoneticilik(\u001b[38;5;28mid\u001b[39m\u001b[38;5;241m=\u001b[39m\u001b[38;5;241m2\u001b[39m, calisan_id\u001b[38;5;241m=\u001b[39m\u001b[38;5;241m2\u001b[39m, bolum_id\u001b[38;5;241m=\u001b[39m\u001b[38;5;241m2\u001b[39m, baslangicTarihi\u001b[38;5;241m=\u001b[39m\u001b[38;5;124m'\u001b[39m\u001b[38;5;124m2022-01-01\u001b[39m\u001b[38;5;124m'\u001b[39m, bitisTarihi\u001b[38;5;241m=\u001b[39m\u001b[38;5;124m'\u001b[39m\u001b[38;5;124m2022-12-31\u001b[39m\u001b[38;5;124m'\u001b[39m),\n\u001b[0;32m      4\u001b[0m     Yoneticilik(\u001b[38;5;28mid\u001b[39m\u001b[38;5;241m=\u001b[39m\u001b[38;5;241m3\u001b[39m, calisan_id\u001b[38;5;241m=\u001b[39m\u001b[38;5;241m3\u001b[39m, bolum_id\u001b[38;5;241m=\u001b[39m\u001b[38;5;241m3\u001b[39m, baslangicTarihi\u001b[38;5;241m=\u001b[39m\u001b[38;5;124m'\u001b[39m\u001b[38;5;124m2022-01-01\u001b[39m\u001b[38;5;124m'\u001b[39m, bitisTarihi\u001b[38;5;241m=\u001b[39m\u001b[38;5;124m'\u001b[39m\u001b[38;5;124m2022-12-31\u001b[39m\u001b[38;5;124m'\u001b[39m),\n\u001b[0;32m      5\u001b[0m     Yoneticilik(\u001b[38;5;28mid\u001b[39m\u001b[38;5;241m=\u001b[39m\u001b[38;5;241m4\u001b[39m, calisan_id\u001b[38;5;241m=\u001b[39m\u001b[38;5;241m4\u001b[39m, bolum_id\u001b[38;5;241m=\u001b[39m\u001b[38;5;241m4\u001b[39m, baslangicTarihi\u001b[38;5;241m=\u001b[39m\u001b[38;5;124m'\u001b[39m\u001b[38;5;124m2022-01-01\u001b[39m\u001b[38;5;124m'\u001b[39m, bitisTarihi\u001b[38;5;241m=\u001b[39m\u001b[38;5;124m'\u001b[39m\u001b[38;5;124m2022-12-31\u001b[39m\u001b[38;5;124m'\u001b[39m),\n\u001b[0;32m      6\u001b[0m     Yoneticilik(\u001b[38;5;28mid\u001b[39m\u001b[38;5;241m=\u001b[39m\u001b[38;5;241m5\u001b[39m, calisan_id\u001b[38;5;241m=\u001b[39m\u001b[38;5;241m5\u001b[39m, bolum_id\u001b[38;5;241m=\u001b[39m\u001b[38;5;241m5\u001b[39m, baslangicTarihi\u001b[38;5;241m=\u001b[39m\u001b[38;5;124m'\u001b[39m\u001b[38;5;124m2022-01-01\u001b[39m\u001b[38;5;124m'\u001b[39m, bitisTarihi\u001b[38;5;241m=\u001b[39m\u001b[38;5;124m'\u001b[39m\u001b[38;5;124m2022-12-31\u001b[39m\u001b[38;5;124m'\u001b[39m)\n\u001b[0;32m      7\u001b[0m ])\n",
      "File \u001b[1;32m<string>:4\u001b[0m, in \u001b[0;36m__init__\u001b[1;34m(self, **kwargs)\u001b[0m\n",
      "File \u001b[1;32m~\\anaconda3\\Lib\\site-packages\\sqlalchemy\\orm\\state.py:561\u001b[0m, in \u001b[0;36mInstanceState._initialize_instance\u001b[1;34m(*mixed, **kwargs)\u001b[0m\n\u001b[0;32m    558\u001b[0m \u001b[38;5;28mself\u001b[39m, instance, args \u001b[38;5;241m=\u001b[39m mixed[\u001b[38;5;241m0\u001b[39m], mixed[\u001b[38;5;241m1\u001b[39m], mixed[\u001b[38;5;241m2\u001b[39m:]  \u001b[38;5;66;03m# noqa\u001b[39;00m\n\u001b[0;32m    559\u001b[0m manager \u001b[38;5;241m=\u001b[39m \u001b[38;5;28mself\u001b[39m\u001b[38;5;241m.\u001b[39mmanager\n\u001b[1;32m--> 561\u001b[0m manager\u001b[38;5;241m.\u001b[39mdispatch\u001b[38;5;241m.\u001b[39minit(\u001b[38;5;28mself\u001b[39m, args, kwargs)\n\u001b[0;32m    563\u001b[0m \u001b[38;5;28;01mtry\u001b[39;00m:\n\u001b[0;32m    564\u001b[0m     manager\u001b[38;5;241m.\u001b[39moriginal_init(\u001b[38;5;241m*\u001b[39mmixed[\u001b[38;5;241m1\u001b[39m:], \u001b[38;5;241m*\u001b[39m\u001b[38;5;241m*\u001b[39mkwargs)\n",
      "File \u001b[1;32m~\\anaconda3\\Lib\\site-packages\\sqlalchemy\\event\\attr.py:499\u001b[0m, in \u001b[0;36m_CompoundListener.__call__\u001b[1;34m(self, *args, **kw)\u001b[0m\n\u001b[0;32m    497\u001b[0m     fn(\u001b[38;5;241m*\u001b[39margs, \u001b[38;5;241m*\u001b[39m\u001b[38;5;241m*\u001b[39mkw)\n\u001b[0;32m    498\u001b[0m \u001b[38;5;28;01mfor\u001b[39;00m fn \u001b[38;5;129;01min\u001b[39;00m \u001b[38;5;28mself\u001b[39m\u001b[38;5;241m.\u001b[39mlisteners:\n\u001b[1;32m--> 499\u001b[0m     fn(\u001b[38;5;241m*\u001b[39margs, \u001b[38;5;241m*\u001b[39m\u001b[38;5;241m*\u001b[39mkw)\n",
      "File \u001b[1;32m~\\anaconda3\\Lib\\site-packages\\sqlalchemy\\orm\\mapper.py:4391\u001b[0m, in \u001b[0;36m_event_on_init\u001b[1;34m(state, args, kwargs)\u001b[0m\n\u001b[0;32m   4389\u001b[0m instrumenting_mapper \u001b[38;5;241m=\u001b[39m state\u001b[38;5;241m.\u001b[39mmanager\u001b[38;5;241m.\u001b[39mmapper\n\u001b[0;32m   4390\u001b[0m \u001b[38;5;28;01mif\u001b[39;00m instrumenting_mapper:\n\u001b[1;32m-> 4391\u001b[0m     instrumenting_mapper\u001b[38;5;241m.\u001b[39m_check_configure()\n\u001b[0;32m   4392\u001b[0m     \u001b[38;5;28;01mif\u001b[39;00m instrumenting_mapper\u001b[38;5;241m.\u001b[39m_set_polymorphic_identity:\n\u001b[0;32m   4393\u001b[0m         instrumenting_mapper\u001b[38;5;241m.\u001b[39m_set_polymorphic_identity(state)\n",
      "File \u001b[1;32m~\\anaconda3\\Lib\\site-packages\\sqlalchemy\\orm\\mapper.py:2386\u001b[0m, in \u001b[0;36mMapper._check_configure\u001b[1;34m(self)\u001b[0m\n\u001b[0;32m   2378\u001b[0m \u001b[38;5;129m@util\u001b[39m\u001b[38;5;241m.\u001b[39mlanghelpers\u001b[38;5;241m.\u001b[39mtag_method_for_warnings(\n\u001b[0;32m   2379\u001b[0m     \u001b[38;5;124m\"\u001b[39m\u001b[38;5;124mThis warning originated from the `configure_mappers()` process, \u001b[39m\u001b[38;5;124m\"\u001b[39m\n\u001b[0;32m   2380\u001b[0m     \u001b[38;5;124m\"\u001b[39m\u001b[38;5;124mwhich was invoked automatically in response to a user-initiated \u001b[39m\u001b[38;5;124m\"\u001b[39m\n\u001b[1;32m   (...)\u001b[0m\n\u001b[0;32m   2383\u001b[0m )\n\u001b[0;32m   2384\u001b[0m \u001b[38;5;28;01mdef\u001b[39;00m \u001b[38;5;21m_check_configure\u001b[39m(\u001b[38;5;28mself\u001b[39m) \u001b[38;5;241m-\u001b[39m\u001b[38;5;241m>\u001b[39m \u001b[38;5;28;01mNone\u001b[39;00m:\n\u001b[0;32m   2385\u001b[0m     \u001b[38;5;28;01mif\u001b[39;00m \u001b[38;5;28mself\u001b[39m\u001b[38;5;241m.\u001b[39mregistry\u001b[38;5;241m.\u001b[39m_new_mappers:\n\u001b[1;32m-> 2386\u001b[0m         _configure_registries({\u001b[38;5;28mself\u001b[39m\u001b[38;5;241m.\u001b[39mregistry}, cascade\u001b[38;5;241m=\u001b[39m\u001b[38;5;28;01mTrue\u001b[39;00m)\n",
      "File \u001b[1;32m~\\anaconda3\\Lib\\site-packages\\sqlalchemy\\orm\\mapper.py:4199\u001b[0m, in \u001b[0;36m_configure_registries\u001b[1;34m(registries, cascade)\u001b[0m\n\u001b[0;32m   4193\u001b[0m     Mapper\u001b[38;5;241m.\u001b[39mdispatch\u001b[38;5;241m.\u001b[39m_for_class(Mapper)\u001b[38;5;241m.\u001b[39mbefore_configured()  \u001b[38;5;66;03m# type: ignore # noqa: E501\u001b[39;00m\n\u001b[0;32m   4194\u001b[0m     \u001b[38;5;66;03m# initialize properties on all mappers\u001b[39;00m\n\u001b[0;32m   4195\u001b[0m     \u001b[38;5;66;03m# note that _mapper_registry is unordered, which\u001b[39;00m\n\u001b[0;32m   4196\u001b[0m     \u001b[38;5;66;03m# may randomly conceal/reveal issues related to\u001b[39;00m\n\u001b[0;32m   4197\u001b[0m     \u001b[38;5;66;03m# the order of mapper compilation\u001b[39;00m\n\u001b[1;32m-> 4199\u001b[0m     _do_configure_registries(registries, cascade)\n\u001b[0;32m   4200\u001b[0m \u001b[38;5;28;01mfinally\u001b[39;00m:\n\u001b[0;32m   4201\u001b[0m     _already_compiling \u001b[38;5;241m=\u001b[39m \u001b[38;5;28;01mFalse\u001b[39;00m\n",
      "File \u001b[1;32m~\\anaconda3\\Lib\\site-packages\\sqlalchemy\\orm\\mapper.py:4236\u001b[0m, in \u001b[0;36m_do_configure_registries\u001b[1;34m(registries, cascade)\u001b[0m\n\u001b[0;32m   4228\u001b[0m     e \u001b[38;5;241m=\u001b[39m sa_exc\u001b[38;5;241m.\u001b[39mInvalidRequestError(\n\u001b[0;32m   4229\u001b[0m         \u001b[38;5;124m\"\u001b[39m\u001b[38;5;124mOne or more mappers failed to initialize - \u001b[39m\u001b[38;5;124m\"\u001b[39m\n\u001b[0;32m   4230\u001b[0m         \u001b[38;5;124m\"\u001b[39m\u001b[38;5;124mcan\u001b[39m\u001b[38;5;124m'\u001b[39m\u001b[38;5;124mt proceed with initialization of other \u001b[39m\u001b[38;5;124m\"\u001b[39m\n\u001b[1;32m   (...)\u001b[0m\n\u001b[0;32m   4233\u001b[0m         \u001b[38;5;241m%\u001b[39m (mapper, mapper\u001b[38;5;241m.\u001b[39m_configure_failed)\n\u001b[0;32m   4234\u001b[0m     )\n\u001b[0;32m   4235\u001b[0m     e\u001b[38;5;241m.\u001b[39m_configure_failed \u001b[38;5;241m=\u001b[39m mapper\u001b[38;5;241m.\u001b[39m_configure_failed  \u001b[38;5;66;03m# type: ignore\u001b[39;00m\n\u001b[1;32m-> 4236\u001b[0m     \u001b[38;5;28;01mraise\u001b[39;00m e\n\u001b[0;32m   4238\u001b[0m \u001b[38;5;28;01mif\u001b[39;00m \u001b[38;5;129;01mnot\u001b[39;00m mapper\u001b[38;5;241m.\u001b[39mconfigured:\n\u001b[0;32m   4239\u001b[0m     \u001b[38;5;28;01mtry\u001b[39;00m:\n",
      "\u001b[1;31mInvalidRequestError\u001b[0m: One or more mappers failed to initialize - can't proceed with initialization of other mappers. Triggering mapper: 'Mapper[Calisan(Calisan)]'. Original exception was: Multiple classes found for path \"Pozisyon\" in the registry of this declarative base. Please use a fully module-qualified path."
     ]
    }
   ],
   "source": [
    "Session.add_all([\n",
    "    Yoneticilik(id=1, calisan_id=1, bolum_id=1, baslangicTarihi='2022-01-01', bitisTarihi='2022-12-31'),\n",
    "    Yoneticilik(id=2, calisan_id=2, bolum_id=2, baslangicTarihi='2022-01-01', bitisTarihi='2022-12-31'),\n",
    "    Yoneticilik(id=3, calisan_id=3, bolum_id=3, baslangicTarihi='2022-01-01', bitisTarihi='2022-12-31'),\n",
    "    Yoneticilik(id=4, calisan_id=4, bolum_id=4, baslangicTarihi='2022-01-01', bitisTarihi='2022-12-31'),\n",
    "    Yoneticilik(id=5, calisan_id=5, bolum_id=5, baslangicTarihi='2022-01-01', bitisTarihi='2022-12-31')\n",
    "])"
   ]
  },
  {
   "cell_type": "code",
   "execution_count": 54,
   "id": "b61a4efb",
   "metadata": {},
   "outputs": [],
   "source": [
    "from sqlalchemy.ext.declarative import declarative_base\n",
    "from sqlalchemy import Column, Integer, String, ForeignKey\n",
    "from sqlalchemy.orm import relationship\n",
    "\n",
    "Base = sqlalchemy.orm.declarative_base()\n",
    "\n",
    "class Yoneticilik(Base):\n",
    "    __tablename__ = 'Yoneticilik'\n",
    "    id = Column(Integer, primary_key=True)\n",
    "    calisan_id = Column(Integer, ForeignKey('Calisan.id'))\n",
    "    bolum_id = Column(Integer, ForeignKey('Bolum.id'))\n",
    "    baslangicTarihi = Column(String)\n",
    "    bitisTarihi = Column(String)\n",
    "\n",
    "class Calisan(Base):\n",
    "    __tablename__ = 'Calisan'\n",
    "    id = Column(Integer, primary_key=True)\n",
    "    # diğer sütunlar...\n",
    "\n",
    "class Bolum(Base):\n",
    "    __tablename__ = 'Bolum'\n",
    "    id = Column(Integer, primary_key=True)\n",
    "    # diğer sütunlar...\n",
    "\n",
    "# Session oluşturma\n",
    "engine = create_engine('sqlite:///MyFirstDB')\n",
    "Session = sessionmaker(bind=engine)\n",
    "Session = Session()"
   ]
  },
  {
   "cell_type": "code",
   "execution_count": 55,
   "id": "d4a93dae",
   "metadata": {},
   "outputs": [],
   "source": [
    "Session.add_all([\n",
    "    Yoneticilik(id=1, calisan_id=1, bolum_id=1, baslangicTarihi='2022-01-01', bitisTarihi='2022-12-31'),\n",
    "    Yoneticilik(id=2, calisan_id=2, bolum_id=2, baslangicTarihi='2022-01-01', bitisTarihi='2022-12-31'),\n",
    "    Yoneticilik(id=3, calisan_id=3, bolum_id=3, baslangicTarihi='2022-01-01', bitisTarihi='2022-12-31'),\n",
    "    Yoneticilik(id=4, calisan_id=4, bolum_id=4, baslangicTarihi='2022-01-01', bitisTarihi='2022-12-31'),\n",
    "    Yoneticilik(id=5, calisan_id=5, bolum_id=5, baslangicTarihi='2022-01-01', bitisTarihi='2022-12-31')\n",
    "])"
   ]
  },
  {
   "cell_type": "code",
   "execution_count": 57,
   "id": "edec4142",
   "metadata": {},
   "outputs": [
    {
     "ename": "InvalidRequestError",
     "evalue": "One or more mappers failed to initialize - can't proceed with initialization of other mappers. Triggering mapper: 'Mapper[Calisan(Calisan)]'. Original exception was: Multiple classes found for path \"Pozisyon\" in the registry of this declarative base. Please use a fully module-qualified path.",
     "output_type": "error",
     "traceback": [
      "\u001b[1;31m---------------------------------------------------------------------------\u001b[0m",
      "\u001b[1;31mInvalidRequestError\u001b[0m                       Traceback (most recent call last)",
      "Cell \u001b[1;32mIn[57], line 2\u001b[0m\n\u001b[0;32m      1\u001b[0m Session\u001b[38;5;241m.\u001b[39madd_all([\n\u001b[1;32m----> 2\u001b[0m     Pozisyon(\u001b[38;5;28mid\u001b[39m\u001b[38;5;241m=\u001b[39m\u001b[38;5;241m1\u001b[39m, calisan_id\u001b[38;5;241m=\u001b[39m\u001b[38;5;241m1\u001b[39m, unvan\u001b[38;5;241m=\u001b[39m\u001b[38;5;124m'\u001b[39m\u001b[38;5;124mYönetici\u001b[39m\u001b[38;5;124m'\u001b[39m, baslangicTarihi\u001b[38;5;241m=\u001b[39m\u001b[38;5;124m'\u001b[39m\u001b[38;5;124m2022-01-01\u001b[39m\u001b[38;5;124m'\u001b[39m, bitisTarihi\u001b[38;5;241m=\u001b[39m\u001b[38;5;124m'\u001b[39m\u001b[38;5;124m2022-12-31\u001b[39m\u001b[38;5;124m'\u001b[39m),\n\u001b[0;32m      3\u001b[0m     Pozisyon(\u001b[38;5;28mid\u001b[39m\u001b[38;5;241m=\u001b[39m\u001b[38;5;241m2\u001b[39m, calisan_id\u001b[38;5;241m=\u001b[39m\u001b[38;5;241m2\u001b[39m, unvan\u001b[38;5;241m=\u001b[39m\u001b[38;5;124m'\u001b[39m\u001b[38;5;124mMuhasebe Müdürü\u001b[39m\u001b[38;5;124m'\u001b[39m, baslangicTarihi\u001b[38;5;241m=\u001b[39m\u001b[38;5;124m'\u001b[39m\u001b[38;5;124m2022-01-01\u001b[39m\u001b[38;5;124m'\u001b[39m, bitisTarihi\u001b[38;5;241m=\u001b[39m\u001b[38;5;124m'\u001b[39m\u001b[38;5;124m2022-12-31\u001b[39m\u001b[38;5;124m'\u001b[39m),\n\u001b[0;32m      4\u001b[0m     Pozisyon(\u001b[38;5;28mid\u001b[39m\u001b[38;5;241m=\u001b[39m\u001b[38;5;241m3\u001b[39m, calisan_id\u001b[38;5;241m=\u001b[39m\u001b[38;5;241m3\u001b[39m, unvan\u001b[38;5;241m=\u001b[39m\u001b[38;5;124m'\u001b[39m\u001b[38;5;124mSatış Müdürü\u001b[39m\u001b[38;5;124m'\u001b[39m, baslangicTarihi\u001b[38;5;241m=\u001b[39m\u001b[38;5;124m'\u001b[39m\u001b[38;5;124m2022-01-01\u001b[39m\u001b[38;5;124m'\u001b[39m, bitisTarihi\u001b[38;5;241m=\u001b[39m\u001b[38;5;124m'\u001b[39m\u001b[38;5;124m2022-12-31\u001b[39m\u001b[38;5;124m'\u001b[39m),\n\u001b[0;32m      5\u001b[0m     Pozisyon(\u001b[38;5;28mid\u001b[39m\u001b[38;5;241m=\u001b[39m\u001b[38;5;241m4\u001b[39m, calisan_id\u001b[38;5;241m=\u001b[39m\u001b[38;5;241m4\u001b[39m, unvan\u001b[38;5;241m=\u001b[39m\u001b[38;5;124m'\u001b[39m\u001b[38;5;124mMüşteri Temsilcisi\u001b[39m\u001b[38;5;124m'\u001b[39m, baslangicTarihi\u001b[38;5;241m=\u001b[39m\u001b[38;5;124m'\u001b[39m\u001b[38;5;124m2022-01-01\u001b[39m\u001b[38;5;124m'\u001b[39m, bitisTarihi\u001b[38;5;241m=\u001b[39m\u001b[38;5;124m'\u001b[39m\u001b[38;5;124m2022-12-31\u001b[39m\u001b[38;5;124m'\u001b[39m),\n\u001b[0;32m      6\u001b[0m     Pozisyon(\u001b[38;5;28mid\u001b[39m\u001b[38;5;241m=\u001b[39m\u001b[38;5;241m5\u001b[39m, calisan_id\u001b[38;5;241m=\u001b[39m\u001b[38;5;241m5\u001b[39m, unvan\u001b[38;5;241m=\u001b[39m\u001b[38;5;124m'\u001b[39m\u001b[38;5;124mÜretim Müdürü\u001b[39m\u001b[38;5;124m'\u001b[39m, baslangicTarihi\u001b[38;5;241m=\u001b[39m\u001b[38;5;124m'\u001b[39m\u001b[38;5;124m2022-01-01\u001b[39m\u001b[38;5;124m'\u001b[39m, bitisTarihi\u001b[38;5;241m=\u001b[39m\u001b[38;5;124m'\u001b[39m\u001b[38;5;124m2022-12-31\u001b[39m\u001b[38;5;124m'\u001b[39m),\n\u001b[0;32m      7\u001b[0m     Pozisyon(\u001b[38;5;28mid\u001b[39m\u001b[38;5;241m=\u001b[39m\u001b[38;5;241m6\u001b[39m, calisan_id\u001b[38;5;241m=\u001b[39m\u001b[38;5;241m6\u001b[39m, unvan\u001b[38;5;241m=\u001b[39m\u001b[38;5;124m'\u001b[39m\u001b[38;5;124mİnsan Kaynakları Müdürü\u001b[39m\u001b[38;5;124m'\u001b[39m, baslangicTarihi\u001b[38;5;241m=\u001b[39m\u001b[38;5;124m'\u001b[39m\u001b[38;5;124m2022-01-01\u001b[39m\u001b[38;5;124m'\u001b[39m, bitisTarihi\u001b[38;5;241m=\u001b[39m\u001b[38;5;124m'\u001b[39m\u001b[38;5;124m2022-12-31\u001b[39m\u001b[38;5;124m'\u001b[39m),\n\u001b[0;32m      8\u001b[0m     Pozisyon(\u001b[38;5;28mid\u001b[39m\u001b[38;5;241m=\u001b[39m\u001b[38;5;241m7\u001b[39m, calisan_id\u001b[38;5;241m=\u001b[39m\u001b[38;5;241m7\u001b[39m, unvan\u001b[38;5;241m=\u001b[39m\u001b[38;5;124m'\u001b[39m\u001b[38;5;124mYazılım Geliştirici\u001b[39m\u001b[38;5;124m'\u001b[39m, baslangicTarihi\u001b[38;5;241m=\u001b[39m\u001b[38;5;124m'\u001b[39m\u001b[38;5;124m2022-01-01\u001b[39m\u001b[38;5;124m'\u001b[39m, bitisTarihi\u001b[38;5;241m=\u001b[39m\u001b[38;5;124m'\u001b[39m\u001b[38;5;124m2022-12-31\u001b[39m\u001b[38;5;124m'\u001b[39m),\n\u001b[0;32m      9\u001b[0m     Pozisyon(\u001b[38;5;28mid\u001b[39m\u001b[38;5;241m=\u001b[39m\u001b[38;5;241m8\u001b[39m, calisan_id\u001b[38;5;241m=\u001b[39m\u001b[38;5;241m8\u001b[39m, unvan\u001b[38;5;241m=\u001b[39m\u001b[38;5;124m'\u001b[39m\u001b[38;5;124mTasarımcı\u001b[39m\u001b[38;5;124m'\u001b[39m, baslangicTarihi\u001b[38;5;241m=\u001b[39m\u001b[38;5;124m'\u001b[39m\u001b[38;5;124m2022-01-01\u001b[39m\u001b[38;5;124m'\u001b[39m, bitisTarihi\u001b[38;5;241m=\u001b[39m\u001b[38;5;124m'\u001b[39m\u001b[38;5;124m2022-12-31\u001b[39m\u001b[38;5;124m'\u001b[39m),\n\u001b[0;32m     10\u001b[0m     Pozisyon(\u001b[38;5;28mid\u001b[39m\u001b[38;5;241m=\u001b[39m\u001b[38;5;241m9\u001b[39m, calisan_id\u001b[38;5;241m=\u001b[39m\u001b[38;5;241m9\u001b[39m, unvan\u001b[38;5;241m=\u001b[39m\u001b[38;5;124m'\u001b[39m\u001b[38;5;124mPazarlama Müdürü\u001b[39m\u001b[38;5;124m'\u001b[39m, baslangicTarihi\u001b[38;5;241m=\u001b[39m\u001b[38;5;124m'\u001b[39m\u001b[38;5;124m2022-01-01\u001b[39m\u001b[38;5;124m'\u001b[39m, bitisTarihi\u001b[38;5;241m=\u001b[39m\u001b[38;5;124m'\u001b[39m\u001b[38;5;124m2022-12-31\u001b[39m\u001b[38;5;124m'\u001b[39m),\n\u001b[0;32m     11\u001b[0m     Pozisyon(\u001b[38;5;28mid\u001b[39m\u001b[38;5;241m=\u001b[39m\u001b[38;5;241m10\u001b[39m, calisan_id\u001b[38;5;241m=\u001b[39m\u001b[38;5;241m10\u001b[39m, unvan\u001b[38;5;241m=\u001b[39m\u001b[38;5;124m'\u001b[39m\u001b[38;5;124mYönetici\u001b[39m\u001b[38;5;124m'\u001b[39m, baslangicTarihi\u001b[38;5;241m=\u001b[39m\u001b[38;5;124m'\u001b[39m\u001b[38;5;124m2022-01-15\u001b[39m\u001b[38;5;124m'\u001b[39m, bitisTarihi\u001b[38;5;241m=\u001b[39m\u001b[38;5;124m'\u001b[39m\u001b[38;5;124m2022-12-22\u001b[39m\u001b[38;5;124m'\u001b[39m),\n\u001b[0;32m     12\u001b[0m     Pozisyon(\u001b[38;5;28mid\u001b[39m\u001b[38;5;241m=\u001b[39m\u001b[38;5;241m11\u001b[39m, calisan_id\u001b[38;5;241m=\u001b[39m\u001b[38;5;241m1\u001b[39m, unvan\u001b[38;5;241m=\u001b[39m\u001b[38;5;124m'\u001b[39m\u001b[38;5;124mYönetici\u001b[39m\u001b[38;5;124m'\u001b[39m, baslangicTarihi\u001b[38;5;241m=\u001b[39m\u001b[38;5;124m'\u001b[39m\u001b[38;5;124m2022-01-01\u001b[39m\u001b[38;5;124m'\u001b[39m, bitisTarihi\u001b[38;5;241m=\u001b[39m\u001b[38;5;124m'\u001b[39m\u001b[38;5;124m2022-12-31\u001b[39m\u001b[38;5;124m'\u001b[39m),\n\u001b[0;32m     13\u001b[0m     Pozisyon(\u001b[38;5;28mid\u001b[39m\u001b[38;5;241m=\u001b[39m\u001b[38;5;241m12\u001b[39m, calisan_id\u001b[38;5;241m=\u001b[39m\u001b[38;5;241m2\u001b[39m, unvan\u001b[38;5;241m=\u001b[39m\u001b[38;5;124m'\u001b[39m\u001b[38;5;124mMuhasebe Müdürü\u001b[39m\u001b[38;5;124m'\u001b[39m, baslangicTarihi\u001b[38;5;241m=\u001b[39m\u001b[38;5;124m'\u001b[39m\u001b[38;5;124m2022-01-01\u001b[39m\u001b[38;5;124m'\u001b[39m, bitisTarihi\u001b[38;5;241m=\u001b[39m\u001b[38;5;124m'\u001b[39m\u001b[38;5;124m2022-12-31\u001b[39m\u001b[38;5;124m'\u001b[39m),\n\u001b[0;32m     14\u001b[0m     Pozisyon(\u001b[38;5;28mid\u001b[39m\u001b[38;5;241m=\u001b[39m\u001b[38;5;241m13\u001b[39m, calisan_id\u001b[38;5;241m=\u001b[39m\u001b[38;5;241m3\u001b[39m, unvan\u001b[38;5;241m=\u001b[39m\u001b[38;5;124m'\u001b[39m\u001b[38;5;124mSatış Müdürü\u001b[39m\u001b[38;5;124m'\u001b[39m, baslangicTarihi\u001b[38;5;241m=\u001b[39m\u001b[38;5;124m'\u001b[39m\u001b[38;5;124m2022-01-01\u001b[39m\u001b[38;5;124m'\u001b[39m, bitisTarihi\u001b[38;5;241m=\u001b[39m\u001b[38;5;124m'\u001b[39m\u001b[38;5;124m2022-12-31\u001b[39m\u001b[38;5;124m'\u001b[39m),\n\u001b[0;32m     15\u001b[0m     Pozisyon(\u001b[38;5;28mid\u001b[39m\u001b[38;5;241m=\u001b[39m\u001b[38;5;241m14\u001b[39m, calisan_id\u001b[38;5;241m=\u001b[39m\u001b[38;5;241m4\u001b[39m, unvan\u001b[38;5;241m=\u001b[39m\u001b[38;5;124m'\u001b[39m\u001b[38;5;124mMüşteri Temsilcisi\u001b[39m\u001b[38;5;124m'\u001b[39m, baslangicTarihi\u001b[38;5;241m=\u001b[39m\u001b[38;5;124m'\u001b[39m\u001b[38;5;124m2022-01-01\u001b[39m\u001b[38;5;124m'\u001b[39m, bitisTarihi\u001b[38;5;241m=\u001b[39m\u001b[38;5;124m'\u001b[39m\u001b[38;5;124m2022-12-31\u001b[39m\u001b[38;5;124m'\u001b[39m),\n\u001b[0;32m     16\u001b[0m     Pozisyon(\u001b[38;5;28mid\u001b[39m\u001b[38;5;241m=\u001b[39m\u001b[38;5;241m15\u001b[39m, calisan_id\u001b[38;5;241m=\u001b[39m\u001b[38;5;241m5\u001b[39m, unvan\u001b[38;5;241m=\u001b[39m\u001b[38;5;124m'\u001b[39m\u001b[38;5;124mÜretim Müdürü\u001b[39m\u001b[38;5;124m'\u001b[39m, baslangicTarihi\u001b[38;5;241m=\u001b[39m\u001b[38;5;124m'\u001b[39m\u001b[38;5;124m2022-01-01\u001b[39m\u001b[38;5;124m'\u001b[39m, bitisTarihi\u001b[38;5;241m=\u001b[39m\u001b[38;5;124m'\u001b[39m\u001b[38;5;124m2022-12-31\u001b[39m\u001b[38;5;124m'\u001b[39m)\n\u001b[0;32m     17\u001b[0m ])\n",
      "File \u001b[1;32m<string>:4\u001b[0m, in \u001b[0;36m__init__\u001b[1;34m(self, **kwargs)\u001b[0m\n",
      "File \u001b[1;32m~\\anaconda3\\Lib\\site-packages\\sqlalchemy\\orm\\state.py:561\u001b[0m, in \u001b[0;36mInstanceState._initialize_instance\u001b[1;34m(*mixed, **kwargs)\u001b[0m\n\u001b[0;32m    558\u001b[0m \u001b[38;5;28mself\u001b[39m, instance, args \u001b[38;5;241m=\u001b[39m mixed[\u001b[38;5;241m0\u001b[39m], mixed[\u001b[38;5;241m1\u001b[39m], mixed[\u001b[38;5;241m2\u001b[39m:]  \u001b[38;5;66;03m# noqa\u001b[39;00m\n\u001b[0;32m    559\u001b[0m manager \u001b[38;5;241m=\u001b[39m \u001b[38;5;28mself\u001b[39m\u001b[38;5;241m.\u001b[39mmanager\n\u001b[1;32m--> 561\u001b[0m manager\u001b[38;5;241m.\u001b[39mdispatch\u001b[38;5;241m.\u001b[39minit(\u001b[38;5;28mself\u001b[39m, args, kwargs)\n\u001b[0;32m    563\u001b[0m \u001b[38;5;28;01mtry\u001b[39;00m:\n\u001b[0;32m    564\u001b[0m     manager\u001b[38;5;241m.\u001b[39moriginal_init(\u001b[38;5;241m*\u001b[39mmixed[\u001b[38;5;241m1\u001b[39m:], \u001b[38;5;241m*\u001b[39m\u001b[38;5;241m*\u001b[39mkwargs)\n",
      "File \u001b[1;32m~\\anaconda3\\Lib\\site-packages\\sqlalchemy\\event\\attr.py:499\u001b[0m, in \u001b[0;36m_CompoundListener.__call__\u001b[1;34m(self, *args, **kw)\u001b[0m\n\u001b[0;32m    497\u001b[0m     fn(\u001b[38;5;241m*\u001b[39margs, \u001b[38;5;241m*\u001b[39m\u001b[38;5;241m*\u001b[39mkw)\n\u001b[0;32m    498\u001b[0m \u001b[38;5;28;01mfor\u001b[39;00m fn \u001b[38;5;129;01min\u001b[39;00m \u001b[38;5;28mself\u001b[39m\u001b[38;5;241m.\u001b[39mlisteners:\n\u001b[1;32m--> 499\u001b[0m     fn(\u001b[38;5;241m*\u001b[39margs, \u001b[38;5;241m*\u001b[39m\u001b[38;5;241m*\u001b[39mkw)\n",
      "File \u001b[1;32m~\\anaconda3\\Lib\\site-packages\\sqlalchemy\\orm\\mapper.py:4391\u001b[0m, in \u001b[0;36m_event_on_init\u001b[1;34m(state, args, kwargs)\u001b[0m\n\u001b[0;32m   4389\u001b[0m instrumenting_mapper \u001b[38;5;241m=\u001b[39m state\u001b[38;5;241m.\u001b[39mmanager\u001b[38;5;241m.\u001b[39mmapper\n\u001b[0;32m   4390\u001b[0m \u001b[38;5;28;01mif\u001b[39;00m instrumenting_mapper:\n\u001b[1;32m-> 4391\u001b[0m     instrumenting_mapper\u001b[38;5;241m.\u001b[39m_check_configure()\n\u001b[0;32m   4392\u001b[0m     \u001b[38;5;28;01mif\u001b[39;00m instrumenting_mapper\u001b[38;5;241m.\u001b[39m_set_polymorphic_identity:\n\u001b[0;32m   4393\u001b[0m         instrumenting_mapper\u001b[38;5;241m.\u001b[39m_set_polymorphic_identity(state)\n",
      "File \u001b[1;32m~\\anaconda3\\Lib\\site-packages\\sqlalchemy\\orm\\mapper.py:2386\u001b[0m, in \u001b[0;36mMapper._check_configure\u001b[1;34m(self)\u001b[0m\n\u001b[0;32m   2378\u001b[0m \u001b[38;5;129m@util\u001b[39m\u001b[38;5;241m.\u001b[39mlanghelpers\u001b[38;5;241m.\u001b[39mtag_method_for_warnings(\n\u001b[0;32m   2379\u001b[0m     \u001b[38;5;124m\"\u001b[39m\u001b[38;5;124mThis warning originated from the `configure_mappers()` process, \u001b[39m\u001b[38;5;124m\"\u001b[39m\n\u001b[0;32m   2380\u001b[0m     \u001b[38;5;124m\"\u001b[39m\u001b[38;5;124mwhich was invoked automatically in response to a user-initiated \u001b[39m\u001b[38;5;124m\"\u001b[39m\n\u001b[1;32m   (...)\u001b[0m\n\u001b[0;32m   2383\u001b[0m )\n\u001b[0;32m   2384\u001b[0m \u001b[38;5;28;01mdef\u001b[39;00m \u001b[38;5;21m_check_configure\u001b[39m(\u001b[38;5;28mself\u001b[39m) \u001b[38;5;241m-\u001b[39m\u001b[38;5;241m>\u001b[39m \u001b[38;5;28;01mNone\u001b[39;00m:\n\u001b[0;32m   2385\u001b[0m     \u001b[38;5;28;01mif\u001b[39;00m \u001b[38;5;28mself\u001b[39m\u001b[38;5;241m.\u001b[39mregistry\u001b[38;5;241m.\u001b[39m_new_mappers:\n\u001b[1;32m-> 2386\u001b[0m         _configure_registries({\u001b[38;5;28mself\u001b[39m\u001b[38;5;241m.\u001b[39mregistry}, cascade\u001b[38;5;241m=\u001b[39m\u001b[38;5;28;01mTrue\u001b[39;00m)\n",
      "File \u001b[1;32m~\\anaconda3\\Lib\\site-packages\\sqlalchemy\\orm\\mapper.py:4199\u001b[0m, in \u001b[0;36m_configure_registries\u001b[1;34m(registries, cascade)\u001b[0m\n\u001b[0;32m   4193\u001b[0m     Mapper\u001b[38;5;241m.\u001b[39mdispatch\u001b[38;5;241m.\u001b[39m_for_class(Mapper)\u001b[38;5;241m.\u001b[39mbefore_configured()  \u001b[38;5;66;03m# type: ignore # noqa: E501\u001b[39;00m\n\u001b[0;32m   4194\u001b[0m     \u001b[38;5;66;03m# initialize properties on all mappers\u001b[39;00m\n\u001b[0;32m   4195\u001b[0m     \u001b[38;5;66;03m# note that _mapper_registry is unordered, which\u001b[39;00m\n\u001b[0;32m   4196\u001b[0m     \u001b[38;5;66;03m# may randomly conceal/reveal issues related to\u001b[39;00m\n\u001b[0;32m   4197\u001b[0m     \u001b[38;5;66;03m# the order of mapper compilation\u001b[39;00m\n\u001b[1;32m-> 4199\u001b[0m     _do_configure_registries(registries, cascade)\n\u001b[0;32m   4200\u001b[0m \u001b[38;5;28;01mfinally\u001b[39;00m:\n\u001b[0;32m   4201\u001b[0m     _already_compiling \u001b[38;5;241m=\u001b[39m \u001b[38;5;28;01mFalse\u001b[39;00m\n",
      "File \u001b[1;32m~\\anaconda3\\Lib\\site-packages\\sqlalchemy\\orm\\mapper.py:4236\u001b[0m, in \u001b[0;36m_do_configure_registries\u001b[1;34m(registries, cascade)\u001b[0m\n\u001b[0;32m   4228\u001b[0m     e \u001b[38;5;241m=\u001b[39m sa_exc\u001b[38;5;241m.\u001b[39mInvalidRequestError(\n\u001b[0;32m   4229\u001b[0m         \u001b[38;5;124m\"\u001b[39m\u001b[38;5;124mOne or more mappers failed to initialize - \u001b[39m\u001b[38;5;124m\"\u001b[39m\n\u001b[0;32m   4230\u001b[0m         \u001b[38;5;124m\"\u001b[39m\u001b[38;5;124mcan\u001b[39m\u001b[38;5;124m'\u001b[39m\u001b[38;5;124mt proceed with initialization of other \u001b[39m\u001b[38;5;124m\"\u001b[39m\n\u001b[1;32m   (...)\u001b[0m\n\u001b[0;32m   4233\u001b[0m         \u001b[38;5;241m%\u001b[39m (mapper, mapper\u001b[38;5;241m.\u001b[39m_configure_failed)\n\u001b[0;32m   4234\u001b[0m     )\n\u001b[0;32m   4235\u001b[0m     e\u001b[38;5;241m.\u001b[39m_configure_failed \u001b[38;5;241m=\u001b[39m mapper\u001b[38;5;241m.\u001b[39m_configure_failed  \u001b[38;5;66;03m# type: ignore\u001b[39;00m\n\u001b[1;32m-> 4236\u001b[0m     \u001b[38;5;28;01mraise\u001b[39;00m e\n\u001b[0;32m   4238\u001b[0m \u001b[38;5;28;01mif\u001b[39;00m \u001b[38;5;129;01mnot\u001b[39;00m mapper\u001b[38;5;241m.\u001b[39mconfigured:\n\u001b[0;32m   4239\u001b[0m     \u001b[38;5;28;01mtry\u001b[39;00m:\n",
      "\u001b[1;31mInvalidRequestError\u001b[0m: One or more mappers failed to initialize - can't proceed with initialization of other mappers. Triggering mapper: 'Mapper[Calisan(Calisan)]'. Original exception was: Multiple classes found for path \"Pozisyon\" in the registry of this declarative base. Please use a fully module-qualified path."
     ]
    }
   ],
   "source": [
    "Session.add_all([\n",
    "    Pozisyon(id=1, calisan_id=1, unvan='Yönetici', baslangicTarihi='2022-01-01', bitisTarihi='2022-12-31'),\n",
    "    Pozisyon(id=2, calisan_id=2, unvan='Muhasebe Müdürü', baslangicTarihi='2022-01-01', bitisTarihi='2022-12-31'),\n",
    "    Pozisyon(id=3, calisan_id=3, unvan='Satış Müdürü', baslangicTarihi='2022-01-01', bitisTarihi='2022-12-31'),\n",
    "    Pozisyon(id=4, calisan_id=4, unvan='Müşteri Temsilcisi', baslangicTarihi='2022-01-01', bitisTarihi='2022-12-31'),\n",
    "    Pozisyon(id=5, calisan_id=5, unvan='Üretim Müdürü', baslangicTarihi='2022-01-01', bitisTarihi='2022-12-31'),\n",
    "    Pozisyon(id=6, calisan_id=6, unvan='İnsan Kaynakları Müdürü', baslangicTarihi='2022-01-01', bitisTarihi='2022-12-31'),\n",
    "    Pozisyon(id=7, calisan_id=7, unvan='Yazılım Geliştirici', baslangicTarihi='2022-01-01', bitisTarihi='2022-12-31'),\n",
    "    Pozisyon(id=8, calisan_id=8, unvan='Tasarımcı', baslangicTarihi='2022-01-01', bitisTarihi='2022-12-31'),\n",
    "    Pozisyon(id=9, calisan_id=9, unvan='Pazarlama Müdürü', baslangicTarihi='2022-01-01', bitisTarihi='2022-12-31'),\n",
    "    Pozisyon(id=10, calisan_id=10, unvan='Yönetici', baslangicTarihi='2022-01-15', bitisTarihi='2022-12-22'),\n",
    "    Pozisyon(id=11, calisan_id=1, unvan='Yönetici', baslangicTarihi='2022-01-01', bitisTarihi='2022-12-31'),\n",
    "    Pozisyon(id=12, calisan_id=2, unvan='Muhasebe Müdürü', baslangicTarihi='2022-01-01', bitisTarihi='2022-12-31'),\n",
    "    Pozisyon(id=13, calisan_id=3, unvan='Satış Müdürü', baslangicTarihi='2022-01-01', bitisTarihi='2022-12-31'),\n",
    "    Pozisyon(id=14, calisan_id=4, unvan='Müşteri Temsilcisi', baslangicTarihi='2022-01-01', bitisTarihi='2022-12-31'),\n",
    "    Pozisyon(id=15, calisan_id=5, unvan='Üretim Müdürü', baslangicTarihi='2022-01-01', bitisTarihi='2022-12-31')\n",
    "])"
   ]
  },
  {
   "cell_type": "code",
   "execution_count": 60,
   "id": "29978fc5",
   "metadata": {},
   "outputs": [],
   "source": [
    "from sqlalchemy.ext.declarative import declarative_base\n",
    "from sqlalchemy import Column, Integer, String, ForeignKey\n",
    "from sqlalchemy.orm import relationship\n",
    "\n",
    "Base = sqlalchemy.orm.declarative_base()\n",
    "\n",
    "class Pozisyon(Base):\n",
    "    __tablename__ = 'Pozisyon'\n",
    "    id = Column(Integer, primary_key=True)\n",
    "    calisan_id = Column(Integer, ForeignKey('Calisan.id'))\n",
    "    unvan = Column(String)\n",
    "    baslangicTarihi = Column(String)\n",
    "    bitisTarihi = Column(String)\n",
    "\n",
    "class Calisan(Base):\n",
    "    __tablename__ = 'Calisan'\n",
    "    id = Column(Integer, primary_key=True)\n",
    "    # diğer sütunlar...\n",
    "\n",
    "# Session oluşturma\n",
    "engine = create_engine('sqlite:///MyFirstDB')\n",
    "Session = sessionmaker(bind=engine)\n",
    "Session = Session()"
   ]
  },
  {
   "cell_type": "code",
   "execution_count": 61,
   "id": "79bb2aa6",
   "metadata": {},
   "outputs": [],
   "source": [
    "Session.add_all([\n",
    "    Pozisyon(id=1, calisan_id=1, unvan='Yönetici', baslangicTarihi='2022-01-01', bitisTarihi='2022-12-31'),\n",
    "    Pozisyon(id=2, calisan_id=2, unvan='Muhasebe Müdürü', baslangicTarihi='2022-01-01', bitisTarihi='2022-12-31'),\n",
    "    Pozisyon(id=3, calisan_id=3, unvan='Satış Müdürü', baslangicTarihi='2022-01-01', bitisTarihi='2022-12-31'),\n",
    "    Pozisyon(id=4, calisan_id=4, unvan='Müşteri Temsilcisi', baslangicTarihi='2022-01-01', bitisTarihi='2022-12-31'),\n",
    "    Pozisyon(id=5, calisan_id=5, unvan='Üretim Müdürü', baslangicTarihi='2022-01-01', bitisTarihi='2022-12-31'),\n",
    "    Pozisyon(id=6, calisan_id=6, unvan='İnsan Kaynakları Müdürü', baslangicTarihi='2022-01-01', bitisTarihi='2022-12-31'),\n",
    "    Pozisyon(id=7, calisan_id=7, unvan='Yazılım Geliştirici', baslangicTarihi='2022-01-01', bitisTarihi='2022-12-31'),\n",
    "    Pozisyon(id=8, calisan_id=8, unvan='Tasarımcı', baslangicTarihi='2022-01-01', bitisTarihi='2022-12-31'),\n",
    "    Pozisyon(id=9, calisan_id=9, unvan='Pazarlama Müdürü', baslangicTarihi='2022-01-01', bitisTarihi='2022-12-31'),\n",
    "    Pozisyon(id=10, calisan_id=10, unvan='Yönetici', baslangicTarihi='2022-01-15', bitisTarihi='2022-12-22'),\n",
    "    Pozisyon(id=11, calisan_id=1, unvan='Yönetici', baslangicTarihi='2022-01-01', bitisTarihi='2022-12-31'),\n",
    "    Pozisyon(id=12, calisan_id=2, unvan='Muhasebe Müdürü', baslangicTarihi='2022-01-01', bitisTarihi='2022-12-31'),\n",
    "    Pozisyon(id=13, calisan_id=3, unvan='Satış Müdürü', baslangicTarihi='2022-01-01', bitisTarihi='2022-12-31'),\n",
    "    Pozisyon(id=14, calisan_id=4, unvan='Müşteri Temsilcisi', baslangicTarihi='2022-01-01', bitisTarihi='2022-12-31'),\n",
    "    Pozisyon(id=15, calisan_id=5, unvan='Üretim Müdürü', baslangicTarihi='2022-01-01', bitisTarihi='2022-12-31')\n",
    "])"
   ]
  },
  {
   "cell_type": "code",
   "execution_count": 63,
   "id": "327cdea5",
   "metadata": {},
   "outputs": [
    {
     "ename": "OperationalError",
     "evalue": "(sqlite3.OperationalError) database is locked\n[SQL: INSERT INTO \"Pozisyon\" (id, calisan_id, unvan, \"baslangicTarihi\", \"bitisTarihi\") VALUES (?, ?, ?, ?, ?)]\n[parameters: [(1, 1, 'Yönetici', '2022-01-01', '2022-12-31'), (2, 2, 'Muhasebe Müdürü', '2022-01-01', '2022-12-31'), (3, 3, 'Satış Müdürü', '2022-01-01', '2022-12-31'), (4, 4, 'Müşteri Temsilcisi', '2022-01-01', '2022-12-31'), (5, 5, 'Üretim Müdürü', '2022-01-01', '2022-12-31'), (6, 6, 'İnsan Kaynakları Müdürü', '2022-01-01', '2022-12-31'), (7, 7, 'Yazılım Geliştirici', '2022-01-01', '2022-12-31'), (8, 8, 'Tasarımcı', '2022-01-01', '2022-12-31')  ... displaying 10 of 15 total bound parameter sets ...  (14, 4, 'Müşteri Temsilcisi', '2022-01-01', '2022-12-31'), (15, 5, 'Üretim Müdürü', '2022-01-01', '2022-12-31')]]\n(Background on this error at: https://sqlalche.me/e/20/e3q8)",
     "output_type": "error",
     "traceback": [
      "\u001b[1;31m---------------------------------------------------------------------------\u001b[0m",
      "\u001b[1;31mOperationalError\u001b[0m                          Traceback (most recent call last)",
      "File \u001b[1;32m~\\anaconda3\\Lib\\site-packages\\sqlalchemy\\engine\\base.py:1938\u001b[0m, in \u001b[0;36mConnection._exec_single_context\u001b[1;34m(self, dialect, context, statement, parameters)\u001b[0m\n\u001b[0;32m   1937\u001b[0m     \u001b[38;5;28;01mif\u001b[39;00m \u001b[38;5;129;01mnot\u001b[39;00m evt_handled:\n\u001b[1;32m-> 1938\u001b[0m         \u001b[38;5;28mself\u001b[39m\u001b[38;5;241m.\u001b[39mdialect\u001b[38;5;241m.\u001b[39mdo_executemany(\n\u001b[0;32m   1939\u001b[0m             cursor,\n\u001b[0;32m   1940\u001b[0m             str_statement,\n\u001b[0;32m   1941\u001b[0m             effective_parameters,\n\u001b[0;32m   1942\u001b[0m             context,\n\u001b[0;32m   1943\u001b[0m         )\n\u001b[0;32m   1944\u001b[0m \u001b[38;5;28;01melif\u001b[39;00m \u001b[38;5;129;01mnot\u001b[39;00m effective_parameters \u001b[38;5;129;01mand\u001b[39;00m context\u001b[38;5;241m.\u001b[39mno_parameters:\n",
      "File \u001b[1;32m~\\anaconda3\\Lib\\site-packages\\sqlalchemy\\engine\\default.py:919\u001b[0m, in \u001b[0;36mDefaultDialect.do_executemany\u001b[1;34m(self, cursor, statement, parameters, context)\u001b[0m\n\u001b[0;32m    918\u001b[0m \u001b[38;5;28;01mdef\u001b[39;00m \u001b[38;5;21mdo_executemany\u001b[39m(\u001b[38;5;28mself\u001b[39m, cursor, statement, parameters, context\u001b[38;5;241m=\u001b[39m\u001b[38;5;28;01mNone\u001b[39;00m):\n\u001b[1;32m--> 919\u001b[0m     cursor\u001b[38;5;241m.\u001b[39mexecutemany(statement, parameters)\n",
      "\u001b[1;31mOperationalError\u001b[0m: database is locked",
      "\nThe above exception was the direct cause of the following exception:\n",
      "\u001b[1;31mOperationalError\u001b[0m                          Traceback (most recent call last)",
      "Cell \u001b[1;32mIn[63], line 1\u001b[0m\n\u001b[1;32m----> 1\u001b[0m Session\u001b[38;5;241m.\u001b[39mcommit()\n\u001b[0;32m      2\u001b[0m Session\u001b[38;5;241m.\u001b[39mclose()\n",
      "File \u001b[1;32m~\\anaconda3\\Lib\\site-packages\\sqlalchemy\\orm\\session.py:1969\u001b[0m, in \u001b[0;36mSession.commit\u001b[1;34m(self)\u001b[0m\n\u001b[0;32m   1966\u001b[0m \u001b[38;5;28;01mif\u001b[39;00m trans \u001b[38;5;129;01mis\u001b[39;00m \u001b[38;5;28;01mNone\u001b[39;00m:\n\u001b[0;32m   1967\u001b[0m     trans \u001b[38;5;241m=\u001b[39m \u001b[38;5;28mself\u001b[39m\u001b[38;5;241m.\u001b[39m_autobegin_t()\n\u001b[1;32m-> 1969\u001b[0m trans\u001b[38;5;241m.\u001b[39mcommit(_to_root\u001b[38;5;241m=\u001b[39m\u001b[38;5;28;01mTrue\u001b[39;00m)\n",
      "File \u001b[1;32m<string>:2\u001b[0m, in \u001b[0;36mcommit\u001b[1;34m(self, _to_root)\u001b[0m\n",
      "File \u001b[1;32m~\\anaconda3\\Lib\\site-packages\\sqlalchemy\\orm\\state_changes.py:139\u001b[0m, in \u001b[0;36m_StateChange.declare_states.<locals>._go\u001b[1;34m(fn, self, *arg, **kw)\u001b[0m\n\u001b[0;32m    137\u001b[0m \u001b[38;5;28mself\u001b[39m\u001b[38;5;241m.\u001b[39m_next_state \u001b[38;5;241m=\u001b[39m _StateChangeStates\u001b[38;5;241m.\u001b[39mCHANGE_IN_PROGRESS\n\u001b[0;32m    138\u001b[0m \u001b[38;5;28;01mtry\u001b[39;00m:\n\u001b[1;32m--> 139\u001b[0m     ret_value \u001b[38;5;241m=\u001b[39m fn(\u001b[38;5;28mself\u001b[39m, \u001b[38;5;241m*\u001b[39marg, \u001b[38;5;241m*\u001b[39m\u001b[38;5;241m*\u001b[39mkw)\n\u001b[0;32m    140\u001b[0m \u001b[38;5;28;01mexcept\u001b[39;00m:\n\u001b[0;32m    141\u001b[0m     \u001b[38;5;28;01mraise\u001b[39;00m\n",
      "File \u001b[1;32m~\\anaconda3\\Lib\\site-packages\\sqlalchemy\\orm\\session.py:1256\u001b[0m, in \u001b[0;36mSessionTransaction.commit\u001b[1;34m(self, _to_root)\u001b[0m\n\u001b[0;32m   1254\u001b[0m \u001b[38;5;28;01mif\u001b[39;00m \u001b[38;5;28mself\u001b[39m\u001b[38;5;241m.\u001b[39m_state \u001b[38;5;129;01mis\u001b[39;00m \u001b[38;5;129;01mnot\u001b[39;00m SessionTransactionState\u001b[38;5;241m.\u001b[39mPREPARED:\n\u001b[0;32m   1255\u001b[0m     \u001b[38;5;28;01mwith\u001b[39;00m \u001b[38;5;28mself\u001b[39m\u001b[38;5;241m.\u001b[39m_expect_state(SessionTransactionState\u001b[38;5;241m.\u001b[39mPREPARED):\n\u001b[1;32m-> 1256\u001b[0m         \u001b[38;5;28mself\u001b[39m\u001b[38;5;241m.\u001b[39m_prepare_impl()\n\u001b[0;32m   1258\u001b[0m \u001b[38;5;28;01mif\u001b[39;00m \u001b[38;5;28mself\u001b[39m\u001b[38;5;241m.\u001b[39m_parent \u001b[38;5;129;01mis\u001b[39;00m \u001b[38;5;28;01mNone\u001b[39;00m \u001b[38;5;129;01mor\u001b[39;00m \u001b[38;5;28mself\u001b[39m\u001b[38;5;241m.\u001b[39mnested:\n\u001b[0;32m   1259\u001b[0m     \u001b[38;5;28;01mfor\u001b[39;00m conn, trans, should_commit, autoclose \u001b[38;5;129;01min\u001b[39;00m \u001b[38;5;28mset\u001b[39m(\n\u001b[0;32m   1260\u001b[0m         \u001b[38;5;28mself\u001b[39m\u001b[38;5;241m.\u001b[39m_connections\u001b[38;5;241m.\u001b[39mvalues()\n\u001b[0;32m   1261\u001b[0m     ):\n",
      "File \u001b[1;32m<string>:2\u001b[0m, in \u001b[0;36m_prepare_impl\u001b[1;34m(self)\u001b[0m\n",
      "File \u001b[1;32m~\\anaconda3\\Lib\\site-packages\\sqlalchemy\\orm\\state_changes.py:139\u001b[0m, in \u001b[0;36m_StateChange.declare_states.<locals>._go\u001b[1;34m(fn, self, *arg, **kw)\u001b[0m\n\u001b[0;32m    137\u001b[0m \u001b[38;5;28mself\u001b[39m\u001b[38;5;241m.\u001b[39m_next_state \u001b[38;5;241m=\u001b[39m _StateChangeStates\u001b[38;5;241m.\u001b[39mCHANGE_IN_PROGRESS\n\u001b[0;32m    138\u001b[0m \u001b[38;5;28;01mtry\u001b[39;00m:\n\u001b[1;32m--> 139\u001b[0m     ret_value \u001b[38;5;241m=\u001b[39m fn(\u001b[38;5;28mself\u001b[39m, \u001b[38;5;241m*\u001b[39marg, \u001b[38;5;241m*\u001b[39m\u001b[38;5;241m*\u001b[39mkw)\n\u001b[0;32m    140\u001b[0m \u001b[38;5;28;01mexcept\u001b[39;00m:\n\u001b[0;32m    141\u001b[0m     \u001b[38;5;28;01mraise\u001b[39;00m\n",
      "File \u001b[1;32m~\\anaconda3\\Lib\\site-packages\\sqlalchemy\\orm\\session.py:1231\u001b[0m, in \u001b[0;36mSessionTransaction._prepare_impl\u001b[1;34m(self)\u001b[0m\n\u001b[0;32m   1229\u001b[0m     \u001b[38;5;28;01mif\u001b[39;00m \u001b[38;5;28mself\u001b[39m\u001b[38;5;241m.\u001b[39msession\u001b[38;5;241m.\u001b[39m_is_clean():\n\u001b[0;32m   1230\u001b[0m         \u001b[38;5;28;01mbreak\u001b[39;00m\n\u001b[1;32m-> 1231\u001b[0m     \u001b[38;5;28mself\u001b[39m\u001b[38;5;241m.\u001b[39msession\u001b[38;5;241m.\u001b[39mflush()\n\u001b[0;32m   1232\u001b[0m \u001b[38;5;28;01melse\u001b[39;00m:\n\u001b[0;32m   1233\u001b[0m     \u001b[38;5;28;01mraise\u001b[39;00m exc\u001b[38;5;241m.\u001b[39mFlushError(\n\u001b[0;32m   1234\u001b[0m         \u001b[38;5;124m\"\u001b[39m\u001b[38;5;124mOver 100 subsequent flushes have occurred within \u001b[39m\u001b[38;5;124m\"\u001b[39m\n\u001b[0;32m   1235\u001b[0m         \u001b[38;5;124m\"\u001b[39m\u001b[38;5;124msession.commit() - is an after_flush() hook \u001b[39m\u001b[38;5;124m\"\u001b[39m\n\u001b[0;32m   1236\u001b[0m         \u001b[38;5;124m\"\u001b[39m\u001b[38;5;124mcreating new objects?\u001b[39m\u001b[38;5;124m\"\u001b[39m\n\u001b[0;32m   1237\u001b[0m     )\n",
      "File \u001b[1;32m~\\anaconda3\\Lib\\site-packages\\sqlalchemy\\orm\\session.py:4312\u001b[0m, in \u001b[0;36mSession.flush\u001b[1;34m(self, objects)\u001b[0m\n\u001b[0;32m   4310\u001b[0m \u001b[38;5;28;01mtry\u001b[39;00m:\n\u001b[0;32m   4311\u001b[0m     \u001b[38;5;28mself\u001b[39m\u001b[38;5;241m.\u001b[39m_flushing \u001b[38;5;241m=\u001b[39m \u001b[38;5;28;01mTrue\u001b[39;00m\n\u001b[1;32m-> 4312\u001b[0m     \u001b[38;5;28mself\u001b[39m\u001b[38;5;241m.\u001b[39m_flush(objects)\n\u001b[0;32m   4313\u001b[0m \u001b[38;5;28;01mfinally\u001b[39;00m:\n\u001b[0;32m   4314\u001b[0m     \u001b[38;5;28mself\u001b[39m\u001b[38;5;241m.\u001b[39m_flushing \u001b[38;5;241m=\u001b[39m \u001b[38;5;28;01mFalse\u001b[39;00m\n",
      "File \u001b[1;32m~\\anaconda3\\Lib\\site-packages\\sqlalchemy\\orm\\session.py:4447\u001b[0m, in \u001b[0;36mSession._flush\u001b[1;34m(self, objects)\u001b[0m\n\u001b[0;32m   4444\u001b[0m     transaction\u001b[38;5;241m.\u001b[39mcommit()\n\u001b[0;32m   4446\u001b[0m \u001b[38;5;28;01mexcept\u001b[39;00m:\n\u001b[1;32m-> 4447\u001b[0m     \u001b[38;5;28;01mwith\u001b[39;00m util\u001b[38;5;241m.\u001b[39msafe_reraise():\n\u001b[0;32m   4448\u001b[0m         transaction\u001b[38;5;241m.\u001b[39mrollback(_capture_exception\u001b[38;5;241m=\u001b[39m\u001b[38;5;28;01mTrue\u001b[39;00m)\n",
      "File \u001b[1;32m~\\anaconda3\\Lib\\site-packages\\sqlalchemy\\util\\langhelpers.py:146\u001b[0m, in \u001b[0;36msafe_reraise.__exit__\u001b[1;34m(self, type_, value, traceback)\u001b[0m\n\u001b[0;32m    144\u001b[0m     \u001b[38;5;28;01massert\u001b[39;00m exc_value \u001b[38;5;129;01mis\u001b[39;00m \u001b[38;5;129;01mnot\u001b[39;00m \u001b[38;5;28;01mNone\u001b[39;00m\n\u001b[0;32m    145\u001b[0m     \u001b[38;5;28mself\u001b[39m\u001b[38;5;241m.\u001b[39m_exc_info \u001b[38;5;241m=\u001b[39m \u001b[38;5;28;01mNone\u001b[39;00m  \u001b[38;5;66;03m# remove potential circular references\u001b[39;00m\n\u001b[1;32m--> 146\u001b[0m     \u001b[38;5;28;01mraise\u001b[39;00m exc_value\u001b[38;5;241m.\u001b[39mwith_traceback(exc_tb)\n\u001b[0;32m    147\u001b[0m \u001b[38;5;28;01melse\u001b[39;00m:\n\u001b[0;32m    148\u001b[0m     \u001b[38;5;28mself\u001b[39m\u001b[38;5;241m.\u001b[39m_exc_info \u001b[38;5;241m=\u001b[39m \u001b[38;5;28;01mNone\u001b[39;00m  \u001b[38;5;66;03m# remove potential circular references\u001b[39;00m\n",
      "File \u001b[1;32m~\\anaconda3\\Lib\\site-packages\\sqlalchemy\\orm\\session.py:4408\u001b[0m, in \u001b[0;36mSession._flush\u001b[1;34m(self, objects)\u001b[0m\n\u001b[0;32m   4406\u001b[0m \u001b[38;5;28mself\u001b[39m\u001b[38;5;241m.\u001b[39m_warn_on_events \u001b[38;5;241m=\u001b[39m \u001b[38;5;28;01mTrue\u001b[39;00m\n\u001b[0;32m   4407\u001b[0m \u001b[38;5;28;01mtry\u001b[39;00m:\n\u001b[1;32m-> 4408\u001b[0m     flush_context\u001b[38;5;241m.\u001b[39mexecute()\n\u001b[0;32m   4409\u001b[0m \u001b[38;5;28;01mfinally\u001b[39;00m:\n\u001b[0;32m   4410\u001b[0m     \u001b[38;5;28mself\u001b[39m\u001b[38;5;241m.\u001b[39m_warn_on_events \u001b[38;5;241m=\u001b[39m \u001b[38;5;28;01mFalse\u001b[39;00m\n",
      "File \u001b[1;32m~\\anaconda3\\Lib\\site-packages\\sqlalchemy\\orm\\unitofwork.py:466\u001b[0m, in \u001b[0;36mUOWTransaction.execute\u001b[1;34m(self)\u001b[0m\n\u001b[0;32m    464\u001b[0m \u001b[38;5;28;01melse\u001b[39;00m:\n\u001b[0;32m    465\u001b[0m     \u001b[38;5;28;01mfor\u001b[39;00m rec \u001b[38;5;129;01min\u001b[39;00m topological\u001b[38;5;241m.\u001b[39msort(\u001b[38;5;28mself\u001b[39m\u001b[38;5;241m.\u001b[39mdependencies, postsort_actions):\n\u001b[1;32m--> 466\u001b[0m         rec\u001b[38;5;241m.\u001b[39mexecute(\u001b[38;5;28mself\u001b[39m)\n",
      "File \u001b[1;32m~\\anaconda3\\Lib\\site-packages\\sqlalchemy\\orm\\unitofwork.py:642\u001b[0m, in \u001b[0;36mSaveUpdateAll.execute\u001b[1;34m(self, uow)\u001b[0m\n\u001b[0;32m    640\u001b[0m \u001b[38;5;129m@util\u001b[39m\u001b[38;5;241m.\u001b[39mpreload_module(\u001b[38;5;124m\"\u001b[39m\u001b[38;5;124msqlalchemy.orm.persistence\u001b[39m\u001b[38;5;124m\"\u001b[39m)\n\u001b[0;32m    641\u001b[0m \u001b[38;5;28;01mdef\u001b[39;00m \u001b[38;5;21mexecute\u001b[39m(\u001b[38;5;28mself\u001b[39m, uow):\n\u001b[1;32m--> 642\u001b[0m     util\u001b[38;5;241m.\u001b[39mpreloaded\u001b[38;5;241m.\u001b[39morm_persistence\u001b[38;5;241m.\u001b[39msave_obj(\n\u001b[0;32m    643\u001b[0m         \u001b[38;5;28mself\u001b[39m\u001b[38;5;241m.\u001b[39mmapper,\n\u001b[0;32m    644\u001b[0m         uow\u001b[38;5;241m.\u001b[39mstates_for_mapper_hierarchy(\u001b[38;5;28mself\u001b[39m\u001b[38;5;241m.\u001b[39mmapper, \u001b[38;5;28;01mFalse\u001b[39;00m, \u001b[38;5;28;01mFalse\u001b[39;00m),\n\u001b[0;32m    645\u001b[0m         uow,\n\u001b[0;32m    646\u001b[0m     )\n",
      "File \u001b[1;32m~\\anaconda3\\Lib\\site-packages\\sqlalchemy\\orm\\persistence.py:93\u001b[0m, in \u001b[0;36msave_obj\u001b[1;34m(base_mapper, states, uowtransaction, single)\u001b[0m\n\u001b[0;32m     81\u001b[0m     update \u001b[38;5;241m=\u001b[39m _collect_update_commands(\n\u001b[0;32m     82\u001b[0m         uowtransaction, table, states_to_update\n\u001b[0;32m     83\u001b[0m     )\n\u001b[0;32m     85\u001b[0m     _emit_update_statements(\n\u001b[0;32m     86\u001b[0m         base_mapper,\n\u001b[0;32m     87\u001b[0m         uowtransaction,\n\u001b[1;32m   (...)\u001b[0m\n\u001b[0;32m     90\u001b[0m         update,\n\u001b[0;32m     91\u001b[0m     )\n\u001b[1;32m---> 93\u001b[0m     _emit_insert_statements(\n\u001b[0;32m     94\u001b[0m         base_mapper,\n\u001b[0;32m     95\u001b[0m         uowtransaction,\n\u001b[0;32m     96\u001b[0m         mapper,\n\u001b[0;32m     97\u001b[0m         table,\n\u001b[0;32m     98\u001b[0m         insert,\n\u001b[0;32m     99\u001b[0m     )\n\u001b[0;32m    101\u001b[0m _finalize_insert_update_commands(\n\u001b[0;32m    102\u001b[0m     base_mapper,\n\u001b[0;32m    103\u001b[0m     uowtransaction,\n\u001b[1;32m   (...)\u001b[0m\n\u001b[0;32m    119\u001b[0m     ),\n\u001b[0;32m    120\u001b[0m )\n",
      "File \u001b[1;32m~\\anaconda3\\Lib\\site-packages\\sqlalchemy\\orm\\persistence.py:1044\u001b[0m, in \u001b[0;36m_emit_insert_statements\u001b[1;34m(base_mapper, uowtransaction, mapper, table, insert, bookkeeping, use_orm_insert_stmt, execution_options)\u001b[0m\n\u001b[0;32m   1041\u001b[0m records \u001b[38;5;241m=\u001b[39m \u001b[38;5;28mlist\u001b[39m(records)\n\u001b[0;32m   1042\u001b[0m multiparams \u001b[38;5;241m=\u001b[39m [rec[\u001b[38;5;241m2\u001b[39m] \u001b[38;5;28;01mfor\u001b[39;00m rec \u001b[38;5;129;01min\u001b[39;00m records]\n\u001b[1;32m-> 1044\u001b[0m result \u001b[38;5;241m=\u001b[39m connection\u001b[38;5;241m.\u001b[39mexecute(\n\u001b[0;32m   1045\u001b[0m     statement, multiparams, execution_options\u001b[38;5;241m=\u001b[39mexecution_options\n\u001b[0;32m   1046\u001b[0m )\n\u001b[0;32m   1047\u001b[0m \u001b[38;5;28;01mif\u001b[39;00m bookkeeping:\n\u001b[0;32m   1048\u001b[0m     \u001b[38;5;28;01mfor\u001b[39;00m (\n\u001b[0;32m   1049\u001b[0m         (\n\u001b[0;32m   1050\u001b[0m             state,\n\u001b[1;32m   (...)\u001b[0m\n\u001b[0;32m   1059\u001b[0m         last_inserted_params,\n\u001b[0;32m   1060\u001b[0m     ) \u001b[38;5;129;01min\u001b[39;00m \u001b[38;5;28mzip\u001b[39m(records, result\u001b[38;5;241m.\u001b[39mcontext\u001b[38;5;241m.\u001b[39mcompiled_parameters):\n",
      "File \u001b[1;32m~\\anaconda3\\Lib\\site-packages\\sqlalchemy\\engine\\base.py:1416\u001b[0m, in \u001b[0;36mConnection.execute\u001b[1;34m(self, statement, parameters, execution_options)\u001b[0m\n\u001b[0;32m   1414\u001b[0m     \u001b[38;5;28;01mraise\u001b[39;00m exc\u001b[38;5;241m.\u001b[39mObjectNotExecutableError(statement) \u001b[38;5;28;01mfrom\u001b[39;00m \u001b[38;5;21;01merr\u001b[39;00m\n\u001b[0;32m   1415\u001b[0m \u001b[38;5;28;01melse\u001b[39;00m:\n\u001b[1;32m-> 1416\u001b[0m     \u001b[38;5;28;01mreturn\u001b[39;00m meth(\n\u001b[0;32m   1417\u001b[0m         \u001b[38;5;28mself\u001b[39m,\n\u001b[0;32m   1418\u001b[0m         distilled_parameters,\n\u001b[0;32m   1419\u001b[0m         execution_options \u001b[38;5;129;01mor\u001b[39;00m NO_OPTIONS,\n\u001b[0;32m   1420\u001b[0m     )\n",
      "File \u001b[1;32m~\\anaconda3\\Lib\\site-packages\\sqlalchemy\\sql\\elements.py:517\u001b[0m, in \u001b[0;36mClauseElement._execute_on_connection\u001b[1;34m(self, connection, distilled_params, execution_options)\u001b[0m\n\u001b[0;32m    515\u001b[0m     \u001b[38;5;28;01mif\u001b[39;00m TYPE_CHECKING:\n\u001b[0;32m    516\u001b[0m         \u001b[38;5;28;01massert\u001b[39;00m \u001b[38;5;28misinstance\u001b[39m(\u001b[38;5;28mself\u001b[39m, Executable)\n\u001b[1;32m--> 517\u001b[0m     \u001b[38;5;28;01mreturn\u001b[39;00m connection\u001b[38;5;241m.\u001b[39m_execute_clauseelement(\n\u001b[0;32m    518\u001b[0m         \u001b[38;5;28mself\u001b[39m, distilled_params, execution_options\n\u001b[0;32m    519\u001b[0m     )\n\u001b[0;32m    520\u001b[0m \u001b[38;5;28;01melse\u001b[39;00m:\n\u001b[0;32m    521\u001b[0m     \u001b[38;5;28;01mraise\u001b[39;00m exc\u001b[38;5;241m.\u001b[39mObjectNotExecutableError(\u001b[38;5;28mself\u001b[39m)\n",
      "File \u001b[1;32m~\\anaconda3\\Lib\\site-packages\\sqlalchemy\\engine\\base.py:1639\u001b[0m, in \u001b[0;36mConnection._execute_clauseelement\u001b[1;34m(self, elem, distilled_parameters, execution_options)\u001b[0m\n\u001b[0;32m   1627\u001b[0m compiled_cache: Optional[CompiledCacheType] \u001b[38;5;241m=\u001b[39m execution_options\u001b[38;5;241m.\u001b[39mget(\n\u001b[0;32m   1628\u001b[0m     \u001b[38;5;124m\"\u001b[39m\u001b[38;5;124mcompiled_cache\u001b[39m\u001b[38;5;124m\"\u001b[39m, \u001b[38;5;28mself\u001b[39m\u001b[38;5;241m.\u001b[39mengine\u001b[38;5;241m.\u001b[39m_compiled_cache\n\u001b[0;32m   1629\u001b[0m )\n\u001b[0;32m   1631\u001b[0m compiled_sql, extracted_params, cache_hit \u001b[38;5;241m=\u001b[39m elem\u001b[38;5;241m.\u001b[39m_compile_w_cache(\n\u001b[0;32m   1632\u001b[0m     dialect\u001b[38;5;241m=\u001b[39mdialect,\n\u001b[0;32m   1633\u001b[0m     compiled_cache\u001b[38;5;241m=\u001b[39mcompiled_cache,\n\u001b[1;32m   (...)\u001b[0m\n\u001b[0;32m   1637\u001b[0m     linting\u001b[38;5;241m=\u001b[39m\u001b[38;5;28mself\u001b[39m\u001b[38;5;241m.\u001b[39mdialect\u001b[38;5;241m.\u001b[39mcompiler_linting \u001b[38;5;241m|\u001b[39m compiler\u001b[38;5;241m.\u001b[39mWARN_LINTING,\n\u001b[0;32m   1638\u001b[0m )\n\u001b[1;32m-> 1639\u001b[0m ret \u001b[38;5;241m=\u001b[39m \u001b[38;5;28mself\u001b[39m\u001b[38;5;241m.\u001b[39m_execute_context(\n\u001b[0;32m   1640\u001b[0m     dialect,\n\u001b[0;32m   1641\u001b[0m     dialect\u001b[38;5;241m.\u001b[39mexecution_ctx_cls\u001b[38;5;241m.\u001b[39m_init_compiled,\n\u001b[0;32m   1642\u001b[0m     compiled_sql,\n\u001b[0;32m   1643\u001b[0m     distilled_parameters,\n\u001b[0;32m   1644\u001b[0m     execution_options,\n\u001b[0;32m   1645\u001b[0m     compiled_sql,\n\u001b[0;32m   1646\u001b[0m     distilled_parameters,\n\u001b[0;32m   1647\u001b[0m     elem,\n\u001b[0;32m   1648\u001b[0m     extracted_params,\n\u001b[0;32m   1649\u001b[0m     cache_hit\u001b[38;5;241m=\u001b[39mcache_hit,\n\u001b[0;32m   1650\u001b[0m )\n\u001b[0;32m   1651\u001b[0m \u001b[38;5;28;01mif\u001b[39;00m has_events:\n\u001b[0;32m   1652\u001b[0m     \u001b[38;5;28mself\u001b[39m\u001b[38;5;241m.\u001b[39mdispatch\u001b[38;5;241m.\u001b[39mafter_execute(\n\u001b[0;32m   1653\u001b[0m         \u001b[38;5;28mself\u001b[39m,\n\u001b[0;32m   1654\u001b[0m         elem,\n\u001b[1;32m   (...)\u001b[0m\n\u001b[0;32m   1658\u001b[0m         ret,\n\u001b[0;32m   1659\u001b[0m     )\n",
      "File \u001b[1;32m~\\anaconda3\\Lib\\site-packages\\sqlalchemy\\engine\\base.py:1848\u001b[0m, in \u001b[0;36mConnection._execute_context\u001b[1;34m(self, dialect, constructor, statement, parameters, execution_options, *args, **kw)\u001b[0m\n\u001b[0;32m   1843\u001b[0m     \u001b[38;5;28;01mreturn\u001b[39;00m \u001b[38;5;28mself\u001b[39m\u001b[38;5;241m.\u001b[39m_exec_insertmany_context(\n\u001b[0;32m   1844\u001b[0m         dialect,\n\u001b[0;32m   1845\u001b[0m         context,\n\u001b[0;32m   1846\u001b[0m     )\n\u001b[0;32m   1847\u001b[0m \u001b[38;5;28;01melse\u001b[39;00m:\n\u001b[1;32m-> 1848\u001b[0m     \u001b[38;5;28;01mreturn\u001b[39;00m \u001b[38;5;28mself\u001b[39m\u001b[38;5;241m.\u001b[39m_exec_single_context(\n\u001b[0;32m   1849\u001b[0m         dialect, context, statement, parameters\n\u001b[0;32m   1850\u001b[0m     )\n",
      "File \u001b[1;32m~\\anaconda3\\Lib\\site-packages\\sqlalchemy\\engine\\base.py:1988\u001b[0m, in \u001b[0;36mConnection._exec_single_context\u001b[1;34m(self, dialect, context, statement, parameters)\u001b[0m\n\u001b[0;32m   1985\u001b[0m     result \u001b[38;5;241m=\u001b[39m context\u001b[38;5;241m.\u001b[39m_setup_result_proxy()\n\u001b[0;32m   1987\u001b[0m \u001b[38;5;28;01mexcept\u001b[39;00m \u001b[38;5;167;01mBaseException\u001b[39;00m \u001b[38;5;28;01mas\u001b[39;00m e:\n\u001b[1;32m-> 1988\u001b[0m     \u001b[38;5;28mself\u001b[39m\u001b[38;5;241m.\u001b[39m_handle_dbapi_exception(\n\u001b[0;32m   1989\u001b[0m         e, str_statement, effective_parameters, cursor, context\n\u001b[0;32m   1990\u001b[0m     )\n\u001b[0;32m   1992\u001b[0m \u001b[38;5;28;01mreturn\u001b[39;00m result\n",
      "File \u001b[1;32m~\\anaconda3\\Lib\\site-packages\\sqlalchemy\\engine\\base.py:2344\u001b[0m, in \u001b[0;36mConnection._handle_dbapi_exception\u001b[1;34m(self, e, statement, parameters, cursor, context, is_sub_exec)\u001b[0m\n\u001b[0;32m   2342\u001b[0m \u001b[38;5;28;01melif\u001b[39;00m should_wrap:\n\u001b[0;32m   2343\u001b[0m     \u001b[38;5;28;01massert\u001b[39;00m sqlalchemy_exception \u001b[38;5;129;01mis\u001b[39;00m \u001b[38;5;129;01mnot\u001b[39;00m \u001b[38;5;28;01mNone\u001b[39;00m\n\u001b[1;32m-> 2344\u001b[0m     \u001b[38;5;28;01mraise\u001b[39;00m sqlalchemy_exception\u001b[38;5;241m.\u001b[39mwith_traceback(exc_info[\u001b[38;5;241m2\u001b[39m]) \u001b[38;5;28;01mfrom\u001b[39;00m \u001b[38;5;21;01me\u001b[39;00m\n\u001b[0;32m   2345\u001b[0m \u001b[38;5;28;01melse\u001b[39;00m:\n\u001b[0;32m   2346\u001b[0m     \u001b[38;5;28;01massert\u001b[39;00m exc_info[\u001b[38;5;241m1\u001b[39m] \u001b[38;5;129;01mis\u001b[39;00m \u001b[38;5;129;01mnot\u001b[39;00m \u001b[38;5;28;01mNone\u001b[39;00m\n",
      "File \u001b[1;32m~\\anaconda3\\Lib\\site-packages\\sqlalchemy\\engine\\base.py:1938\u001b[0m, in \u001b[0;36mConnection._exec_single_context\u001b[1;34m(self, dialect, context, statement, parameters)\u001b[0m\n\u001b[0;32m   1936\u001b[0m                 \u001b[38;5;28;01mbreak\u001b[39;00m\n\u001b[0;32m   1937\u001b[0m     \u001b[38;5;28;01mif\u001b[39;00m \u001b[38;5;129;01mnot\u001b[39;00m evt_handled:\n\u001b[1;32m-> 1938\u001b[0m         \u001b[38;5;28mself\u001b[39m\u001b[38;5;241m.\u001b[39mdialect\u001b[38;5;241m.\u001b[39mdo_executemany(\n\u001b[0;32m   1939\u001b[0m             cursor,\n\u001b[0;32m   1940\u001b[0m             str_statement,\n\u001b[0;32m   1941\u001b[0m             effective_parameters,\n\u001b[0;32m   1942\u001b[0m             context,\n\u001b[0;32m   1943\u001b[0m         )\n\u001b[0;32m   1944\u001b[0m \u001b[38;5;28;01melif\u001b[39;00m \u001b[38;5;129;01mnot\u001b[39;00m effective_parameters \u001b[38;5;129;01mand\u001b[39;00m context\u001b[38;5;241m.\u001b[39mno_parameters:\n\u001b[0;32m   1945\u001b[0m     \u001b[38;5;28;01mif\u001b[39;00m \u001b[38;5;28mself\u001b[39m\u001b[38;5;241m.\u001b[39mdialect\u001b[38;5;241m.\u001b[39m_has_events:\n",
      "File \u001b[1;32m~\\anaconda3\\Lib\\site-packages\\sqlalchemy\\engine\\default.py:919\u001b[0m, in \u001b[0;36mDefaultDialect.do_executemany\u001b[1;34m(self, cursor, statement, parameters, context)\u001b[0m\n\u001b[0;32m    918\u001b[0m \u001b[38;5;28;01mdef\u001b[39;00m \u001b[38;5;21mdo_executemany\u001b[39m(\u001b[38;5;28mself\u001b[39m, cursor, statement, parameters, context\u001b[38;5;241m=\u001b[39m\u001b[38;5;28;01mNone\u001b[39;00m):\n\u001b[1;32m--> 919\u001b[0m     cursor\u001b[38;5;241m.\u001b[39mexecutemany(statement, parameters)\n",
      "\u001b[1;31mOperationalError\u001b[0m: (sqlite3.OperationalError) database is locked\n[SQL: INSERT INTO \"Pozisyon\" (id, calisan_id, unvan, \"baslangicTarihi\", \"bitisTarihi\") VALUES (?, ?, ?, ?, ?)]\n[parameters: [(1, 1, 'Yönetici', '2022-01-01', '2022-12-31'), (2, 2, 'Muhasebe Müdürü', '2022-01-01', '2022-12-31'), (3, 3, 'Satış Müdürü', '2022-01-01', '2022-12-31'), (4, 4, 'Müşteri Temsilcisi', '2022-01-01', '2022-12-31'), (5, 5, 'Üretim Müdürü', '2022-01-01', '2022-12-31'), (6, 6, 'İnsan Kaynakları Müdürü', '2022-01-01', '2022-12-31'), (7, 7, 'Yazılım Geliştirici', '2022-01-01', '2022-12-31'), (8, 8, 'Tasarımcı', '2022-01-01', '2022-12-31')  ... displaying 10 of 15 total bound parameter sets ...  (14, 4, 'Müşteri Temsilcisi', '2022-01-01', '2022-12-31'), (15, 5, 'Üretim Müdürü', '2022-01-01', '2022-12-31')]]\n(Background on this error at: https://sqlalche.me/e/20/e3q8)"
     ]
    }
   ],
   "source": [
    "Session.commit()\n",
    "Session.close()"
   ]
  },
  {
   "cell_type": "code",
   "execution_count": 64,
   "id": "20a8b752",
   "metadata": {},
   "outputs": [],
   "source": [
    "Session.close()\n",
    "engine.dispose()"
   ]
  },
  {
   "cell_type": "code",
   "execution_count": 65,
   "id": "6626b000",
   "metadata": {},
   "outputs": [],
   "source": [
    "import time\n",
    "\n",
    "max_retries = 5\n",
    "retry_delay = 1  # seconds\n",
    "\n",
    "for i in range(max_retries):\n",
    "    try:\n",
    "        Session.commit()\n",
    "        Session.close()\n",
    "        break  # Başarıyla tamamlanırsa döngüden çık\n",
    "    except OperationalError as e:\n",
    "        print(f\"Operational error occurred: {e}\")\n",
    "        time.sleep(retry_delay)  # Belirli bir süre bekleyerek tekrar dene"
   ]
  },
  {
   "cell_type": "code",
   "execution_count": 66,
   "id": "23ddf862",
   "metadata": {},
   "outputs": [],
   "source": [
    "# Her işlem sonrasında transaksiyonu bitir ve bağlantıyı kapat\n",
    "Session.commit()\n",
    "Session.close()"
   ]
  },
  {
   "cell_type": "code",
   "execution_count": 67,
   "id": "8dd3c2c2",
   "metadata": {},
   "outputs": [],
   "source": [
    "# SQLite için gerekli paketin çağırılması\n",
    "import sqlite3\n",
    "\n",
    "# Veri tabanına bağlanma ve bağlantıyı \"Conn\" değişkenine yükleme\n",
    "conn = sqlite3.connect(\"MyFirstDB\")\n",
    "\n",
    "# Veri tabanı ile iletisimi sağlayan \"Cursor\" elemanını oluşturma\n",
    "cursor = conn.cursor()"
   ]
  },
  {
   "cell_type": "code",
   "execution_count": 68,
   "id": "d891aa20",
   "metadata": {},
   "outputs": [
    {
     "data": {
      "text/plain": [
       "<sqlite3.Cursor at 0x1c54a5fa040>"
      ]
     },
     "execution_count": 68,
     "metadata": {},
     "output_type": "execute_result"
    }
   ],
   "source": [
    "# SQL komutunu \"Cursor\" kullanarak çalıştırma\n",
    "cursor.execute(\"\"\"SELECT *\n",
    "FROM Calisan\n",
    "WHERE cinsiyet = 'Kadın'\"\"\")"
   ]
  },
  {
   "cell_type": "code",
   "execution_count": 69,
   "id": "1f4ff2e1",
   "metadata": {},
   "outputs": [
    {
     "name": "stdout",
     "output_type": "stream",
     "text": [
      "[]\n"
     ]
    }
   ],
   "source": [
    "# SQL sonucunda oluşan yanıtı alarak \"Tables\" değişkenine yükleme\n",
    "res = cursor.fetchall()\n",
    "\n",
    "# \"Tables\" değişkeni içerisine bakma\n",
    "print(res)"
   ]
  },
  {
   "cell_type": "code",
   "execution_count": 70,
   "id": "905e3025",
   "metadata": {},
   "outputs": [],
   "source": [
    "# Session oluşturma\n",
    "Session = sessionmaker(bind=engine)\n",
    "Session = Session()"
   ]
  },
  {
   "cell_type": "code",
   "execution_count": 76,
   "id": "352af3d1",
   "metadata": {},
   "outputs": [
    {
     "ename": "TypeError",
     "evalue": "'adi' is an invalid keyword argument for Calisan",
     "output_type": "error",
     "traceback": [
      "\u001b[1;31m---------------------------------------------------------------------------\u001b[0m",
      "\u001b[1;31mTypeError\u001b[0m                                 Traceback (most recent call last)",
      "Cell \u001b[1;32mIn[76], line 2\u001b[0m\n\u001b[0;32m      1\u001b[0m Session\u001b[38;5;241m.\u001b[39madd_all([\n\u001b[1;32m----> 2\u001b[0m     Calisan(\u001b[38;5;28mid\u001b[39m\u001b[38;5;241m=\u001b[39m\u001b[38;5;241m3\u001b[39m, adi\u001b[38;5;241m=\u001b[39m\u001b[38;5;124m'\u001b[39m\u001b[38;5;124mAyşe\u001b[39m\u001b[38;5;124m'\u001b[39m, soyadi\u001b[38;5;241m=\u001b[39m\u001b[38;5;124m'\u001b[39m\u001b[38;5;124mKaya\u001b[39m\u001b[38;5;124m'\u001b[39m, cinsiyet\u001b[38;5;241m=\u001b[39m\u001b[38;5;124m\"\u001b[39m\u001b[38;5;124mKadın\u001b[39m\u001b[38;5;124m\"\u001b[39m, iseGirisTarihi\u001b[38;5;241m=\u001b[39m\u001b[38;5;124m'\u001b[39m\u001b[38;5;124m2022-03-01\u001b[39m\u001b[38;5;124m'\u001b[39m),\n\u001b[0;32m      3\u001b[0m     Calisan(\u001b[38;5;28mid\u001b[39m\u001b[38;5;241m=\u001b[39m\u001b[38;5;241m4\u001b[39m, adi\u001b[38;5;241m=\u001b[39m\u001b[38;5;124m'\u001b[39m\u001b[38;5;124mFatma\u001b[39m\u001b[38;5;124m'\u001b[39m, soyadi\u001b[38;5;241m=\u001b[39m\u001b[38;5;124m'\u001b[39m\u001b[38;5;124mDemir\u001b[39m\u001b[38;5;124m'\u001b[39m, cinsiyet\u001b[38;5;241m=\u001b[39m\u001b[38;5;124m\"\u001b[39m\u001b[38;5;124mKadın\u001b[39m\u001b[38;5;124m\"\u001b[39m, iseGirisTarihi\u001b[38;5;241m=\u001b[39m\u001b[38;5;124m'\u001b[39m\u001b[38;5;124m2020-04-01\u001b[39m\u001b[38;5;124m'\u001b[39m),\n\u001b[0;32m      4\u001b[0m     Calisan(\u001b[38;5;28mid\u001b[39m\u001b[38;5;241m=\u001b[39m\u001b[38;5;241m6\u001b[39m, adi\u001b[38;5;241m=\u001b[39m\u001b[38;5;124m'\u001b[39m\u001b[38;5;124mEmine\u001b[39m\u001b[38;5;124m'\u001b[39m, soyadi\u001b[38;5;241m=\u001b[39m\u001b[38;5;124m'\u001b[39m\u001b[38;5;124mSarı\u001b[39m\u001b[38;5;124m'\u001b[39m, cinsiyet\u001b[38;5;241m=\u001b[39m\u001b[38;5;124m\"\u001b[39m\u001b[38;5;124mKadın\u001b[39m\u001b[38;5;124m\"\u001b[39m, iseGirisTarihi\u001b[38;5;241m=\u001b[39m\u001b[38;5;124m'\u001b[39m\u001b[38;5;124m2021-06-01\u001b[39m\u001b[38;5;124m'\u001b[39m),\n\u001b[0;32m      5\u001b[0m     Calisan(\u001b[38;5;28mid\u001b[39m\u001b[38;5;241m=\u001b[39m\u001b[38;5;241m8\u001b[39m, adi\u001b[38;5;241m=\u001b[39m\u001b[38;5;124m'\u001b[39m\u001b[38;5;124mNur\u001b[39m\u001b[38;5;124m'\u001b[39m, soyadi\u001b[38;5;241m=\u001b[39m\u001b[38;5;124m'\u001b[39m\u001b[38;5;124mÖzdemir\u001b[39m\u001b[38;5;124m'\u001b[39m, cinsiyet\u001b[38;5;241m=\u001b[39m\u001b[38;5;124m\"\u001b[39m\u001b[38;5;124mKadın\u001b[39m\u001b[38;5;124m\"\u001b[39m, iseGirisTarihi\u001b[38;5;241m=\u001b[39m\u001b[38;5;124m'\u001b[39m\u001b[38;5;124m2021-08-01\u001b[39m\u001b[38;5;124m'\u001b[39m),\n\u001b[0;32m      6\u001b[0m     Calisan(\u001b[38;5;28mid\u001b[39m\u001b[38;5;241m=\u001b[39m\u001b[38;5;241m10\u001b[39m, adi\u001b[38;5;241m=\u001b[39m\u001b[38;5;124m'\u001b[39m\u001b[38;5;124mZeynep\u001b[39m\u001b[38;5;124m'\u001b[39m, soyadi\u001b[38;5;241m=\u001b[39m\u001b[38;5;124m'\u001b[39m\u001b[38;5;124mÇetin\u001b[39m\u001b[38;5;124m'\u001b[39m, cinsiyet\u001b[38;5;241m=\u001b[39m\u001b[38;5;124m\"\u001b[39m\u001b[38;5;124mKadın\u001b[39m\u001b[38;5;124m\"\u001b[39m, iseGirisTarihi\u001b[38;5;241m=\u001b[39m\u001b[38;5;124m'\u001b[39m\u001b[38;5;124m2022-10-01\u001b[39m\u001b[38;5;124m'\u001b[39m),\n\u001b[0;32m      7\u001b[0m ])\n",
      "File \u001b[1;32m<string>:4\u001b[0m, in \u001b[0;36m__init__\u001b[1;34m(self, **kwargs)\u001b[0m\n",
      "File \u001b[1;32m~\\anaconda3\\Lib\\site-packages\\sqlalchemy\\orm\\state.py:566\u001b[0m, in \u001b[0;36mInstanceState._initialize_instance\u001b[1;34m(*mixed, **kwargs)\u001b[0m\n\u001b[0;32m    564\u001b[0m     manager\u001b[38;5;241m.\u001b[39moriginal_init(\u001b[38;5;241m*\u001b[39mmixed[\u001b[38;5;241m1\u001b[39m:], \u001b[38;5;241m*\u001b[39m\u001b[38;5;241m*\u001b[39mkwargs)\n\u001b[0;32m    565\u001b[0m \u001b[38;5;28;01mexcept\u001b[39;00m:\n\u001b[1;32m--> 566\u001b[0m     \u001b[38;5;28;01mwith\u001b[39;00m util\u001b[38;5;241m.\u001b[39msafe_reraise():\n\u001b[0;32m    567\u001b[0m         manager\u001b[38;5;241m.\u001b[39mdispatch\u001b[38;5;241m.\u001b[39minit_failure(\u001b[38;5;28mself\u001b[39m, args, kwargs)\n",
      "File \u001b[1;32m~\\anaconda3\\Lib\\site-packages\\sqlalchemy\\util\\langhelpers.py:146\u001b[0m, in \u001b[0;36msafe_reraise.__exit__\u001b[1;34m(self, type_, value, traceback)\u001b[0m\n\u001b[0;32m    144\u001b[0m     \u001b[38;5;28;01massert\u001b[39;00m exc_value \u001b[38;5;129;01mis\u001b[39;00m \u001b[38;5;129;01mnot\u001b[39;00m \u001b[38;5;28;01mNone\u001b[39;00m\n\u001b[0;32m    145\u001b[0m     \u001b[38;5;28mself\u001b[39m\u001b[38;5;241m.\u001b[39m_exc_info \u001b[38;5;241m=\u001b[39m \u001b[38;5;28;01mNone\u001b[39;00m  \u001b[38;5;66;03m# remove potential circular references\u001b[39;00m\n\u001b[1;32m--> 146\u001b[0m     \u001b[38;5;28;01mraise\u001b[39;00m exc_value\u001b[38;5;241m.\u001b[39mwith_traceback(exc_tb)\n\u001b[0;32m    147\u001b[0m \u001b[38;5;28;01melse\u001b[39;00m:\n\u001b[0;32m    148\u001b[0m     \u001b[38;5;28mself\u001b[39m\u001b[38;5;241m.\u001b[39m_exc_info \u001b[38;5;241m=\u001b[39m \u001b[38;5;28;01mNone\u001b[39;00m  \u001b[38;5;66;03m# remove potential circular references\u001b[39;00m\n",
      "File \u001b[1;32m~\\anaconda3\\Lib\\site-packages\\sqlalchemy\\orm\\state.py:564\u001b[0m, in \u001b[0;36mInstanceState._initialize_instance\u001b[1;34m(*mixed, **kwargs)\u001b[0m\n\u001b[0;32m    561\u001b[0m manager\u001b[38;5;241m.\u001b[39mdispatch\u001b[38;5;241m.\u001b[39minit(\u001b[38;5;28mself\u001b[39m, args, kwargs)\n\u001b[0;32m    563\u001b[0m \u001b[38;5;28;01mtry\u001b[39;00m:\n\u001b[1;32m--> 564\u001b[0m     manager\u001b[38;5;241m.\u001b[39moriginal_init(\u001b[38;5;241m*\u001b[39mmixed[\u001b[38;5;241m1\u001b[39m:], \u001b[38;5;241m*\u001b[39m\u001b[38;5;241m*\u001b[39mkwargs)\n\u001b[0;32m    565\u001b[0m \u001b[38;5;28;01mexcept\u001b[39;00m:\n\u001b[0;32m    566\u001b[0m     \u001b[38;5;28;01mwith\u001b[39;00m util\u001b[38;5;241m.\u001b[39msafe_reraise():\n",
      "File \u001b[1;32m~\\anaconda3\\Lib\\site-packages\\sqlalchemy\\orm\\decl_base.py:2142\u001b[0m, in \u001b[0;36m_declarative_constructor\u001b[1;34m(self, **kwargs)\u001b[0m\n\u001b[0;32m   2140\u001b[0m \u001b[38;5;28;01mfor\u001b[39;00m k \u001b[38;5;129;01min\u001b[39;00m kwargs:\n\u001b[0;32m   2141\u001b[0m     \u001b[38;5;28;01mif\u001b[39;00m \u001b[38;5;129;01mnot\u001b[39;00m \u001b[38;5;28mhasattr\u001b[39m(cls_, k):\n\u001b[1;32m-> 2142\u001b[0m         \u001b[38;5;28;01mraise\u001b[39;00m \u001b[38;5;167;01mTypeError\u001b[39;00m(\n\u001b[0;32m   2143\u001b[0m             \u001b[38;5;124m\"\u001b[39m\u001b[38;5;132;01m%r\u001b[39;00m\u001b[38;5;124m is an invalid keyword argument for \u001b[39m\u001b[38;5;132;01m%s\u001b[39;00m\u001b[38;5;124m\"\u001b[39m \u001b[38;5;241m%\u001b[39m (k, cls_\u001b[38;5;241m.\u001b[39m\u001b[38;5;18m__name__\u001b[39m)\n\u001b[0;32m   2144\u001b[0m         )\n\u001b[0;32m   2145\u001b[0m     \u001b[38;5;28msetattr\u001b[39m(\u001b[38;5;28mself\u001b[39m, k, kwargs[k])\n",
      "\u001b[1;31mTypeError\u001b[0m: 'adi' is an invalid keyword argument for Calisan"
     ]
    }
   ],
   "source": [
    "Session.add_all([\n",
    "    Calisan(id=3, adi='Ayşe', soyadi='Kaya', cinsiyet=\"Kadın\", iseGirisTarihi='2022-03-01'),\n",
    "    Calisan(id=4, adi='Fatma', soyadi='Demir', cinsiyet=\"Kadın\", iseGirisTarihi='2020-04-01'),\n",
    "    Calisan(id=6, adi='Emine', soyadi='Sarı', cinsiyet=\"Kadın\", iseGirisTarihi='2021-06-01'),\n",
    "    Calisan(id=8, adi='Nur', soyadi='Özdemir', cinsiyet=\"Kadın\", iseGirisTarihi='2021-08-01'),\n",
    "    Calisan(id=10, adi='Zeynep', soyadi='Çetin', cinsiyet=\"Kadın\", iseGirisTarihi='2022-10-01'),\n",
    "])"
   ]
  },
  {
   "cell_type": "code",
   "execution_count": 77,
   "id": "52545fde",
   "metadata": {},
   "outputs": [
    {
     "ename": "NameError",
     "evalue": "name 'calisan' is not defined",
     "output_type": "error",
     "traceback": [
      "\u001b[1;31m---------------------------------------------------------------------------\u001b[0m",
      "\u001b[1;31mNameError\u001b[0m                                 Traceback (most recent call last)",
      "Cell \u001b[1;32mIn[77], line 1\u001b[0m\n\u001b[1;32m----> 1\u001b[0m \u001b[38;5;28mlist\u001b[39m(calisan)\n",
      "\u001b[1;31mNameError\u001b[0m: name 'calisan' is not defined"
     ]
    }
   ],
   "source": [
    "list"
   ]
  },
  {
   "cell_type": "code",
   "execution_count": 80,
   "id": "a178955b",
   "metadata": {},
   "outputs": [
    {
     "ename": "TypeError",
     "evalue": "Table() takes at least two positional-only arguments 'name' and 'metadata'",
     "output_type": "error",
     "traceback": [
      "\u001b[1;31m---------------------------------------------------------------------------\u001b[0m",
      "\u001b[1;31mIndexError\u001b[0m                                Traceback (most recent call last)",
      "File \u001b[1;32m~\\anaconda3\\Lib\\site-packages\\sqlalchemy\\sql\\schema.py:445\u001b[0m, in \u001b[0;36mTable._new\u001b[1;34m(cls, *args, **kw)\u001b[0m\n\u001b[0;32m    444\u001b[0m \u001b[38;5;28;01mtry\u001b[39;00m:\n\u001b[1;32m--> 445\u001b[0m     name, metadata, args \u001b[38;5;241m=\u001b[39m args[\u001b[38;5;241m0\u001b[39m], args[\u001b[38;5;241m1\u001b[39m], args[\u001b[38;5;241m2\u001b[39m:]\n\u001b[0;32m    446\u001b[0m \u001b[38;5;28;01mexcept\u001b[39;00m \u001b[38;5;167;01mIndexError\u001b[39;00m:\n",
      "\u001b[1;31mIndexError\u001b[0m: tuple index out of range",
      "\nDuring handling of the above exception, another exception occurred:\n",
      "\u001b[1;31mTypeError\u001b[0m                                 Traceback (most recent call last)",
      "Cell \u001b[1;32mIn[80], line 8\u001b[0m\n\u001b[0;32m      5\u001b[0m metadata \u001b[38;5;241m=\u001b[39m MetaData()\n\u001b[0;32m      7\u001b[0m \u001b[38;5;66;03m# Calisan tablosunu yükle\u001b[39;00m\n\u001b[1;32m----> 8\u001b[0m calisanlar \u001b[38;5;241m=\u001b[39m Table(\u001b[38;5;124m'\u001b[39m\u001b[38;5;124mCalisan\u001b[39m\u001b[38;5;124m'\u001b[39m)\n\u001b[0;32m     10\u001b[0m \u001b[38;5;66;03m# Tüm çalışanları seç\u001b[39;00m\n\u001b[0;32m     11\u001b[0m sorgu \u001b[38;5;241m=\u001b[39m select([calisanlar])\n",
      "File \u001b[1;32m<string>:2\u001b[0m, in \u001b[0;36m__new__\u001b[1;34m(cls, *args, **kw)\u001b[0m\n",
      "File \u001b[1;32m~\\anaconda3\\Lib\\site-packages\\sqlalchemy\\util\\deprecations.py:281\u001b[0m, in \u001b[0;36mdeprecated_params.<locals>.decorate.<locals>.warned\u001b[1;34m(fn, *args, **kwargs)\u001b[0m\n\u001b[0;32m    274\u001b[0m     \u001b[38;5;28;01mif\u001b[39;00m m \u001b[38;5;129;01min\u001b[39;00m kwargs:\n\u001b[0;32m    275\u001b[0m         _warn_with_version(\n\u001b[0;32m    276\u001b[0m             messages[m],\n\u001b[0;32m    277\u001b[0m             versions[m],\n\u001b[0;32m    278\u001b[0m             version_warnings[m],\n\u001b[0;32m    279\u001b[0m             stacklevel\u001b[38;5;241m=\u001b[39m\u001b[38;5;241m3\u001b[39m,\n\u001b[0;32m    280\u001b[0m         )\n\u001b[1;32m--> 281\u001b[0m \u001b[38;5;28;01mreturn\u001b[39;00m fn(\u001b[38;5;241m*\u001b[39margs, \u001b[38;5;241m*\u001b[39m\u001b[38;5;241m*\u001b[39mkwargs)\n",
      "File \u001b[1;32m~\\anaconda3\\Lib\\site-packages\\sqlalchemy\\sql\\schema.py:436\u001b[0m, in \u001b[0;36mTable.__new__\u001b[1;34m(cls, *args, **kw)\u001b[0m\n\u001b[0;32m    429\u001b[0m \u001b[38;5;129m@util\u001b[39m\u001b[38;5;241m.\u001b[39mdeprecated_params(\n\u001b[0;32m    430\u001b[0m     mustexist\u001b[38;5;241m=\u001b[39m(\n\u001b[0;32m    431\u001b[0m         \u001b[38;5;124m\"\u001b[39m\u001b[38;5;124m1.4\u001b[39m\u001b[38;5;124m\"\u001b[39m,\n\u001b[1;32m   (...)\u001b[0m\n\u001b[0;32m    434\u001b[0m )\n\u001b[0;32m    435\u001b[0m \u001b[38;5;28;01mdef\u001b[39;00m \u001b[38;5;21m__new__\u001b[39m(\u001b[38;5;28mcls\u001b[39m, \u001b[38;5;241m*\u001b[39margs: Any, \u001b[38;5;241m*\u001b[39m\u001b[38;5;241m*\u001b[39mkw: Any) \u001b[38;5;241m-\u001b[39m\u001b[38;5;241m>\u001b[39m Any:\n\u001b[1;32m--> 436\u001b[0m     \u001b[38;5;28;01mreturn\u001b[39;00m \u001b[38;5;28mcls\u001b[39m\u001b[38;5;241m.\u001b[39m_new(\u001b[38;5;241m*\u001b[39margs, \u001b[38;5;241m*\u001b[39m\u001b[38;5;241m*\u001b[39mkw)\n",
      "File \u001b[1;32m~\\anaconda3\\Lib\\site-packages\\sqlalchemy\\sql\\schema.py:447\u001b[0m, in \u001b[0;36mTable._new\u001b[1;34m(cls, *args, **kw)\u001b[0m\n\u001b[0;32m    445\u001b[0m     name, metadata, args \u001b[38;5;241m=\u001b[39m args[\u001b[38;5;241m0\u001b[39m], args[\u001b[38;5;241m1\u001b[39m], args[\u001b[38;5;241m2\u001b[39m:]\n\u001b[0;32m    446\u001b[0m \u001b[38;5;28;01mexcept\u001b[39;00m \u001b[38;5;167;01mIndexError\u001b[39;00m:\n\u001b[1;32m--> 447\u001b[0m     \u001b[38;5;28;01mraise\u001b[39;00m \u001b[38;5;167;01mTypeError\u001b[39;00m(\n\u001b[0;32m    448\u001b[0m         \u001b[38;5;124m\"\u001b[39m\u001b[38;5;124mTable() takes at least two positional-only \u001b[39m\u001b[38;5;124m\"\u001b[39m\n\u001b[0;32m    449\u001b[0m         \u001b[38;5;124m\"\u001b[39m\u001b[38;5;124marguments \u001b[39m\u001b[38;5;124m'\u001b[39m\u001b[38;5;124mname\u001b[39m\u001b[38;5;124m'\u001b[39m\u001b[38;5;124m and \u001b[39m\u001b[38;5;124m'\u001b[39m\u001b[38;5;124mmetadata\u001b[39m\u001b[38;5;124m'\u001b[39m\u001b[38;5;124m\"\u001b[39m\n\u001b[0;32m    450\u001b[0m     )\n\u001b[0;32m    452\u001b[0m schema \u001b[38;5;241m=\u001b[39m kw\u001b[38;5;241m.\u001b[39mget(\u001b[38;5;124m\"\u001b[39m\u001b[38;5;124mschema\u001b[39m\u001b[38;5;124m\"\u001b[39m, \u001b[38;5;28;01mNone\u001b[39;00m)\n\u001b[0;32m    453\u001b[0m \u001b[38;5;28;01mif\u001b[39;00m schema \u001b[38;5;129;01mis\u001b[39;00m \u001b[38;5;28;01mNone\u001b[39;00m:\n",
      "\u001b[1;31mTypeError\u001b[0m: Table() takes at least two positional-only arguments 'name' and 'metadata'"
     ]
    }
   ],
   "source": [
    "from sqlalchemy import create_engine, MetaData, Table, select\n",
    "\n",
    "# Veritabanı bağlantısını oluştur\n",
    "engine = create_engine('sqlite:///veritabani.db')\n",
    "metadata = MetaData()\n",
    "\n",
    "# Calisan tablosunu yükle\n",
    "calisanlar = Table('Calisan', metadata, autoload=True)\n",
    "\n",
    "# Tüm çalışanları seç\n",
    "sorgu = select([calisanlar])\n",
    "\n",
    "# Sorguyu çalıştır ve sonuçları al\n",
    "with engine.connect() as connection:\n",
    "    sonuclar = connection.execute(sorgu)\n",
    "    for row in sonuclar:\n",
    "        print(row)"
   ]
  },
  {
   "cell_type": "code",
   "execution_count": 81,
   "id": "b0efc443",
   "metadata": {},
   "outputs": [],
   "source": [
    "from sqlalchemy.ext.declarative import declarative_base\n",
    "from sqlalchemy import Column, Integer, String, ForeignKey\n",
    "from sqlalchemy.orm import relationship\n",
    "\n",
    "Base = sqlalchemy.orm.declarative_base()\n",
    "\n",
    "class Yoneticilik(Base):\n",
    "    __tablename__ = 'Yoneticilik'\n",
    "    id = Column(Integer, primary_key=True)\n",
    "    calisan_id = Column(Integer, ForeignKey('Calisan.id'))\n",
    "    bolum_id = Column(Integer, ForeignKey('Bolum.id'))\n",
    "    baslangicTarihi = Column(String)\n",
    "    bitisTarihi = Column(String)\n",
    "\n",
    "class Calisan(Base):\n",
    "    __tablename__ = 'Calisan'\n",
    "    id = Column(Integer, primary_key=True)\n",
    "    dogumTarihi = Column(Integer)\n",
    "    adi = Column(String)\n",
    "    soyadi = Column(String)\n",
    "    cinsiyet = Column(String)\n",
    "    iseGirisTarihi = Column(String)\n",
    "    \n",
    "class Bolum(Base):\n",
    "    __tablename__ = 'Bolum'\n",
    "    id = Column(Integer, primary_key=True)\n",
    "    adi = Column(String)\n",
    "\n",
    "# Session oluşturma\n",
    "engine = create_engine('sqlite:///MyFirstDB')\n",
    "Session = sessionmaker(bind=engine)\n",
    "Session = Session()"
   ]
  },
  {
   "cell_type": "code",
   "execution_count": 89,
   "id": "20ee9fa2",
   "metadata": {},
   "outputs": [],
   "source": [
    "Session.add_all([\n",
    "    Calisan(id=3,  dogumTarihi='1', adi='Ayşe', soyadi='Kaya', cinsiyet=\"Kadın\", iseGirisTarihi='2022-03-01'),\n",
    "    Calisan(id=4, dogumTarihi='1', adi='Fatma', soyadi='Demir', cinsiyet=\"Kadın\", iseGirisTarihi='2020-04-01'),\n",
    "    Calisan(id=6, dogumTarihi='1', adi='Emine', soyadi='Sarı', cinsiyet=\"Kadın\", iseGirisTarihi='2021-06-01'),\n",
    "    Calisan(id=8, dogumTarihi='1', adi='Nur', soyadi='Özdemir', cinsiyet=\"Kadın\", iseGirisTarihi='2021-08-01'),\n",
    "    Calisan(id=10, dogumTarihi='1', adi='Zeynep', soyadi='Çetin', cinsiyet=\"Kadın\", iseGirisTarihi='2022-10-01'),\n",
    "])"
   ]
  },
  {
   "cell_type": "code",
   "execution_count": 85,
   "id": "54d8f98d",
   "metadata": {},
   "outputs": [
    {
     "name": "stdout",
     "output_type": "stream",
     "text": [
      "[]\n"
     ]
    }
   ],
   "source": [
    "# SQL sonucunda oluşan yanıtı alarak \"Tables\" değişkenine yükleme\n",
    "res = cursor.fetchall()\n",
    "\n",
    "# \"Tables\" değişkeni içerisine bakma\n",
    "print(res)"
   ]
  },
  {
   "cell_type": "code",
   "execution_count": 86,
   "id": "ca7af042",
   "metadata": {},
   "outputs": [],
   "source": [
    "# Session oluşturma\n",
    "Session = sessionmaker(bind=engine)\n",
    "Session = Session()\n",
    "\n"
   ]
  },
  {
   "cell_type": "code",
   "execution_count": 88,
   "id": "f5a8a713",
   "metadata": {},
   "outputs": [],
   "source": [
    "# Cinsiyet sütunu Kadın değerine eşit olan kayıtları getirme\n",
    "result = Session.query(Calisan).filter(Calisan.cinsiyet == 'Kadın').all()\n",
    "\n",
    "# Sonuçları yazdırma\n",
    "for kayit in result:\n",
    "    pring(Kayit.adi, kayit.soyadi)"
   ]
  },
  {
   "cell_type": "code",
   "execution_count": 2,
   "id": "d67b325c",
   "metadata": {},
   "outputs": [
    {
     "data": {
      "text/plain": [
       "<sqlite3.Cursor at 0x1cc6341fcc0>"
      ]
     },
     "execution_count": 2,
     "metadata": {},
     "output_type": "execute_result"
    }
   ],
   "source": [
    "# SQLite için gereken paketi çağırma\n",
    "import sqlite3\n",
    "\n",
    "# Veri tabanına bağnarak, bağlantıyı \"Conn\" değişkenine yükleme\n",
    "conn = sqlite3.connect(\"MyFirstDB\")\n",
    "\n",
    "# Veri tabanı ile iletisimi sağlayan \"Cursor\" elemanını oluşturma\n",
    "cursor = conn.cursor()\n",
    "\n",
    "# SQL komutunu \"Cursor\" kullanarak çalıştırma\n",
    "cursor.execute(\"\"\"UPDATE Calisan\n",
    "SET cinsiyet = 'K'\n",
    "WHERE cinsiyet = 'Kadın'\"\"\")"
   ]
  },
  {
   "cell_type": "code",
   "execution_count": 3,
   "id": "261cde50",
   "metadata": {},
   "outputs": [
    {
     "data": {
      "text/plain": [
       "<sqlite3.Cursor at 0x1cc6341fcc0>"
      ]
     },
     "execution_count": 3,
     "metadata": {},
     "output_type": "execute_result"
    }
   ],
   "source": [
    "# SOLkomutunu \"cursor\" kulanarak çalıştırma\n",
    "cursor.execute(\"\"\"SELECT * FROM Calisan\"\"\")"
   ]
  },
  {
   "cell_type": "code",
   "execution_count": 4,
   "id": "4a992360",
   "metadata": {},
   "outputs": [
    {
     "name": "stdout",
     "output_type": "stream",
     "text": [
      "[]\n"
     ]
    }
   ],
   "source": [
    "# SQL sonucunda oluşan yanıtı \"tables\" değişkenine yükleme\n",
    "tables = cursor.fetchall()\n",
    "\n",
    "# \"tables\" değişkeni içerisinde neler olduğuna bakma\n",
    "print(tables)"
   ]
  },
  {
   "cell_type": "code",
   "execution_count": 9,
   "id": "1e8d94b8",
   "metadata": {},
   "outputs": [
    {
     "ename": "NameError",
     "evalue": "name 'sessionmaker' is not defined",
     "output_type": "error",
     "traceback": [
      "\u001b[1;31m---------------------------------------------------------------------------\u001b[0m",
      "\u001b[1;31mNameError\u001b[0m                                 Traceback (most recent call last)",
      "Cell \u001b[1;32mIn[9], line 2\u001b[0m\n\u001b[0;32m      1\u001b[0m \u001b[38;5;66;03m# Session oluşturma\u001b[39;00m\n\u001b[1;32m----> 2\u001b[0m Session \u001b[38;5;241m=\u001b[39m sessionmaker(bind\u001b[38;5;241m=\u001b[39mengine)\n\u001b[0;32m      3\u001b[0m Session \u001b[38;5;241m=\u001b[39m Session()\n",
      "\u001b[1;31mNameError\u001b[0m: name 'sessionmaker' is not defined"
     ]
    }
   ],
   "source": [
    "# Session oluşturma\n",
    "Session = sessionmaker(bind=engine)\n",
    "Session = Session()\n"
   ]
  },
  {
   "cell_type": "code",
   "execution_count": 10,
   "id": "1e3063b5",
   "metadata": {},
   "outputs": [
    {
     "ename": "NameError",
     "evalue": "name 'session' is not defined",
     "output_type": "error",
     "traceback": [
      "\u001b[1;31m---------------------------------------------------------------------------\u001b[0m",
      "\u001b[1;31mNameError\u001b[0m                                 Traceback (most recent call last)",
      "Cell \u001b[1;32mIn[10], line 1\u001b[0m\n\u001b[1;32m----> 1\u001b[0m result \u001b[38;5;241m=\u001b[39m session\u001b[38;5;241m.\u001b[39mquerry(Calisan)\u001b[38;5;241m.\u001b[39mall()\n",
      "\u001b[1;31mNameError\u001b[0m: name 'session' is not defined"
     ]
    }
   ],
   "source": [
    "\n",
    "result = session.querry(Calisan).all()"
   ]
  },
  {
   "cell_type": "code",
   "execution_count": 11,
   "id": "dabeb001",
   "metadata": {},
   "outputs": [
    {
     "ename": "SyntaxError",
     "evalue": "invalid syntax (2986630100.py, line 1)",
     "output_type": "error",
     "traceback": [
      "\u001b[1;36m  Cell \u001b[1;32mIn[11], line 1\u001b[1;36m\u001b[0m\n\u001b[1;33m    for kayit is result:\u001b[0m\n\u001b[1;37m              ^\u001b[0m\n\u001b[1;31mSyntaxError\u001b[0m\u001b[1;31m:\u001b[0m invalid syntax\n"
     ]
    }
   ],
   "source": [
    "for kayit is result:\n",
    "    print(kayit.adi, kayit.soyadi, kayit.cinsiyet)"
   ]
  },
  {
   "cell_type": "code",
   "execution_count": 12,
   "id": "8a8f3313",
   "metadata": {},
   "outputs": [
    {
     "ename": "NameError",
     "evalue": "name 'session' is not defined",
     "output_type": "error",
     "traceback": [
      "\u001b[1;31m---------------------------------------------------------------------------\u001b[0m",
      "\u001b[1;31mNameError\u001b[0m                                 Traceback (most recent call last)",
      "Cell \u001b[1;32mIn[12], line 1\u001b[0m\n\u001b[1;32m----> 1\u001b[0m session\u001b[38;5;241m.\u001b[39mquery(Calisan)\u001b[38;5;241m.\u001b[39mfilter(Calisan\u001b[38;5;241m.\u001b[39mcinsiyet \u001b[38;5;241m==\u001b[39m \u001b[38;5;124m'\u001b[39m\u001b[38;5;124mKadin\u001b[39m\u001b[38;5;124m'\u001b[39m)\u001b[38;5;241m.\u001b[39mupdate({Calisan\u001b[38;5;241m.\u001b[39mcinsiyet: \u001b[38;5;124m'\u001b[39m\u001b[38;5;124mK\u001b[39m\u001b[38;5;124m'\u001b[39m})\n",
      "\u001b[1;31mNameError\u001b[0m: name 'session' is not defined"
     ]
    }
   ],
   "source": [
    "session.query(Calisan).filter(Calisan.cinsiyet == 'Kadin').update({Calisan.cinsiyet: 'K'})"
   ]
  },
  {
   "cell_type": "code",
   "execution_count": 13,
   "id": "b5d42a33",
   "metadata": {},
   "outputs": [
    {
     "ename": "NameError",
     "evalue": "name 'session' is not defined",
     "output_type": "error",
     "traceback": [
      "\u001b[1;31m---------------------------------------------------------------------------\u001b[0m",
      "\u001b[1;31mNameError\u001b[0m                                 Traceback (most recent call last)",
      "Cell \u001b[1;32mIn[13], line 1\u001b[0m\n\u001b[1;32m----> 1\u001b[0m result \u001b[38;5;241m=\u001b[39m session\u001b[38;5;241m.\u001b[39mquerry(Calisan)\u001b[38;5;241m.\u001b[39mall()\n",
      "\u001b[1;31mNameError\u001b[0m: name 'session' is not defined"
     ]
    }
   ],
   "source": [
    "\n",
    "result = session.querry(Calisan).all()"
   ]
  },
  {
   "cell_type": "code",
   "execution_count": 14,
   "id": "8fe9e91f",
   "metadata": {},
   "outputs": [
    {
     "ename": "SyntaxError",
     "evalue": "invalid syntax (2986630100.py, line 1)",
     "output_type": "error",
     "traceback": [
      "\u001b[1;36m  Cell \u001b[1;32mIn[14], line 1\u001b[1;36m\u001b[0m\n\u001b[1;33m    for kayit is result:\u001b[0m\n\u001b[1;37m              ^\u001b[0m\n\u001b[1;31mSyntaxError\u001b[0m\u001b[1;31m:\u001b[0m invalid syntax\n"
     ]
    }
   ],
   "source": [
    "for kayit is result:\n",
    "    print(kayit.adi, kayit.soyadi, kayit.cinsiyet)"
   ]
  },
  {
   "cell_type": "code",
   "execution_count": null,
   "id": "dd0234a8",
   "metadata": {},
   "outputs": [],
   "source": []
  }
 ],
 "metadata": {
  "kernelspec": {
   "display_name": "Python 3 (ipykernel)",
   "language": "python",
   "name": "python3"
  },
  "language_info": {
   "codemirror_mode": {
    "name": "ipython",
    "version": 3
   },
   "file_extension": ".py",
   "mimetype": "text/x-python",
   "name": "python",
   "nbconvert_exporter": "python",
   "pygments_lexer": "ipython3",
   "version": "3.11.7"
  }
 },
 "nbformat": 4,
 "nbformat_minor": 5
}
