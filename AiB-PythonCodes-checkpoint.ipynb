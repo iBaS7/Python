{
 "cells": [
  {
   "cell_type": "code",
   "execution_count": 1,
   "id": "0a7146f4",
   "metadata": {},
   "outputs": [
    {
     "name": "stdout",
     "output_type": "stream",
     "text": [
      "Hi Guys!\n"
     ]
    }
   ],
   "source": [
    "print(\"Hi Guys!\")"
   ]
  },
  {
   "cell_type": "code",
   "execution_count": 2,
   "id": "8b04b726",
   "metadata": {},
   "outputs": [
    {
     "name": "stdout",
     "output_type": "stream",
     "text": [
      "Requirement already satisfied: sqlalchemy in c:\\users\\monster\\anaconda3\\lib\\site-packages (2.0.25)\n",
      "Requirement already satisfied: typing-extensions>=4.6.0 in c:\\users\\monster\\anaconda3\\lib\\site-packages (from sqlalchemy) (4.9.0)\n",
      "Requirement already satisfied: greenlet!=0.4.17 in c:\\users\\monster\\anaconda3\\lib\\site-packages (from sqlalchemy) (3.0.1)\n",
      "Note: you may need to restart the kernel to use updated packages.\n"
     ]
    }
   ],
   "source": [
    "pip install sqlalchemy"
   ]
  },
  {
   "cell_type": "code",
   "execution_count": 3,
   "id": "4a730aaf",
   "metadata": {},
   "outputs": [],
   "source": [
    "import sqlite3"
   ]
  },
  {
   "cell_type": "code",
   "execution_count": 4,
   "id": "34740a60",
   "metadata": {},
   "outputs": [],
   "source": [
    "conn = sqlite3.connect(\"AiB-SQLite-db\")"
   ]
  },
  {
   "cell_type": "code",
   "execution_count": 5,
   "id": "ba3fcbaf",
   "metadata": {},
   "outputs": [
    {
     "ename": "OperationalError",
     "evalue": "table Position already exists",
     "output_type": "error",
     "traceback": [
      "\u001b[1;31m---------------------------------------------------------------------------\u001b[0m",
      "\u001b[1;31mOperationalError\u001b[0m                          Traceback (most recent call last)",
      "Cell \u001b[1;32mIn[5], line 3\u001b[0m\n\u001b[0;32m      1\u001b[0m cursor \u001b[38;5;241m=\u001b[39m conn\u001b[38;5;241m.\u001b[39mcursor()\n\u001b[1;32m----> 3\u001b[0m cursor\u001b[38;5;241m.\u001b[39mexecute(\u001b[38;5;124m\"\u001b[39m\u001b[38;5;124mCREATE TABLE Position (Id INTEGER PRIMARY KEY, Employee_Id INTEGER NOT NULL, Title VARCHAR(255), StartingDateOfEmployment INTEGER, EndingDateOfEmployment INTEGER)\u001b[39m\u001b[38;5;124m\"\u001b[39m)\n",
      "\u001b[1;31mOperationalError\u001b[0m: table Position already exists"
     ]
    }
   ],
   "source": [
    "cursor = conn.cursor()\n",
    "\n",
    "cursor.execute(\"CREATE TABLE Position (Id INTEGER PRIMARY KEY, Employee_Id INTEGER NOT NULL, Title VARCHAR(255), StartingDateOfEmployment INTEGER, EndingDateOfEmployment INTEGER)\")"
   ]
  },
  {
   "cell_type": "code",
   "execution_count": null,
   "id": "b3ca524b",
   "metadata": {},
   "outputs": [],
   "source": [
    "conn.commit()\n",
    "conn.close()"
   ]
  },
  {
   "cell_type": "code",
   "execution_count": null,
   "id": "e2ab6143",
   "metadata": {},
   "outputs": [],
   "source": [
    "import sqlite3\n",
    "\n",
    "conn = sqlite3.connect(\"AiB-SQLite-db\")\n",
    "\n",
    "cursor = conn.cursor()\n",
    "\n",
    "cursor.execute(\"SELECT Name FROM sqlite_master WHERE type='table'\")\n",
    "\n",
    "tables = cursor.fetchall()\n",
    "\n",
    "print(tables)"
   ]
  },
  {
   "cell_type": "code",
   "execution_count": null,
   "id": "7fc1faa0",
   "metadata": {},
   "outputs": [],
   "source": [
    "cursor.execute(\"CREATE TABLE Salary (Id INTEGER PRIMARY KEY, Employee_Id INTEGER NOT NULL, Salary REAL, StartingDateOfEmployment INTEGER, EndingDateOfEmployment INTEGER)\")\n"
   ]
  },
  {
   "cell_type": "code",
   "execution_count": null,
   "id": "46225513",
   "metadata": {},
   "outputs": [],
   "source": [
    "cursor.execute(\"SELECT Name FROM sqlite_master WHERE type='table'\")\n",
    "\n",
    "tables = cursor.fetchall()\n",
    "\n",
    "print(tables)"
   ]
  },
  {
   "cell_type": "code",
   "execution_count": null,
   "id": "8693e907",
   "metadata": {},
   "outputs": [],
   "source": [
    "conn.commit()\n",
    "conn.close()"
   ]
  },
  {
   "cell_type": "code",
   "execution_count": null,
   "id": "12b3e61f",
   "metadata": {},
   "outputs": [],
   "source": [
    "import sqlalchemy\n",
    "from sqlalchemy import create_engine, Column, Integer, String, Date, ForeignKey\n",
    "from sqlalchemy.ext.declarative import declarative_base\n",
    "from sqlalchemy.orm import relationship"
   ]
  },
  {
   "cell_type": "code",
   "execution_count": null,
   "id": "0b39db3b",
   "metadata": {},
   "outputs": [],
   "source": [
    "engine = create_engine('sqlite:///AiB-SQLite-db')\n",
    "Base = declarative_base()"
   ]
  },
  {
   "cell_type": "code",
   "execution_count": null,
   "id": "f0413891",
   "metadata": {},
   "outputs": [],
   "source": [
    "class Management(Base):\n",
    "    __tablename__ = 'Management'\n",
    "    Id = Column(Integer, primary_key=True)\n",
    "    Employee_Id = Column(Integer)\n",
    "    Department_Id = Column(Integer)\n",
    "    StartingDateOfEmployment = Column(Date)\n",
    "    EndingDateOfEmployment = Column(Date)"
   ]
  },
  {
   "cell_type": "code",
   "execution_count": null,
   "id": "e7426e93",
   "metadata": {},
   "outputs": [],
   "source": [
    "Base.metadata.create_all(engine)"
   ]
  },
  {
   "cell_type": "code",
   "execution_count": null,
   "id": "9d552dd7",
   "metadata": {},
   "outputs": [],
   "source": [
    "import sqlalchemy\n",
    "from sqlalchemy import create_engine, Column, Integer, String, Date, ForeignKey\n",
    "from sqlalchemy.ext.declarative import declarative_base\n",
    "from sqlalchemy.orm import relationship\n",
    "\n",
    "engine = create_engine('sqlite:///AiB-SQLite-db')\n",
    "Base = declarative_base()\n",
    "\n",
    "class EmploymentDepartment(Base):\n",
    "    __tablename__ = 'EmploymentDepartment'\n",
    "    Id = Column(Integer, primary_key=True)\n",
    "    Employee_Id = Column(Integer)\n",
    "    Department_Id = Column(Integer)\n",
    "    StartingDateOfEmployment = Column(Date)\n",
    "    EndingDateOfEmployment = Column(Date)"
   ]
  },
  {
   "cell_type": "code",
   "execution_count": null,
   "id": "3de776af",
   "metadata": {},
   "outputs": [],
   "source": [
    "Base.metadata.create_all(engine)"
   ]
  },
  {
   "cell_type": "code",
   "execution_count": null,
   "id": "83b97149",
   "metadata": {},
   "outputs": [],
   "source": [
    "import sqlalchemy\n",
    "from sqlalchemy import create_engine, Column, Integer, String, Date, ForeignKey\n",
    "from sqlalchemy.ext.declarative import declarative_base\n",
    "from sqlalchemy.orm import relationship\n",
    "\n",
    "engine = create_engine('sqlite:///AiB-SQLite-db')\n",
    "Base = declarative_base()\n",
    "\n",
    "class Employmee(Base):\n",
    "    __tablename__ = 'Employee'\n",
    "    Id = Column(Integer, primary_key=True)\n",
    "    Employee_Id = Column(String)\n",
    "    Department_Id = Column(String)\n",
    "    StartingDateOfEmployment = Column(String)\n",
    "    EndingDateOfEmployment = Column(Date)\n",
    "    \n",
    "    Position = relationship(\"Position\")\n",
    "    Salary = relationship(\"Salary\")\n",
    "    Management = relationship(\"Management\")\n",
    "    EmploymentDepartment = relationship(\"EmploymentDepartment\")"
   ]
  },
  {
   "cell_type": "code",
   "execution_count": null,
   "id": "147d04da",
   "metadata": {},
   "outputs": [],
   "source": [
    "import sqlalchemy\n",
    "from sqlalchemy import create_engine, Column, Integer, String, Date, ForeignKey\n",
    "from sqlalchemy.ext.declarative import declarative_base\n",
    "from sqlalchemy.orm import relationship\n",
    "\n",
    "engine = create_engine('sqlite:///AiB-SQLite-db')\n",
    "Base = declarative_base()\n",
    "\n",
    "class Employee(Base):\n",
    "    __tablename__ = 'Employee'\n",
    "    Id = Column(Integer, primary_key=True)\n",
    "    Name = Column(String)\n",
    "    Surname = Column(String)\n",
    "    Gender = Column(String)\n",
    "    StartingDateOfEmployment = Column(Date)\n",
    "    \n",
    "    Position = relationship(\"Position\")\n",
    "    Salary = relationship(\"Salary\")\n",
    "    Management = relationship(\"Management\")\n",
    "    EmploymentDepartment = relationship(\"EmploymentDepartment\")"
   ]
  },
  {
   "cell_type": "code",
   "execution_count": null,
   "id": "c5975185",
   "metadata": {},
   "outputs": [],
   "source": [
    "import sqlalchemy\n",
    "from sqlalchemy import create_engine, Column, Integer, String, Date, ForeignKey\n",
    "from sqlalchemy.ext.declarative import declarative_base\n",
    "from sqlalchemy.orm import relationship\n",
    "\n",
    "engine = create_engine('sqlite:///AiB-SQLite-db')\n",
    "Base = sqlalchemy.orm.declarative_base()\n",
    "\n",
    "class Employee(Base):\n",
    "    __tablename__ = 'Employee'\n",
    "    Id = Column(Integer, primary_key=True)\n",
    "    Name = Column(String)\n",
    "    Surname = Column(String)\n",
    "    Gender = Column(String)\n",
    "    StartingDateOfEmployment = Column(Date)\n",
    "    \n",
    "    Position = relationship(\"Position\")\n",
    "    Salary = relationship(\"Salary\")\n",
    "    Management = relationship(\"Management\")\n",
    "    EmploymentDepartment = relationship(\"EmploymentDepartment\")"
   ]
  },
  {
   "cell_type": "code",
   "execution_count": null,
   "id": "d3c19af6",
   "metadata": {},
   "outputs": [],
   "source": [
    "import sqlalchemy\n",
    "from sqlalchemy import create_engine, Column, Integer, String, Date, ForeignKey\n",
    "from sqlalchemy.ext.declarative import declarative_base\n",
    "from sqlalchemy.orm import relationship\n",
    "\n",
    "engine = create_engine('sqlite:///AiB-SQLite-db')\n",
    "Base = sqlalchemy.orm.declarative_base()\n",
    "\n",
    "class Management(Base):\n",
    "    __tablename__ = 'Management'\n",
    "    Id = Column(Integer, primary_key=True)\n",
    "    Employee_Id = Column(Integer)\n",
    "    Department_Id = Column(Integer)\n",
    "    StartingDateOfEmployment = Column(Date)\n",
    "    EndingDateOfEmployment = Column(Date)"
   ]
  },
  {
   "cell_type": "code",
   "execution_count": null,
   "id": "5c5e89f7",
   "metadata": {},
   "outputs": [],
   "source": [
    "Base.metadata.create_all(engine)"
   ]
  },
  {
   "cell_type": "code",
   "execution_count": null,
   "id": "c2742209",
   "metadata": {},
   "outputs": [],
   "source": [
    "import sqlalchemy\n",
    "from sqlalchemy import create_engine, Column, Integer, String, Date, ForeignKey\n",
    "from sqlalchemy.ext.declarative import declarative_base\n",
    "from sqlalchemy.orm import relationship\n",
    "\n",
    "engine = create_engine('sqlite:///AiB-SQLite-db')\n",
    "Base = sqlalchemy.orm.declarative_base()\n",
    "\n",
    "class EmploymentDepartment(Base):\n",
    "    __tablename__ = 'EmploymentDepartment'\n",
    "    Id = Column(Integer, primary_key=True)\n",
    "    Employee_Id = Column(Integer)\n",
    "    Department_Id = Column(Integer)\n",
    "    StartingDateOfEmployment = Column(Date)\n",
    "    EndingDateOfEmployment = Column(Date)"
   ]
  },
  {
   "cell_type": "code",
   "execution_count": null,
   "id": "413d7a3d",
   "metadata": {},
   "outputs": [],
   "source": [
    "Base.metadata.create_all(engine)"
   ]
  },
  {
   "cell_type": "code",
   "execution_count": null,
   "id": "6a9b97ea",
   "metadata": {},
   "outputs": [],
   "source": [
    "import sqlalchemy\n",
    "from sqlalchemy import create_engine, Column, Integer, String, Date, ForeignKey\n",
    "from sqlalchemy.ext.declarative import declarative_base\n",
    "from sqlalchemy.orm import relationship\n",
    "\n",
    "engine = create_engine('sqlite:///AiB-SQLite-db')\n",
    "Base = sqlalchemy.orm.declarative_base()\n",
    "\n",
    "class Employee(Base):\n",
    "    __tablename__ = 'Employee'\n",
    "    Id = Column(Integer, primary_key=True)\n",
    "    Name = Column(String)\n",
    "    Surname = Column(String)\n",
    "    Gender = Column(String)\n",
    "    StartingDateOfEmployment = Column(Date)\n",
    "    \n",
    "    Position = relationship(\"Position\")\n",
    "    Salary = relationship(\"Salary\")\n",
    "    Management = relationship(\"Management\")\n",
    "    EmploymentDepartment = relationship(\"EmploymentDepartment\")"
   ]
  },
  {
   "cell_type": "code",
   "execution_count": null,
   "id": "0200c723",
   "metadata": {},
   "outputs": [],
   "source": [
    "class Department(Base):\n",
    "    __tablename__ = 'Department'\n",
    "    Id = Column(Integer, primary_key=True)\n",
    "    Name = Column(String)"
   ]
  },
  {
   "cell_type": "code",
   "execution_count": null,
   "id": "753dd8e1",
   "metadata": {},
   "outputs": [],
   "source": [
    "class Position(Base):\n",
    "    __tablename__ = 'Position'\n",
    "    Id = Column(Integer, primary_key=True)\n",
    "    Employee_Id = Column(Integer, ForeignKey('Employee.id'))\n",
    "    Title = Column(String)\n",
    "    StartingDateOfEmployment = Column(Date)\n",
    "    EndingDateOfEmployment = Column(Date)\n",
    "    \n",
    "    Employee = relationship(\"Employee\", back_populates=\"Position\")"
   ]
  },
  {
   "cell_type": "code",
   "execution_count": null,
   "id": "f4e29790",
   "metadata": {},
   "outputs": [],
   "source": [
    "class Salary(Base):\n",
    "    __tablename__ = 'Salary'\n",
    "    Id = Column(Integer, primary_key=True)\n",
    "    Employee_Id = Column(Integer, ForeignKey('Employee.id'))\n",
    "    Title = Column(String)\n",
    "    StartingDateOfEmployment = Column(Date)\n",
    "    EndingDateOfEmployment = Column(Date)\n",
    "    \n",
    "    Employee = relationship(\"Employee\", back_populates=\"Salary\")"
   ]
  },
  {
   "cell_type": "code",
   "execution_count": null,
   "id": "295bd226",
   "metadata": {},
   "outputs": [],
   "source": [
    "class Management(Base):\n",
    "    __tablename__ = 'Management'\n",
    "    Id = Column(Integer, primary_key=True)\n",
    "    Employee_Id = Column(Integer, ForeignKey('Employee.id'))\n",
    "    Department_Id = Column(Integer, ForeignKey('Department.id'))\n",
    "    StartingDateOfEmployment = Column(Date)\n",
    "    EndingDateOfEmployment = Column(Date)\n",
    "    \n",
    "    Employee = relationship(\"Employee\", back_populates=\"Management\")\n",
    "    Department = relationship(\"Department\", back_populates=\"EmploymentDepartment\")"
   ]
  },
  {
   "cell_type": "code",
   "execution_count": null,
   "id": "168e8c82",
   "metadata": {},
   "outputs": [],
   "source": [
    "Base.metadata.create_all(engine)"
   ]
  },
  {
   "cell_type": "code",
   "execution_count": null,
   "id": "56341cd8",
   "metadata": {},
   "outputs": [],
   "source": [
    "import sqlalchemy\n",
    "from sqlalchemy import create_engine, Column, Integer, String, Date, ForeignKey\n",
    "from sqlalchemy.ext.declarative import declarative_base\n",
    "from sqlalchemy.orm import relationship\n",
    "\n",
    "engine = create_engine('sqlite:///AiB-SQLite-db')\n",
    "Base = sqlalchemy.orm.declarative_base()\n",
    "\n",
    "class Salary(Base):\n",
    "    __tablename__ = 'Salary'\n",
    "    Id = Column(Integer, primary_key=True)\n",
    "    Employee_Id = Column(Integer, ForeignKey('Employee.id'))\n",
    "    Title = Column(String)\n",
    "    StartingDateOfEmployment = Column(Date)\n",
    "    EndingDateOfEmployment = Column(Date)\n",
    "    \n",
    "    Employee = relationship(\"Employee\", back_populates=\"Salary\")"
   ]
  },
  {
   "cell_type": "code",
   "execution_count": null,
   "id": "bc10c61f",
   "metadata": {},
   "outputs": [],
   "source": [
    "import sqlalchemy\n",
    "from sqlalchemy import create_engine, Column, Integer, String, Date, ForeignKey\n",
    "from sqlalchemy.ext.declarative import declarative_base\n",
    "from sqlalchemy.orm import relationship\n",
    "\n",
    "engine = create_engine('sqlite:///AiB-SQLite-db')\n",
    "Base = sqlalchemy.orm.declarative_base()\n",
    "\n",
    "class Salary(Base):\n",
    "    __tablename__ = 'Salary'\n",
    "    Id = Column(Integer, primary_key=True)\n",
    "    Employee_Id = Column(Integer, ForeignKey('Employee.id'))\n",
    "    Title = Column(String)\n",
    "    StartingDateOfEmployment = Column(Date)\n",
    "    EndingDateOfEmployment = Column(Date)\n",
    "    \n",
    "    Employee = relationship(\"Employee\", back_populates=\"Salary\")"
   ]
  },
  {
   "cell_type": "code",
   "execution_count": null,
   "id": "a2f4ab72",
   "metadata": {},
   "outputs": [],
   "source": [
    "class Employee(Base):\n",
    "    __tablename__ = 'Employee'\n",
    "    Id = Column(Integer, primary_key=True)\n",
    "    Name = Column(String)\n",
    "    Surname = Column(String)\n",
    "    Gender = Column(String)\n",
    "    StartingDateOfEmployment = Column(Date)\n",
    "    \n",
    "    Position = relationship(\"Position\")\n",
    "    Salary = relationship(\"Salary\")\n",
    "    Management = relationship(\"Management\")\n",
    "    EmploymentDepartment = relationship(\"EmploymentDepartment\")"
   ]
  },
  {
   "cell_type": "code",
   "execution_count": null,
   "id": "89a1c446",
   "metadata": {},
   "outputs": [],
   "source": [
    "Base.metadata.create_all(engine)"
   ]
  },
  {
   "cell_type": "code",
   "execution_count": null,
   "id": "af0ce292",
   "metadata": {},
   "outputs": [],
   "source": [
    "conn.commit()\n",
    "conn.close()"
   ]
  },
  {
   "cell_type": "code",
   "execution_count": null,
   "id": "0cc04c83",
   "metadata": {},
   "outputs": [],
   "source": [
    "import sqlite3\n",
    "\n",
    "conn = sqlite3.connect(\"AiB-SQLite-db\")\n",
    "\n",
    "cursor = conn.cursor()\n",
    "\n",
    "cursor.execute(\"SELECT Name FROM sqlite_master WHERE type='table'\")\n",
    "\n",
    "tables = cursor.fetchall()\n",
    "\n",
    "print(tables)"
   ]
  },
  {
   "cell_type": "code",
   "execution_count": null,
   "id": "0dc6707b",
   "metadata": {},
   "outputs": [],
   "source": [
    "conn.commit()\n",
    "conn.close()"
   ]
  },
  {
   "cell_type": "code",
   "execution_count": 1,
   "id": "8c66e3d2",
   "metadata": {},
   "outputs": [
    {
     "ename": "ModuleNotFoundError",
     "evalue": "No module named 'sqlite'",
     "output_type": "error",
     "traceback": [
      "\u001b[1;31m---------------------------------------------------------------------------\u001b[0m",
      "\u001b[1;31mModuleNotFoundError\u001b[0m                       Traceback (most recent call last)",
      "Cell \u001b[1;32mIn[1], line 1\u001b[0m\n\u001b[1;32m----> 1\u001b[0m \u001b[38;5;28;01mimport\u001b[39;00m \u001b[38;5;21;01msqlite\u001b[39;00m\n",
      "\u001b[1;31mModuleNotFoundError\u001b[0m: No module named 'sqlite'"
     ]
    }
   ],
   "source": [
    "import sqlite\n"
   ]
  },
  {
   "cell_type": "code",
   "execution_count": 2,
   "id": "639fc36c",
   "metadata": {},
   "outputs": [
    {
     "ename": "SyntaxError",
     "evalue": "invalid syntax (3841041794.py, line 1)",
     "output_type": "error",
     "traceback": [
      "\u001b[1;36m  Cell \u001b[1;32mIn[2], line 1\u001b[1;36m\u001b[0m\n\u001b[1;33m    import AiB-SQL-Script\u001b[0m\n\u001b[1;37m              ^\u001b[0m\n\u001b[1;31mSyntaxError\u001b[0m\u001b[1;31m:\u001b[0m invalid syntax\n"
     ]
    }
   ],
   "source": [
    "import AiB-SQL-Script"
   ]
  },
  {
   "cell_type": "code",
   "execution_count": 3,
   "id": "8b78f4e3",
   "metadata": {},
   "outputs": [
    {
     "ename": "SyntaxError",
     "evalue": "invalid syntax (396031080.py, line 1)",
     "output_type": "error",
     "traceback": [
      "\u001b[1;36m  Cell \u001b[1;32mIn[3], line 1\u001b[1;36m\u001b[0m\n\u001b[1;33m    import AiB-SQLite-db\u001b[0m\n\u001b[1;37m              ^\u001b[0m\n\u001b[1;31mSyntaxError\u001b[0m\u001b[1;31m:\u001b[0m invalid syntax\n"
     ]
    }
   ],
   "source": [
    "import AiB-SQLite-db\n"
   ]
  },
  {
   "cell_type": "code",
   "execution_count": 4,
   "id": "cf172545",
   "metadata": {},
   "outputs": [
    {
     "ename": "SyntaxError",
     "evalue": "invalid syntax (436667611.py, line 1)",
     "output_type": "error",
     "traceback": [
      "\u001b[1;36m  Cell \u001b[1;32mIn[4], line 1\u001b[1;36m\u001b[0m\n\u001b[1;33m    import \"slqlite\"\u001b[0m\n\u001b[1;37m           ^\u001b[0m\n\u001b[1;31mSyntaxError\u001b[0m\u001b[1;31m:\u001b[0m invalid syntax\n"
     ]
    }
   ],
   "source": [
    "import \"slqlite\""
   ]
  },
  {
   "cell_type": "code",
   "execution_count": 5,
   "id": "cbb88ffd",
   "metadata": {},
   "outputs": [
    {
     "ename": "SyntaxError",
     "evalue": "invalid syntax (1655839317.py, line 1)",
     "output_type": "error",
     "traceback": [
      "\u001b[1;36m  Cell \u001b[1;32mIn[5], line 1\u001b[1;36m\u001b[0m\n\u001b[1;33m    sqlite:///AiB-SQLite-db\u001b[0m\n\u001b[1;37m           ^\u001b[0m\n\u001b[1;31mSyntaxError\u001b[0m\u001b[1;31m:\u001b[0m invalid syntax\n"
     ]
    }
   ],
   "source": [
    "sqlite:///AiB-SQLite-db\n",
    "    "
   ]
  },
  {
   "cell_type": "code",
   "execution_count": 6,
   "id": "8b1a2716",
   "metadata": {},
   "outputs": [
    {
     "ename": "SyntaxError",
     "evalue": "invalid syntax (1773129439.py, line 1)",
     "output_type": "error",
     "traceback": [
      "\u001b[1;36m  Cell \u001b[1;32mIn[6], line 1\u001b[1;36m\u001b[0m\n\u001b[1;33m    import sqlite:///AiB-SQLite-db\u001b[0m\n\u001b[1;37m                 ^\u001b[0m\n\u001b[1;31mSyntaxError\u001b[0m\u001b[1;31m:\u001b[0m invalid syntax\n"
     ]
    }
   ],
   "source": [
    "import sqlite:///AiB-SQLite-db"
   ]
  },
  {
   "cell_type": "code",
   "execution_count": 7,
   "id": "1532cdaa",
   "metadata": {},
   "outputs": [],
   "source": [
    "import sqlite3\n",
    "\n",
    "conn = sqlite3.connect(\"AiB-SQLite-db\")"
   ]
  },
  {
   "cell_type": "code",
   "execution_count": 11,
   "id": "78db89fa",
   "metadata": {},
   "outputs": [
    {
     "data": {
      "text/plain": [
       "<sqlite3.Cursor at 0x1f8d3826ac0>"
      ]
     },
     "execution_count": 11,
     "metadata": {},
     "output_type": "execute_result"
    }
   ],
   "source": [
    "import sqlite3\n",
    "\n",
    "conn = sqlite3.connect(\"AiB-SQLite-db\")\n",
    "\n",
    "cursor = conn.cursor()\n",
    "\n",
    "cursor.execute(\"\"\"INSERT INTO EmploymentDepartment (id, Employee_Id, Department_Id, StartingDateOfEmployment, EndingDateOfEmployment) VALUES\n",
    "(1, 1, 1, '2022-01-01', '2022-06-30'),\n",
    "(2, 2, 1, '2022-02-15', '2022-07-14'),\n",
    "(3, 3, 1, '2022-03-01', '2022-08-31'),\n",
    "(4, 4, 1, '2022-04-01', '2022-09-30'),\n",
    "(5, 5, 1, '2022-05-15', '2022-10-14'),\n",
    "(6, 6, 2, '2022-06-01', '2022-12-31'),\n",
    "(7, 7, 2, '2022-07-01', '2022-01-14'),\n",
    "(8, 8, 2, '2022-08-15', '2022-02-28'),\n",
    "(9, 9, 2, '2022-09-01', '2022-03-31'),\n",
    "(10, 10, 2, '2022-10-01', '2022-06-30'),\n",
    "(11, 1, 3, '2022-11-01', '2022-05-14'),\n",
    "(13, 3, 3, '2023-01-01', '2022-06-30'),\n",
    "(14, 4, 3, '2023-02-01', '2022-07-31'),\n",
    "(15, 5, 3, '2023-03-15', '2022-08-14'),\n",
    "(16, 6, 1, '2023-04-01', '2022-09-30'),\n",
    "(17, 7, 1, '2023-05-01', '2022-10-31'),\n",
    "(18, 8, 1, '2023-06-15', '2024-11-14'),\n",
    "(19, 9, 1, '2023-07-01', '2023-12-31'),\n",
    "(20, 10, 1, '2023-08-01', '2024-01-31');\"\"\")\n",
    "\n"
   ]
  },
  {
   "cell_type": "code",
   "execution_count": 19,
   "id": "dbd631ff",
   "metadata": {},
   "outputs": [
    {
     "name": "stdout",
     "output_type": "stream",
     "text": [
      "[(1, 1, 1, '2022-01-01', '2022-06-30'), (2, 2, 1, '2022-02-15', '2022-07-14'), (3, 3, 1, '2022-03-01', '2022-08-31'), (4, 4, 1, '2022-04-01', '2022-09-30'), (5, 5, 1, '2022-05-15', '2022-10-14'), (6, 6, 2, '2022-06-01', '2022-12-31'), (7, 7, 2, '2022-07-01', '2022-01-14'), (8, 8, 2, '2022-08-15', '2022-02-28'), (9, 9, 2, '2022-09-01', '2022-03-31'), (10, 10, 2, '2022-10-01', '2022-06-30'), (11, 1, 3, '2022-11-01', '2022-05-14'), (13, 3, 3, '2023-01-01', '2022-06-30'), (14, 4, 3, '2023-02-01', '2022-07-31'), (15, 5, 3, '2023-03-15', '2022-08-14'), (16, 6, 1, '2023-04-01', '2022-09-30'), (17, 7, 1, '2023-05-01', '2022-10-31'), (18, 8, 1, '2023-06-15', '2024-11-14'), (19, 9, 1, '2023-07-01', '2023-12-31'), (20, 10, 1, '2023-08-01', '2024-01-31')]\n"
     ]
    }
   ],
   "source": [
    "cursor.execute(\"SELECT * FROM EmploymentDepartment\")\n",
    "\n",
    "tables = cursor.fetchall()\n",
    "\n",
    "print(tables)\n"
   ]
  },
  {
   "cell_type": "markdown",
   "id": "b65ef733",
   "metadata": {},
   "source": [
    "conn.commit()\n",
    "\n",
    "conn.close()"
   ]
  },
  {
   "cell_type": "code",
   "execution_count": 20,
   "id": "512382f9",
   "metadata": {},
   "outputs": [],
   "source": [
    "conn.commit()\n",
    "\n",
    "conn.close()"
   ]
  },
  {
   "cell_type": "code",
   "execution_count": null,
   "id": "2d2d4a8e",
   "metadata": {},
   "outputs": [],
   "source": []
  }
 ],
 "metadata": {
  "kernelspec": {
   "display_name": "Python 3 (ipykernel)",
   "language": "python",
   "name": "python3"
  },
  "language_info": {
   "codemirror_mode": {
    "name": "ipython",
    "version": 3
   },
   "file_extension": ".py",
   "mimetype": "text/x-python",
   "name": "python",
   "nbconvert_exporter": "python",
   "pygments_lexer": "ipython3",
   "version": "3.11.7"
  },
  "widgets": {
   "application/vnd.jupyter.widget-state+json": {
    "state": {},
    "version_major": 2,
    "version_minor": 0
   }
  }
 },
 "nbformat": 4,
 "nbformat_minor": 5
}
